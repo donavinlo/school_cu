{
 "cells": [
  {
   "cell_type": "code",
   "execution_count": 1,
   "metadata": {},
   "outputs": [],
   "source": [
    "import json\n",
    "import configparser\n",
    "import time\n",
    "import tweepy\n",
    "import pandas as pd\n",
    "\n",
    "#use % to install packages instead of !. %keeps it within the ennviroment"
   ]
  },
  {
   "cell_type": "markdown",
   "metadata": {},
   "source": [
    "# Lemmatization\n",
    "\n",
    "Lemmatization explanation can be found here https://www.machinelearningplus.com/nlp/lemmatization-examples-python/\n",
    "\n",
    "https://spacy.io/usage/linguistic-features (Spacy)\n",
    "\n",
    "Spacy hashtag issuehttps://stackoverflow.com/questions/43388476/how-could-spacy-tokenize-hashtag-as-a-whole\n",
    "\n",
    "spacy with this specific dataset https://towardsdatascience.com/pre-processing-should-extract-context-specific-features-4d01f6669a7e"
   ]
  },
  {
   "cell_type": "code",
   "execution_count": null,
   "metadata": {},
   "outputs": [],
   "source": [
    "def lemmatize(text):\n",
    "    \"\"\"Lemmatize the tokens.\n",
    "    \n",
    "    Retains more natural word forms than stemming, but assumes all\n",
    "    tokens are nouns unless tokens are passed as (word, pos) tuples.\n",
    "    \"\"\"\n",
    "    text = text.lower()\n",
    "    lemmas = []\n",
    "    tweet = nlp(text)\n",
    "\n",
    "    for token in tweet:\n",
    "      lemmas.append(token.lemma_)\n",
    "    return lemmas\n",
    "    \n",
    "def remove_stopwords(tokens):\n",
    "    \"\"\"Remove stopwords, i.e. words that we don't want as part of our\n",
    "    analysis. Defaults to the default set of nltk english stopwords.\n",
    "    \"\"\"   \n",
    "    return [ token for token in tokens if token not in stopwords ]\n",
    "\n",
    "def remove_links(tokens):\n",
    "    \"\"\"Removes http/s links from the tokens.\n",
    "\n",
    "    This simple implementation assumes links have been kept intact as whole\n",
    "    tokens. E.g. the way the Tweet Tokenizer works.\n",
    "    \"\"\"\n",
    "    return [ t for t in tokens\n",
    "            if not t.startswith(\"http://\")\n",
    "            and not t.startswith(\"https://\")\n",
    "        ]\n",
    "\n",
    "def remove_punctuation(tokens):\n",
    "    \"\"\"Remove punctuation from a list of tokens.\n",
    "\n",
    "    #Note: Not looking to remove mentions as accounts mentioned can relate to \n",
    "    whether a tweet is about an actual disaster\n",
    "    \"\"\"\n",
    "    tokens = [t for t in tokens if t not in string.punctuation]\n",
    "    return tokens\n",
    "\n",
    "def clean_tweet(text):\n",
    "  \"\"\"\n",
    "  clean a tweet using our helper functions\n",
    "  \"\"\"\n",
    "  tokens = lemmatize(text)\n",
    "  tokens = remove_links(tokens)\n",
    "  tokens = remove_stopwords(tokens)\n",
    "  tokens = remove_punctuation(tokens)\n",
    "  text = \" \".join(tokens)\n",
    "  return text"
   ]
  },
  {
   "cell_type": "markdown",
   "metadata": {},
   "source": [
    "# Setting up configuration to collect data\n",
    "\n",
    "Attributes of a tweet -> https://developer.twitter.com/en/docs/twitter-api/v1/tweets/timelines/api-reference/get-statuses-home_timeline\n"
   ]
  },
  {
   "cell_type": "code",
   "execution_count": 3,
   "metadata": {},
   "outputs": [],
   "source": [
    "#Secure Authentication\n",
    "config = configparser.ConfigParser()\n",
    "config.read(\"config.ini\")\n",
    "API_KEY = config['twitter_api']['api_key']\n",
    "API_SECRET = config['twitter_api']['api_secret']\n",
    "ACCESS_TOKEN = config['twitter_api']['access_token']\n",
    "ACCESS_TOKEN_SECRET = config['twitter_api']['access_token_secret']"
   ]
  },
  {
   "cell_type": "code",
   "execution_count": 4,
   "metadata": {},
   "outputs": [],
   "source": [
    "auth = tweepy.OAuthHandler(API_KEY, API_SECRET)\n",
    "auth.set_access_token(ACCESS_TOKEN, ACCESS_TOKEN_SECRET)\n",
    "api = tweepy.API(auth)"
   ]
  },
  {
   "cell_type": "code",
   "execution_count": 5,
   "metadata": {},
   "outputs": [],
   "source": [
    "#Get tweets that I or people I follow tweeted\n",
    "public_tweets = api.home_timeline()"
   ]
  },
  {
   "cell_type": "code",
   "execution_count": 6,
   "metadata": {},
   "outputs": [
    {
     "name": "stdout",
     "output_type": "stream",
     "text": [
      "C_Wibz\n",
      "RT @ViciousVideos: https://t.co/MFtv7rJTpL\n"
     ]
    }
   ],
   "source": [
    "print(public_tweets[0].user.screen_name)\n",
    "print(public_tweets[0].text)"
   ]
  },
  {
   "cell_type": "code",
   "execution_count": 7,
   "metadata": {},
   "outputs": [],
   "source": [
    "# Saving Data to CSV\n",
    "\n",
    "columns = [\"Time\", \"User\", \"Tweet\"]\n",
    "data = []\n",
    "for tweet in public_tweets:\n",
    "    data.append([tweet.created_at, tweet.user.screen_name, tweet.text])"
   ]
  },
  {
   "cell_type": "code",
   "execution_count": 8,
   "metadata": {},
   "outputs": [
    {
     "name": "stdout",
     "output_type": "stream",
     "text": [
      "[datetime.datetime(2022, 8, 26, 20, 38, 37, tzinfo=datetime.timezone.utc), 'C_Wibz', 'RT @ViciousVideos: https://t.co/MFtv7rJTpL']\n"
     ]
    }
   ],
   "source": [
    "print(data[0])"
   ]
  },
  {
   "cell_type": "code",
   "execution_count": 10,
   "metadata": {},
   "outputs": [],
   "source": [
    "df = pd.DataFrame(data, columns=columns)"
   ]
  },
  {
   "cell_type": "code",
   "execution_count": 11,
   "metadata": {},
   "outputs": [
    {
     "name": "stdout",
     "output_type": "stream",
     "text": [
      "                        Time             User  \\\n",
      "0  2022-08-26 20:38:37+00:00           C_Wibz   \n",
      "1  2022-08-26 20:36:41+00:00     J_Johnson300   \n",
      "2  2022-08-26 20:30:45+00:00     J_Johnson300   \n",
      "3  2022-08-26 20:27:50+00:00      jadigalous_   \n",
      "4  2022-08-26 20:26:06+00:00        UberFacts   \n",
      "5  2022-08-26 20:21:16+00:00          ESPNCFB   \n",
      "6  2022-08-26 20:15:04+00:00  _endlessloyalty   \n",
      "7  2022-08-26 20:09:25+00:00        Zack_Carp   \n",
      "8  2022-08-26 20:02:00+00:00             odsc   \n",
      "9  2022-08-26 20:01:26+00:00      taylorbang_   \n",
      "10 2022-08-26 20:00:27+00:00      multiversus   \n",
      "11 2022-08-26 20:00:18+00:00      CoachK_Hall   \n",
      "12 2022-08-26 19:59:18+00:00      jadigalous_   \n",
      "13 2022-08-26 19:57:54+00:00      jadigalous_   \n",
      "14 2022-08-26 19:55:15+00:00  SupremeDreams_1   \n",
      "15 2022-08-26 19:51:00+00:00        UberFacts   \n",
      "16 2022-08-26 19:50:30+00:00  SupremeDreams_1   \n",
      "17 2022-08-26 19:47:31+00:00      Mr_Clutch30   \n",
      "18 2022-08-26 19:45:10+00:00  randon_moore123   \n",
      "19 2022-08-26 19:40:07+00:00       Zellconway   \n",
      "\n",
      "                                                Tweet  \n",
      "0          RT @ViciousVideos: https://t.co/MFtv7rJTpL  \n",
      "1   RT @ChadACDP: I hope that the @JGfortwayne, @w...  \n",
      "2   RT @DreadHeadSmooky: @JaayHustle That’s anywhe...  \n",
      "3   This is the super bowl match up. They shouldn’...  \n",
      "4   Forswunk (adj.):\\n\\nTotally exhausted from wor...  \n",
      "5   RT @PeteThamel: Statement from FAMU coach Will...  \n",
      "6   My head already hurting from all this studying...  \n",
      "7   RT @Rivals: 🏈NEBRASKA🌽\\n\\nYesterday the Cornhu...  \n",
      "8   Churn is a common data science problem. Learn ...  \n",
      "9   I decide imma decorate inside and outside for ...  \n",
      "10  RT @Tony_Huynh: Short hop aerials dropped inpu...  \n",
      "11  RT @SMUFB: Presenting your 2022 Team Captains!...  \n",
      "12  RT @thaboyjozu: This shit got me crying https:...  \n",
      "13  Somehow the game gone catch hell for this http...  \n",
      "14  That last one was really uncalled for 💀 writer...  \n",
      "15  People tend to overestimate how good they are ...  \n",
      "16  Not including me Dylan and desmond if includin...  \n",
      "17  RT @BallySportsCLE: Nothing quite like high sc...  \n",
      "18        Boosie is hilarious https://t.co/4txtmHEvZy  \n",
      "19                 RT @Kameron_Hay: Podcast is cooked  \n"
     ]
    }
   ],
   "source": [
    "print(df)"
   ]
  },
  {
   "cell_type": "code",
   "execution_count": 48,
   "metadata": {},
   "outputs": [],
   "source": [
    "#q is just the words we type to search\n",
    "tweets = tweepy.Cursor(api.search_tweets, q=\"Aaron+Rodgers OR @AaronRodgers12 -is:retweet\", \n",
    "lang=\"en\", tweet_mode=\"extended\").items(2)"
   ]
  },
  {
   "cell_type": "code",
   "execution_count": 71,
   "metadata": {},
   "outputs": [],
   "source": [
    "tweets = tweepy.Cursor(api.search_full_archive, label=\"test\",query=\"Aaron+Rodgers OR @AaronRodgers12 -is:retweet lang:en\", \n",
    "fromDate='202207010000', toDate=\"202207260000\" ).items(2)"
   ]
  },
  {
   "cell_type": "code",
   "execution_count": 72,
   "metadata": {},
   "outputs": [
    {
     "ename": "HTTPException",
     "evalue": "422 Unprocessable Entity\nThere were errors processing your request: Reference to invalid operator 'is:retweet'. Operator is not available in current product or product packaging. Please refer to complete available operator list at http://t.co/operators. (at position 38)",
     "output_type": "error",
     "traceback": [
      "\u001b[0;31m---------------------------------------------------------------------------\u001b[0m",
      "\u001b[0;31mHTTPException\u001b[0m                             Traceback (most recent call last)",
      "\u001b[1;32m/Users/donavin/Documents/GitHub/python_notes/twitter/ex.ipynb Cell 13\u001b[0m in \u001b[0;36m<cell line: 1>\u001b[0;34m()\u001b[0m\n\u001b[0;32m----> <a href='vscode-notebook-cell:/Users/donavin/Documents/GitHub/python_notes/twitter/ex.ipynb#X14sZmlsZQ%3D%3D?line=0'>1</a>\u001b[0m list_tweets \u001b[39m=\u001b[39m [tweet \u001b[39mfor\u001b[39;00m tweet \u001b[39min\u001b[39;00m tweets]\n",
      "\u001b[1;32m/Users/donavin/Documents/GitHub/python_notes/twitter/ex.ipynb Cell 13\u001b[0m in \u001b[0;36m<listcomp>\u001b[0;34m(.0)\u001b[0m\n\u001b[0;32m----> <a href='vscode-notebook-cell:/Users/donavin/Documents/GitHub/python_notes/twitter/ex.ipynb#X14sZmlsZQ%3D%3D?line=0'>1</a>\u001b[0m list_tweets \u001b[39m=\u001b[39m [tweet \u001b[39mfor\u001b[39;00m tweet \u001b[39min\u001b[39;00m tweets]\n",
      "File \u001b[0;32m/Library/Frameworks/Python.framework/Versions/3.9/lib/python3.9/site-packages/tweepy/cursor.py:86\u001b[0m, in \u001b[0;36mBaseIterator.__next__\u001b[0;34m(self)\u001b[0m\n\u001b[1;32m     85\u001b[0m \u001b[39mdef\u001b[39;00m \u001b[39m__next__\u001b[39m(\u001b[39mself\u001b[39m):\n\u001b[0;32m---> 86\u001b[0m     \u001b[39mreturn\u001b[39;00m \u001b[39mself\u001b[39;49m\u001b[39m.\u001b[39;49mnext()\n",
      "File \u001b[0;32m/Library/Frameworks/Python.framework/Versions/3.9/lib/python3.9/site-packages/tweepy/cursor.py:286\u001b[0m, in \u001b[0;36mItemIterator.next\u001b[0;34m(self)\u001b[0m\n\u001b[1;32m    283\u001b[0m     \u001b[39mraise\u001b[39;00m \u001b[39mStopIteration\u001b[39;00m\n\u001b[1;32m    284\u001b[0m \u001b[39mif\u001b[39;00m \u001b[39mself\u001b[39m\u001b[39m.\u001b[39mcurrent_page \u001b[39mis\u001b[39;00m \u001b[39mNone\u001b[39;00m \u001b[39mor\u001b[39;00m \u001b[39mself\u001b[39m\u001b[39m.\u001b[39mpage_index \u001b[39m==\u001b[39m \u001b[39mlen\u001b[39m(\u001b[39mself\u001b[39m\u001b[39m.\u001b[39mcurrent_page) \u001b[39m-\u001b[39m \u001b[39m1\u001b[39m:\n\u001b[1;32m    285\u001b[0m     \u001b[39m# Reached end of current page, get the next page...\u001b[39;00m\n\u001b[0;32m--> 286\u001b[0m     \u001b[39mself\u001b[39m\u001b[39m.\u001b[39mcurrent_page \u001b[39m=\u001b[39m \u001b[39mnext\u001b[39;49m(\u001b[39mself\u001b[39;49m\u001b[39m.\u001b[39;49mpage_iterator)\n\u001b[1;32m    287\u001b[0m     \u001b[39mwhile\u001b[39;00m \u001b[39mlen\u001b[39m(\u001b[39mself\u001b[39m\u001b[39m.\u001b[39mcurrent_page) \u001b[39m==\u001b[39m \u001b[39m0\u001b[39m:\n\u001b[1;32m    288\u001b[0m         \u001b[39mself\u001b[39m\u001b[39m.\u001b[39mcurrent_page \u001b[39m=\u001b[39m \u001b[39mnext\u001b[39m(\u001b[39mself\u001b[39m\u001b[39m.\u001b[39mpage_iterator)\n",
      "File \u001b[0;32m/Library/Frameworks/Python.framework/Versions/3.9/lib/python3.9/site-packages/tweepy/cursor.py:86\u001b[0m, in \u001b[0;36mBaseIterator.__next__\u001b[0;34m(self)\u001b[0m\n\u001b[1;32m     85\u001b[0m \u001b[39mdef\u001b[39;00m \u001b[39m__next__\u001b[39m(\u001b[39mself\u001b[39m):\n\u001b[0;32m---> 86\u001b[0m     \u001b[39mreturn\u001b[39;00m \u001b[39mself\u001b[39;49m\u001b[39m.\u001b[39;49mnext()\n",
      "File \u001b[0;32m/Library/Frameworks/Python.framework/Versions/3.9/lib/python3.9/site-packages/tweepy/cursor.py:260\u001b[0m, in \u001b[0;36mNextIterator.next\u001b[0;34m(self)\u001b[0m\n\u001b[1;32m    258\u001b[0m \u001b[39mif\u001b[39;00m \u001b[39mself\u001b[39m\u001b[39m.\u001b[39mnext_token \u001b[39m==\u001b[39m \u001b[39m-\u001b[39m\u001b[39m1\u001b[39m \u001b[39mor\u001b[39;00m \u001b[39mself\u001b[39m\u001b[39m.\u001b[39mpage_count \u001b[39m>\u001b[39m\u001b[39m=\u001b[39m \u001b[39mself\u001b[39m\u001b[39m.\u001b[39mlimit:\n\u001b[1;32m    259\u001b[0m     \u001b[39mraise\u001b[39;00m \u001b[39mStopIteration\u001b[39;00m\n\u001b[0;32m--> 260\u001b[0m data \u001b[39m=\u001b[39m \u001b[39mself\u001b[39;49m\u001b[39m.\u001b[39;49mmethod(\u001b[39mnext\u001b[39;49m\u001b[39m=\u001b[39;49m\u001b[39mself\u001b[39;49m\u001b[39m.\u001b[39;49mnext_token, return_cursors\u001b[39m=\u001b[39;49m\u001b[39mTrue\u001b[39;49;00m, \u001b[39m*\u001b[39;49m\u001b[39mself\u001b[39;49m\u001b[39m.\u001b[39;49margs, \u001b[39m*\u001b[39;49m\u001b[39m*\u001b[39;49m\u001b[39mself\u001b[39;49m\u001b[39m.\u001b[39;49mkwargs)\n\u001b[1;32m    261\u001b[0m \u001b[39mself\u001b[39m\u001b[39m.\u001b[39mpage_count \u001b[39m+\u001b[39m\u001b[39m=\u001b[39m \u001b[39m1\u001b[39m\n\u001b[1;32m    262\u001b[0m \u001b[39mif\u001b[39;00m \u001b[39misinstance\u001b[39m(data, \u001b[39mtuple\u001b[39m):\n",
      "File \u001b[0;32m/Library/Frameworks/Python.framework/Versions/3.9/lib/python3.9/site-packages/tweepy/api.py:33\u001b[0m, in \u001b[0;36mpagination.<locals>.decorator.<locals>.wrapper\u001b[0;34m(*args, **kwargs)\u001b[0m\n\u001b[1;32m     31\u001b[0m \u001b[39m@functools\u001b[39m\u001b[39m.\u001b[39mwraps(method)\n\u001b[1;32m     32\u001b[0m \u001b[39mdef\u001b[39;00m \u001b[39mwrapper\u001b[39m(\u001b[39m*\u001b[39margs, \u001b[39m*\u001b[39m\u001b[39m*\u001b[39mkwargs):\n\u001b[0;32m---> 33\u001b[0m     \u001b[39mreturn\u001b[39;00m method(\u001b[39m*\u001b[39;49margs, \u001b[39m*\u001b[39;49m\u001b[39m*\u001b[39;49mkwargs)\n",
      "File \u001b[0;32m/Library/Frameworks/Python.framework/Versions/3.9/lib/python3.9/site-packages/tweepy/api.py:46\u001b[0m, in \u001b[0;36mpayload.<locals>.decorator.<locals>.wrapper\u001b[0;34m(*args, **kwargs)\u001b[0m\n\u001b[1;32m     44\u001b[0m kwargs[\u001b[39m'\u001b[39m\u001b[39mpayload_list\u001b[39m\u001b[39m'\u001b[39m] \u001b[39m=\u001b[39m payload_list\n\u001b[1;32m     45\u001b[0m kwargs[\u001b[39m'\u001b[39m\u001b[39mpayload_type\u001b[39m\u001b[39m'\u001b[39m] \u001b[39m=\u001b[39m payload_type\n\u001b[0;32m---> 46\u001b[0m \u001b[39mreturn\u001b[39;00m method(\u001b[39m*\u001b[39;49margs, \u001b[39m*\u001b[39;49m\u001b[39m*\u001b[39;49mkwargs)\n",
      "File \u001b[0;32m/Library/Frameworks/Python.framework/Versions/3.9/lib/python3.9/site-packages/tweepy/api.py:447\u001b[0m, in \u001b[0;36mAPI.search_full_archive\u001b[0;34m(self, label, query, **kwargs)\u001b[0m\n\u001b[1;32m    369\u001b[0m \u001b[39m@pagination\u001b[39m(mode\u001b[39m=\u001b[39m\u001b[39m'\u001b[39m\u001b[39mnext\u001b[39m\u001b[39m'\u001b[39m)\n\u001b[1;32m    370\u001b[0m \u001b[39m@payload\u001b[39m(\u001b[39m'\u001b[39m\u001b[39mstatus\u001b[39m\u001b[39m'\u001b[39m, \u001b[39mlist\u001b[39m\u001b[39m=\u001b[39m\u001b[39mTrue\u001b[39;00m)\n\u001b[1;32m    371\u001b[0m \u001b[39mdef\u001b[39;00m \u001b[39msearch_full_archive\u001b[39m(\u001b[39mself\u001b[39m, label, query, \u001b[39m*\u001b[39m\u001b[39m*\u001b[39mkwargs):\n\u001b[1;32m    372\u001b[0m     \u001b[39m\"\"\"search_full_archive(label, query, *, tag, fromDate, toDate, \\\u001b[39;00m\n\u001b[1;32m    373\u001b[0m \u001b[39m                           maxResults, next)\u001b[39;00m\n\u001b[1;32m    374\u001b[0m \n\u001b[0;32m   (...)\u001b[0m\n\u001b[1;32m    445\u001b[0m \u001b[39m    https://developer.twitter.com/en/docs/twitter-api/premium/search-api/api-reference/premium-search\u001b[39;00m\n\u001b[1;32m    446\u001b[0m \u001b[39m    \"\"\"\u001b[39;00m\n\u001b[0;32m--> 447\u001b[0m     \u001b[39mreturn\u001b[39;00m \u001b[39mself\u001b[39;49m\u001b[39m.\u001b[39;49mrequest(\n\u001b[1;32m    448\u001b[0m         \u001b[39m'\u001b[39;49m\u001b[39mGET\u001b[39;49m\u001b[39m'\u001b[39;49m, \u001b[39mf\u001b[39;49m\u001b[39m'\u001b[39;49m\u001b[39mtweets/search/fullarchive/\u001b[39;49m\u001b[39m{\u001b[39;49;00mlabel\u001b[39m}\u001b[39;49;00m\u001b[39m'\u001b[39;49m, endpoint_parameters\u001b[39m=\u001b[39;49m(\n\u001b[1;32m    449\u001b[0m             \u001b[39m'\u001b[39;49m\u001b[39mquery\u001b[39;49m\u001b[39m'\u001b[39;49m, \u001b[39m'\u001b[39;49m\u001b[39mtag\u001b[39;49m\u001b[39m'\u001b[39;49m, \u001b[39m'\u001b[39;49m\u001b[39mfromDate\u001b[39;49m\u001b[39m'\u001b[39;49m, \u001b[39m'\u001b[39;49m\u001b[39mtoDate\u001b[39;49m\u001b[39m'\u001b[39;49m, \u001b[39m'\u001b[39;49m\u001b[39mmaxResults\u001b[39;49m\u001b[39m'\u001b[39;49m, \u001b[39m'\u001b[39;49m\u001b[39mnext\u001b[39;49m\u001b[39m'\u001b[39;49m\n\u001b[1;32m    450\u001b[0m         ), query\u001b[39m=\u001b[39;49mquery, \u001b[39m*\u001b[39;49m\u001b[39m*\u001b[39;49mkwargs\n\u001b[1;32m    451\u001b[0m     )\n",
      "File \u001b[0;32m/Library/Frameworks/Python.framework/Versions/3.9/lib/python3.9/site-packages/tweepy/api.py:267\u001b[0m, in \u001b[0;36mAPI.request\u001b[0;34m(self, method, endpoint, endpoint_parameters, params, headers, json_payload, parser, payload_list, payload_type, post_data, files, require_auth, return_cursors, upload_api, use_cache, **kwargs)\u001b[0m\n\u001b[1;32m    265\u001b[0m     \u001b[39mraise\u001b[39;00m TwitterServerError(resp)\n\u001b[1;32m    266\u001b[0m \u001b[39mif\u001b[39;00m resp\u001b[39m.\u001b[39mstatus_code \u001b[39mand\u001b[39;00m \u001b[39mnot\u001b[39;00m \u001b[39m200\u001b[39m \u001b[39m<\u001b[39m\u001b[39m=\u001b[39m resp\u001b[39m.\u001b[39mstatus_code \u001b[39m<\u001b[39m \u001b[39m300\u001b[39m:\n\u001b[0;32m--> 267\u001b[0m     \u001b[39mraise\u001b[39;00m HTTPException(resp)\n\u001b[1;32m    269\u001b[0m \u001b[39m# Parse the response payload\u001b[39;00m\n\u001b[1;32m    270\u001b[0m return_cursors \u001b[39m=\u001b[39m return_cursors \u001b[39mor\u001b[39;00m \u001b[39m'\u001b[39m\u001b[39mcursor\u001b[39m\u001b[39m'\u001b[39m \u001b[39min\u001b[39;00m params \u001b[39mor\u001b[39;00m \u001b[39m'\u001b[39m\u001b[39mnext\u001b[39m\u001b[39m'\u001b[39m \u001b[39min\u001b[39;00m params\n",
      "\u001b[0;31mHTTPException\u001b[0m: 422 Unprocessable Entity\nThere were errors processing your request: Reference to invalid operator 'is:retweet'. Operator is not available in current product or product packaging. Please refer to complete available operator list at http://t.co/operators. (at position 38)"
     ]
    }
   ],
   "source": [
    "list_tweets = [tweet for tweet in tweets]"
   ]
  },
  {
   "cell_type": "markdown",
   "metadata": {},
   "source": [
    "# Looking at tweet json structure and what I need to pull\n",
    "- `id_str`\n",
    "- `full_text`\n",
    "- `entities` #to get this informatio look at the tweet example below\n",
    "    - `user_mentions`\n",
    "        -`screen_name`\n",
    "        - `id_str`\n",
    "    - `user` #info about the person who tweeted it\n",
    "        -  `id_str`\n",
    "        -  `screen_name`\n",
    "        "
   ]
  },
  {
   "cell_type": "code",
   "execution_count": 50,
   "metadata": {},
   "outputs": [
    {
     "data": {
      "text/plain": [
       "Status(_api=<tweepy.api.API object at 0x7fcdac283700>, _json={'created_at': 'Fri Aug 26 22:13:00 +0000 2022', 'id': 1563288427252137984, 'id_str': '1563288427252137984', 'full_text': 'Aaron Rodgers complimented Jordan Love, his likely heir-apparent. He’s already better than Brett Favre at that, at least.\\nhttps://t.co/MhMNAy7dNT', 'truncated': False, 'display_text_range': [0, 145], 'entities': {'hashtags': [], 'symbols': [], 'user_mentions': [], 'urls': [{'url': 'https://t.co/MhMNAy7dNT', 'expanded_url': 'https://fansided.com/2022/08/26/aaron-rodgers-jordan-love-mentor-packers/?a_aid=45978', 'display_url': 'fansided.com/2022/08/26/aar…', 'indices': [122, 145]}]}, 'metadata': {'iso_language_code': 'en', 'result_type': 'recent'}, 'source': '<a href=\"https://about.twitter.com/products/tweetdeck\" rel=\"nofollow\">TweetDeck</a>', 'in_reply_to_status_id': None, 'in_reply_to_status_id_str': None, 'in_reply_to_user_id': None, 'in_reply_to_user_id_str': None, 'in_reply_to_screen_name': None, 'user': {'id': 466105734, 'id_str': '466105734', 'name': 'FanSided NFL', 'screen_name': 'FanSidedNFL', 'location': '', 'description': 'NFL content from @FanSided', 'url': 'https://t.co/3uTg2o8Cs6', 'entities': {'url': {'urls': [{'url': 'https://t.co/3uTg2o8Cs6', 'expanded_url': 'http://fansided.com/nfl', 'display_url': 'fansided.com/nfl', 'indices': [0, 23]}]}, 'description': {'urls': []}}, 'protected': False, 'followers_count': 5159, 'friends_count': 464, 'listed_count': 125, 'created_at': 'Tue Jan 17 02:19:16 +0000 2012', 'favourites_count': 191, 'utc_offset': None, 'time_zone': None, 'geo_enabled': False, 'verified': True, 'statuses_count': 76616, 'lang': None, 'contributors_enabled': False, 'is_translator': False, 'is_translation_enabled': False, 'profile_background_color': '000000', 'profile_background_image_url': 'http://abs.twimg.com/images/themes/theme1/bg.png', 'profile_background_image_url_https': 'https://abs.twimg.com/images/themes/theme1/bg.png', 'profile_background_tile': True, 'profile_image_url': 'http://pbs.twimg.com/profile_images/883469039984549888/An2gj3DV_normal.jpg', 'profile_image_url_https': 'https://pbs.twimg.com/profile_images/883469039984549888/An2gj3DV_normal.jpg', 'profile_banner_url': 'https://pbs.twimg.com/profile_banners/466105734/1573421691', 'profile_link_color': '0B304F', 'profile_sidebar_border_color': 'C0DEED', 'profile_sidebar_fill_color': 'DDEEF6', 'profile_text_color': '333333', 'profile_use_background_image': True, 'has_extended_profile': False, 'default_profile': False, 'default_profile_image': False, 'following': False, 'follow_request_sent': False, 'notifications': False, 'translator_type': 'none', 'withheld_in_countries': []}, 'geo': None, 'coordinates': None, 'place': None, 'contributors': None, 'is_quote_status': False, 'retweet_count': 0, 'favorite_count': 0, 'favorited': False, 'retweeted': False, 'possibly_sensitive': False, 'lang': 'en'}, created_at=datetime.datetime(2022, 8, 26, 22, 13, tzinfo=datetime.timezone.utc), id=1563288427252137984, id_str='1563288427252137984', full_text='Aaron Rodgers complimented Jordan Love, his likely heir-apparent. He’s already better than Brett Favre at that, at least.\\nhttps://t.co/MhMNAy7dNT', truncated=False, display_text_range=[0, 145], entities={'hashtags': [], 'symbols': [], 'user_mentions': [], 'urls': [{'url': 'https://t.co/MhMNAy7dNT', 'expanded_url': 'https://fansided.com/2022/08/26/aaron-rodgers-jordan-love-mentor-packers/?a_aid=45978', 'display_url': 'fansided.com/2022/08/26/aar…', 'indices': [122, 145]}]}, metadata={'iso_language_code': 'en', 'result_type': 'recent'}, source='TweetDeck', source_url='https://about.twitter.com/products/tweetdeck', in_reply_to_status_id=None, in_reply_to_status_id_str=None, in_reply_to_user_id=None, in_reply_to_user_id_str=None, in_reply_to_screen_name=None, author=User(_api=<tweepy.api.API object at 0x7fcdac283700>, _json={'id': 466105734, 'id_str': '466105734', 'name': 'FanSided NFL', 'screen_name': 'FanSidedNFL', 'location': '', 'description': 'NFL content from @FanSided', 'url': 'https://t.co/3uTg2o8Cs6', 'entities': {'url': {'urls': [{'url': 'https://t.co/3uTg2o8Cs6', 'expanded_url': 'http://fansided.com/nfl', 'display_url': 'fansided.com/nfl', 'indices': [0, 23]}]}, 'description': {'urls': []}}, 'protected': False, 'followers_count': 5159, 'friends_count': 464, 'listed_count': 125, 'created_at': 'Tue Jan 17 02:19:16 +0000 2012', 'favourites_count': 191, 'utc_offset': None, 'time_zone': None, 'geo_enabled': False, 'verified': True, 'statuses_count': 76616, 'lang': None, 'contributors_enabled': False, 'is_translator': False, 'is_translation_enabled': False, 'profile_background_color': '000000', 'profile_background_image_url': 'http://abs.twimg.com/images/themes/theme1/bg.png', 'profile_background_image_url_https': 'https://abs.twimg.com/images/themes/theme1/bg.png', 'profile_background_tile': True, 'profile_image_url': 'http://pbs.twimg.com/profile_images/883469039984549888/An2gj3DV_normal.jpg', 'profile_image_url_https': 'https://pbs.twimg.com/profile_images/883469039984549888/An2gj3DV_normal.jpg', 'profile_banner_url': 'https://pbs.twimg.com/profile_banners/466105734/1573421691', 'profile_link_color': '0B304F', 'profile_sidebar_border_color': 'C0DEED', 'profile_sidebar_fill_color': 'DDEEF6', 'profile_text_color': '333333', 'profile_use_background_image': True, 'has_extended_profile': False, 'default_profile': False, 'default_profile_image': False, 'following': False, 'follow_request_sent': False, 'notifications': False, 'translator_type': 'none', 'withheld_in_countries': []}, id=466105734, id_str='466105734', name='FanSided NFL', screen_name='FanSidedNFL', location='', description='NFL content from @FanSided', url='https://t.co/3uTg2o8Cs6', entities={'url': {'urls': [{'url': 'https://t.co/3uTg2o8Cs6', 'expanded_url': 'http://fansided.com/nfl', 'display_url': 'fansided.com/nfl', 'indices': [0, 23]}]}, 'description': {'urls': []}}, protected=False, followers_count=5159, friends_count=464, listed_count=125, created_at=datetime.datetime(2012, 1, 17, 2, 19, 16, tzinfo=datetime.timezone.utc), favourites_count=191, utc_offset=None, time_zone=None, geo_enabled=False, verified=True, statuses_count=76616, lang=None, contributors_enabled=False, is_translator=False, is_translation_enabled=False, profile_background_color='000000', profile_background_image_url='http://abs.twimg.com/images/themes/theme1/bg.png', profile_background_image_url_https='https://abs.twimg.com/images/themes/theme1/bg.png', profile_background_tile=True, profile_image_url='http://pbs.twimg.com/profile_images/883469039984549888/An2gj3DV_normal.jpg', profile_image_url_https='https://pbs.twimg.com/profile_images/883469039984549888/An2gj3DV_normal.jpg', profile_banner_url='https://pbs.twimg.com/profile_banners/466105734/1573421691', profile_link_color='0B304F', profile_sidebar_border_color='C0DEED', profile_sidebar_fill_color='DDEEF6', profile_text_color='333333', profile_use_background_image=True, has_extended_profile=False, default_profile=False, default_profile_image=False, following=False, follow_request_sent=False, notifications=False, translator_type='none', withheld_in_countries=[]), user=User(_api=<tweepy.api.API object at 0x7fcdac283700>, _json={'id': 466105734, 'id_str': '466105734', 'name': 'FanSided NFL', 'screen_name': 'FanSidedNFL', 'location': '', 'description': 'NFL content from @FanSided', 'url': 'https://t.co/3uTg2o8Cs6', 'entities': {'url': {'urls': [{'url': 'https://t.co/3uTg2o8Cs6', 'expanded_url': 'http://fansided.com/nfl', 'display_url': 'fansided.com/nfl', 'indices': [0, 23]}]}, 'description': {'urls': []}}, 'protected': False, 'followers_count': 5159, 'friends_count': 464, 'listed_count': 125, 'created_at': 'Tue Jan 17 02:19:16 +0000 2012', 'favourites_count': 191, 'utc_offset': None, 'time_zone': None, 'geo_enabled': False, 'verified': True, 'statuses_count': 76616, 'lang': None, 'contributors_enabled': False, 'is_translator': False, 'is_translation_enabled': False, 'profile_background_color': '000000', 'profile_background_image_url': 'http://abs.twimg.com/images/themes/theme1/bg.png', 'profile_background_image_url_https': 'https://abs.twimg.com/images/themes/theme1/bg.png', 'profile_background_tile': True, 'profile_image_url': 'http://pbs.twimg.com/profile_images/883469039984549888/An2gj3DV_normal.jpg', 'profile_image_url_https': 'https://pbs.twimg.com/profile_images/883469039984549888/An2gj3DV_normal.jpg', 'profile_banner_url': 'https://pbs.twimg.com/profile_banners/466105734/1573421691', 'profile_link_color': '0B304F', 'profile_sidebar_border_color': 'C0DEED', 'profile_sidebar_fill_color': 'DDEEF6', 'profile_text_color': '333333', 'profile_use_background_image': True, 'has_extended_profile': False, 'default_profile': False, 'default_profile_image': False, 'following': False, 'follow_request_sent': False, 'notifications': False, 'translator_type': 'none', 'withheld_in_countries': []}, id=466105734, id_str='466105734', name='FanSided NFL', screen_name='FanSidedNFL', location='', description='NFL content from @FanSided', url='https://t.co/3uTg2o8Cs6', entities={'url': {'urls': [{'url': 'https://t.co/3uTg2o8Cs6', 'expanded_url': 'http://fansided.com/nfl', 'display_url': 'fansided.com/nfl', 'indices': [0, 23]}]}, 'description': {'urls': []}}, protected=False, followers_count=5159, friends_count=464, listed_count=125, created_at=datetime.datetime(2012, 1, 17, 2, 19, 16, tzinfo=datetime.timezone.utc), favourites_count=191, utc_offset=None, time_zone=None, geo_enabled=False, verified=True, statuses_count=76616, lang=None, contributors_enabled=False, is_translator=False, is_translation_enabled=False, profile_background_color='000000', profile_background_image_url='http://abs.twimg.com/images/themes/theme1/bg.png', profile_background_image_url_https='https://abs.twimg.com/images/themes/theme1/bg.png', profile_background_tile=True, profile_image_url='http://pbs.twimg.com/profile_images/883469039984549888/An2gj3DV_normal.jpg', profile_image_url_https='https://pbs.twimg.com/profile_images/883469039984549888/An2gj3DV_normal.jpg', profile_banner_url='https://pbs.twimg.com/profile_banners/466105734/1573421691', profile_link_color='0B304F', profile_sidebar_border_color='C0DEED', profile_sidebar_fill_color='DDEEF6', profile_text_color='333333', profile_use_background_image=True, has_extended_profile=False, default_profile=False, default_profile_image=False, following=False, follow_request_sent=False, notifications=False, translator_type='none', withheld_in_countries=[]), geo=None, coordinates=None, place=None, contributors=None, is_quote_status=False, retweet_count=0, favorite_count=0, favorited=False, retweeted=False, possibly_sensitive=False, lang='en')"
      ]
     },
     "execution_count": 50,
     "metadata": {},
     "output_type": "execute_result"
    }
   ],
   "source": [
    "ex_tweet = list_tweets[0]\n",
    "ex_tweet"
   ]
  },
  {
   "cell_type": "code",
   "execution_count": 52,
   "metadata": {},
   "outputs": [
    {
     "name": "stdout",
     "output_type": "stream",
     "text": [
      "Tweet Id: 1563288427252137984\n",
      "Tweet Text: Aaron Rodgers complimented Jordan Love, his likely heir-apparent. He’s already better than Brett Favre at that, at least.\n",
      "https://t.co/MhMNAy7dNT\n",
      "Tweet Creater ID: 466105734\n",
      "Tweet Creater @: FanSidedNFL\n"
     ]
    }
   ],
   "source": [
    "#About the tweet itself\n",
    "print(\"Tweet Id:\", ex_tweet.id_str)\n",
    "print(\"Tweet Text:\", ex_tweet.full_text)\n",
    "\n",
    "#would need to loop through the user mentions to get info for each\n",
    "# print(\"Tweet mention @ name:\", ex_tweet.entities['user_mentions'][0]['screen_name'])\n",
    "# print(\"Tweet mention id:\", ex_tweet.entities['user_mentions'][0]['id_str'])\n",
    "\n",
    "##The person who created the tweet\n",
    "print(\"Tweet Creater ID:\", ex_tweet.user.id_str)\n",
    "print(\"Tweet Creater @:\", ex_tweet.user.screen_name)"
   ]
  }
 ],
 "metadata": {
  "kernelspec": {
   "display_name": "Python 3.9.0 64-bit",
   "language": "python",
   "name": "python3"
  },
  "language_info": {
   "codemirror_mode": {
    "name": "ipython",
    "version": 3
   },
   "file_extension": ".py",
   "mimetype": "text/x-python",
   "name": "python",
   "nbconvert_exporter": "python",
   "pygments_lexer": "ipython3",
   "version": "3.9.0"
  },
  "orig_nbformat": 4,
  "vscode": {
   "interpreter": {
    "hash": "aee8b7b246df8f9039afb4144a1f6fd8d2ca17a180786b69acc140d282b71a49"
   }
  }
 },
 "nbformat": 4,
 "nbformat_minor": 2
}
