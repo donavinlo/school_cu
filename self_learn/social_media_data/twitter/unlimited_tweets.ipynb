{
 "cells": [
  {
   "cell_type": "markdown",
   "metadata": {},
   "source": [
    "https://betterprogramming.pub/how-to-scrape-tweets-with-snscrape-90124ed006af  \n",
    "https://www.youtube.com/watch?v=p8hG8MhzoYc&ab_channel=CodewithIbrahim  \n",
    "https://www.youtube.com/watch?v=jtIMnmbnOFo&ab_channel=AISpectrum"
   ]
  },
  {
   "cell_type": "code",
   "execution_count": 1,
   "metadata": {},
   "outputs": [],
   "source": [
    "import snscrape.modules.twitter as sntwitter\n",
    "import pandas as pd\n",
    "import json"
   ]
  },
  {
   "cell_type": "code",
   "execution_count": 2,
   "metadata": {},
   "outputs": [],
   "source": [
    "def tweet_scraper(query, lim=10):\n",
    "    \"\"\"\n",
    "        Gather tweets based of of a given query. Returns a json object that we can dump\n",
    "\n",
    "        Attributes of JSON object are:\n",
    "\n",
    "        Text: the text of the tweet\n",
    "        user_at: the @ name of the twitter account\n",
    "        user_id: ID given to that specific user\n",
    "        user_verified: If the account is a verified account\n",
    "        user_followers: the follower count of the person that tweeted\n",
    "        tweet_count: the total amount of tweets the account has made in its lifespan\n",
    "        mentioned_users: a list of the @name and their id for each user mentioned in the given tweet\n",
    "\n",
    "    \"\"\"\n",
    "    tweets = []\n",
    "    for tweet in sntwitter.TwitterSearchScraper(query).get_items():\n",
    "        if len(tweets) == lim:\n",
    "            break\n",
    "        else:\n",
    "            mentioned_users = [(mentioned.username, mentioned.id) for mentioned in tweet.mentionedUsers ] #get ID and @ of each account mentioned\n",
    "            tweets.append({\"text\": tweet.content, \"user_at\": tweet.user.username, \"user_id\": tweet.user.id, \"user_verified\": tweet.user.verified,\n",
    "            \"user_followers\": tweet.user.followersCount, \"tweet_count\": tweet.user.statusesCount, \"mentioned_users\": mentioned_users})\n",
    "    \n",
    "    return tweets\n",
    "        "
   ]
  },
  {
   "cell_type": "code",
   "execution_count": 10,
   "metadata": {},
   "outputs": [],
   "source": [
    "query_string = '(\"Aaron OR Rodgers\" OR @AaronRodgers12) -Contract -Davante -@tae15adams until:2022-07-25 since:2022-07-01 -filter:retweets -filter:replies lang:en'\n",
    "LIMIT = 1000"
   ]
  },
  {
   "cell_type": "code",
   "execution_count": 6,
   "metadata": {},
   "outputs": [],
   "source": [
    "arod = tweet_scraper(query_string, LIMIT)"
   ]
  },
  {
   "cell_type": "code",
   "execution_count": 11,
   "metadata": {},
   "outputs": [],
   "source": [
    "lim=3\n",
    "tweets=[]\n",
    "for tweet in sntwitter.TwitterSearchScraper(query_string).get_items():\n",
    "    if len(tweets) == lim:\n",
    "        break\n",
    "    tweets.append(tweet)"
   ]
  },
  {
   "cell_type": "code",
   "execution_count": 14,
   "metadata": {},
   "outputs": [
    {
     "data": {
      "text/plain": [
       "Tweet(url='https://twitter.com/2026WorldCupUS/status/1551318734358315014', date=datetime.datetime(2022, 7, 24, 21, 29, 43, tzinfo=datetime.timezone.utc), content='Keep.@djokernoler @DjokerNole in the loop.\\nHis wonderful wife @jelenadjokovic too.\\n\\nLet them know many Americans are 100% on his side.\\nHe, like @AaronRodgers12 &amp; @KyrieIrving are smarter &amp; braver than the other players. https://t.co/0G3gtvM5fF https://t.co/iP9hunginc', renderedContent='Keep.@djokernoler @DjokerNole in the loop.\\nHis wonderful wife @jelenadjokovic too.\\n\\nLet them know many Americans are 100% on his side.\\nHe, like @AaronRodgers12 &amp; @KyrieIrving are smarter &amp; braver than the other players. twitter.com/ClayTravis/sta… https://t.co/iP9hunginc', id=1551318734358315014, user=User(username='2026WorldCupUS', id=1529952792189751299, displayname=\"AOC'sTeeth\", description='Look at my chompers', rawDescription='Look at my chompers', descriptionUrls=None, verified=False, created=datetime.datetime(2022, 5, 26, 22, 29, 50, tzinfo=datetime.timezone.utc), followersCount=174, friendsCount=358, statusesCount=4542, favouritesCount=9669, listedCount=0, mediaCount=995, location='', protected=False, linkUrl=None, linkTcourl=None, profileImageUrl='https://pbs.twimg.com/profile_images/1542617739554177024/JxIZIwTT_normal.jpg', profileBannerUrl='https://pbs.twimg.com/profile_banners/1529952792189751299/1656978054', label=None), replyCount=0, retweetCount=0, likeCount=0, quoteCount=0, conversationId=1551318734358315014, lang='en', source='<a href=\"http://twitter.com/download/android\" rel=\"nofollow\">Twitter for Android</a>', sourceUrl='http://twitter.com/download/android', sourceLabel='Twitter for Android', outlinks=['https://twitter.com/ClayTravis/status/1551244321160155136'], tcooutlinks=['https://t.co/0G3gtvM5fF'], media=[Photo(previewUrl='https://pbs.twimg.com/media/FYdkKT-WQAAumYb?format=jpg&name=small', fullUrl='https://pbs.twimg.com/media/FYdkKT-WQAAumYb?format=jpg&name=large'), Photo(previewUrl='https://pbs.twimg.com/media/FYdkKcGWYAATox-?format=jpg&name=small', fullUrl='https://pbs.twimg.com/media/FYdkKcGWYAATox-?format=jpg&name=large'), Photo(previewUrl='https://pbs.twimg.com/media/FYdkKmxWIAIosIX?format=jpg&name=small', fullUrl='https://pbs.twimg.com/media/FYdkKmxWIAIosIX?format=jpg&name=large'), Photo(previewUrl='https://pbs.twimg.com/media/FYdkKvnWAAA0Wdx?format=jpg&name=small', fullUrl='https://pbs.twimg.com/media/FYdkKvnWAAA0Wdx?format=jpg&name=large')], retweetedTweet=None, quotedTweet=Tweet(url='https://twitter.com/ClayTravis/status/1551244321160155136', date=datetime.datetime(2022, 7, 24, 16, 34, 1, tzinfo=datetime.timezone.utc), content='All covid mandates &amp; restrictions are beyond stupid, but this is a great point. Djokovic played in the US Open last year without the covid shot. But this year he’s not allowed to? Even though we all know the covid shot is totally pointless — and potentially harmful — to athletes. https://t.co/F5FASxTtgw', renderedContent='All covid mandates &amp; restrictions are beyond stupid, but this is a great point. Djokovic played in the US Open last year without the covid shot. But this year he’s not allowed to? Even though we all know the covid shot is totally pointless — and potentially harmful — to athletes. twitter.com/VivekGRamaswam…', id=1551244321160155136, user=User(username='ClayTravis', id=50772918, displayname='Clay Travis', description='Outkick.com, @outkick @clayandbuck radio 12-3 pm et & @foxbetlive TV show 5 et, author, Republicans Buy Sneakers Too, dad of three boys, lawyer', rawDescription='https://t.co/GDdmAGFxIU, @outkick @clayandbuck radio 12-3 pm et & @foxbetlive TV show 5 et, author, Republicans Buy Sneakers Too, dad of three boys, lawyer', descriptionUrls=[{'text': 'Outkick.com', 'url': 'http://Outkick.com', 'tcourl': 'https://t.co/GDdmAGFxIU', 'indices': (0, 23)}], verified=True, created=datetime.datetime(2009, 6, 25, 21, 16, 40, tzinfo=datetime.timezone.utc), followersCount=982303, friendsCount=480, statusesCount=125610, favouritesCount=29536, listedCount=4369, mediaCount=6726, location='Nashville', protected=False, linkUrl='http://www.outkick.com', linkTcourl='https://t.co/5cIt9LNswn', profileImageUrl='https://pbs.twimg.com/profile_images/668983225860034564/PIdSf23G_normal.jpg', profileBannerUrl='https://pbs.twimg.com/profile_banners/50772918/1448333179', label=None), replyCount=102, retweetCount=757, likeCount=4775, quoteCount=17, conversationId=1551244321160155136, lang='en', source='<a href=\"http://twitter.com/download/iphone\" rel=\"nofollow\">Twitter for iPhone</a>', sourceUrl='http://twitter.com/download/iphone', sourceLabel='Twitter for iPhone', outlinks=['https://twitter.com/VivekGRamaswamy/status/1551234721920712704'], tcooutlinks=['https://t.co/F5FASxTtgw'], media=None, retweetedTweet=None, quotedTweet=None, inReplyToTweetId=None, inReplyToUser=None, mentionedUsers=None, coordinates=None, place=None, hashtags=None, cashtags=None), inReplyToTweetId=None, inReplyToUser=None, mentionedUsers=[User(username='djokernoler', id=1510370045028937735, displayname='The Djoker 🎭', description=None, rawDescription=None, descriptionUrls=None, verified=None, created=None, followersCount=None, friendsCount=None, statusesCount=None, favouritesCount=None, listedCount=None, mediaCount=None, location=None, protected=None, linkUrl=None, linkTcourl=None, profileImageUrl=None, profileBannerUrl=None, label=None), User(username='DjokerNole', id=259925559, displayname='Novak Djokovic', description=None, rawDescription=None, descriptionUrls=None, verified=None, created=None, followersCount=None, friendsCount=None, statusesCount=None, favouritesCount=None, listedCount=None, mediaCount=None, location=None, protected=None, linkUrl=None, linkTcourl=None, profileImageUrl=None, profileBannerUrl=None, label=None), User(username='jelenadjokovic', id=1305692694, displayname='Jelena Djokovic', description=None, rawDescription=None, descriptionUrls=None, verified=None, created=None, followersCount=None, friendsCount=None, statusesCount=None, favouritesCount=None, listedCount=None, mediaCount=None, location=None, protected=None, linkUrl=None, linkTcourl=None, profileImageUrl=None, profileBannerUrl=None, label=None), User(username='AaronRodgers12', id=130997057, displayname='Aaron Rodgers', description=None, rawDescription=None, descriptionUrls=None, verified=None, created=None, followersCount=None, friendsCount=None, statusesCount=None, favouritesCount=None, listedCount=None, mediaCount=None, location=None, protected=None, linkUrl=None, linkTcourl=None, profileImageUrl=None, profileBannerUrl=None, label=None), User(username='KyrieIrving', id=317370751, displayname='A11Even', description=None, rawDescription=None, descriptionUrls=None, verified=None, created=None, followersCount=None, friendsCount=None, statusesCount=None, favouritesCount=None, listedCount=None, mediaCount=None, location=None, protected=None, linkUrl=None, linkTcourl=None, profileImageUrl=None, profileBannerUrl=None, label=None)], coordinates=None, place=None, hashtags=None, cashtags=None)"
      ]
     },
     "execution_count": 14,
     "metadata": {},
     "output_type": "execute_result"
    }
   ],
   "source": [
    "tweets[2]"
   ]
  }
 ],
 "metadata": {
  "kernelspec": {
   "display_name": "Python 3.9.0 64-bit",
   "language": "python",
   "name": "python3"
  },
  "language_info": {
   "codemirror_mode": {
    "name": "ipython",
    "version": 3
   },
   "file_extension": ".py",
   "mimetype": "text/x-python",
   "name": "python",
   "nbconvert_exporter": "python",
   "pygments_lexer": "ipython3",
   "version": "3.9.0"
  },
  "orig_nbformat": 4,
  "vscode": {
   "interpreter": {
    "hash": "7812ea015bdcee6f23a998adcdd2ef97c151c0c241b7b7070987d9313e41299d"
   }
  }
 },
 "nbformat": 4,
 "nbformat_minor": 2
}
