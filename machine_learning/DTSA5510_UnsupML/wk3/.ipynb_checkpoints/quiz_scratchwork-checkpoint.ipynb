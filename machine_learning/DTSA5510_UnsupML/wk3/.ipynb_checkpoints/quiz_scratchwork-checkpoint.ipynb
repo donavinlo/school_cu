{
 "cells": [
  {
   "cell_type": "code",
   "execution_count": 2,
   "id": "392a7a5b",
   "metadata": {},
   "outputs": [],
   "source": [
    "import numpy as np"
   ]
  },
  {
   "cell_type": "markdown",
   "id": "5ab26021",
   "metadata": {},
   "source": [
    "1) O(m*m*n) for item similarity\n",
    "2) collaborative filtering\n"
   ]
  },
  {
   "cell_type": "markdown",
   "id": "0eeed964",
   "metadata": {},
   "source": [
    "# Problem 3"
   ]
  },
  {
   "cell_type": "code",
   "execution_count": 16,
   "id": "100f640b",
   "metadata": {},
   "outputs": [
    {
     "name": "stdout",
     "output_type": "stream",
     "text": [
      "[[1 1 1 0 1 1 1 0]\n",
      " [1 1 1 1 1 0 0 1]\n",
      " [0 1 0 1 0 0 1 1]\n",
      " [1 0 0 1 0 1 1 1]]\n",
      "firechicken-mike0702 0.5\n",
      "firechicken-zephyros 0.25\n",
      "firechicken-dadvador 0.375\n",
      "mike0702-zephyros 0.42857142857142855\n",
      "mike0702-dadvador 0.375\n",
      "zephyros-dadvador 0.5\n",
      "[[1.         0.5        0.25       0.375     ]\n",
      " [0.5        1.         0.42857143 0.375     ]\n",
      " [0.25       0.42857143 1.         0.5       ]\n",
      " [0.375      0.375      0.5        1.        ]]\n"
     ]
    }
   ],
   "source": [
    "ratings = np.array([[3, 3, 4, 0, 4, 2, 3, 0],\n",
    "                    [3, 5, 4, 3, 3, 0, 0, 2],\n",
    "                    [0, 4, 0, 5, 0, 0, 2, 1],\n",
    "                    [2, 0, 0, 4, 0, 4, 4, 5]])\n",
    "\n",
    "# If not missing a rating then converted to 1. Otherwise, it's a0\n",
    "Ub = (ratings>0).astype(int)\n",
    "print(Ub)\n",
    "\n",
    "def jaccard(a,b):\n",
    "    return (a*b).sum()/((a+b)>0).sum()\n",
    "\n",
    "users = [\"firechicken\",\"mike0702\",\"zephyros\",\"dadvador\"]\n",
    "\n",
    "simmat=np.zeros((4,4))\n",
    "for i in range(4):\n",
    "    for j in range(4):\n",
    "        simmat[i,j] = jaccard(Ub[i],Ub[j])\n",
    "        if i<j:\n",
    "            print(users[i]+'-'+users[j], jaccard(Ub[i],Ub[j]))\n",
    "\n",
    "print(simmat)"
   ]
  },
  {
   "cell_type": "markdown",
   "id": "13b6de91",
   "metadata": {},
   "source": [
    "# Problem 4\n"
   ]
  },
  {
   "cell_type": "code",
   "execution_count": 8,
   "id": "0eb6802d",
   "metadata": {},
   "outputs": [
    {
     "name": "stdout",
     "output_type": "stream",
     "text": [
      "firechicken-mike0702 0.6666666666666667\n",
      "firechicken-zephyros 0.4082482904638631\n",
      "firechicken-dadvador 0.5477225575051661\n",
      "mike0702-zephyros 0.6123724356957946\n",
      "mike0702-dadvador 0.5477225575051661\n",
      "zephyros-dadvador 0.6708203932499369\n",
      "[[1.         0.66666667 0.40824829 0.54772256]\n",
      " [0.66666667 1.         0.61237244 0.54772256]\n",
      " [0.40824829 0.61237244 1.         0.67082039]\n",
      " [0.54772256 0.54772256 0.67082039 1.        ]]\n"
     ]
    }
   ],
   "source": [
    "def cos(a,b):\n",
    "    return np.dot(a,b)/(np.linalg.norm(a)*np.linalg.norm(b))\n",
    "\n",
    "simmat=np.zeros((4,4))\n",
    "for i in range(4):\n",
    "    for j in range(4):\n",
    "        simmat[i,j] = cos(Ub[i],Ub[j])\n",
    "        if i<j:\n",
    "            print(users[i]+'-'+users[j], cos(Ub[i],Ub[j]))\n",
    "print(simmat)"
   ]
  },
  {
   "cell_type": "code",
   "execution_count": 12,
   "id": "8d6802df",
   "metadata": {},
   "outputs": [
    {
     "data": {
      "text/plain": [
       "0.6123724356957946"
      ]
     },
     "execution_count": 12,
     "metadata": {},
     "output_type": "execute_result"
    }
   ],
   "source": [
    "#The matrix was converted to boolean of 1s\n",
    "numerator = 3\n",
    "magnitude_a = np.sqrt(6)\n",
    "magnitude_b = np.sqrt(4)\n",
    "\n",
    "3 / (magnitude_a * magnitude_b)"
   ]
  },
  {
   "cell_type": "markdown",
   "id": "749907f9",
   "metadata": {},
   "source": [
    "# Problem 5\n",
    "\n",
    "intersection = 2\n",
    "union = 8\n",
    "similarity = 0.33"
   ]
  },
  {
   "cell_type": "code",
   "execution_count": 17,
   "id": "0b00766e",
   "metadata": {},
   "outputs": [
    {
     "name": "stdout",
     "output_type": "stream",
     "text": [
      "[[1 1 1 0 1 0 1 0]\n",
      " [1 1 1 1 1 0 0 0]\n",
      " [0 1 0 1 0 0 0 0]\n",
      " [0 0 0 1 0 1 1 1]]\n",
      "firechicken-mike0702 0.6666666666666666\n",
      "firechicken-zephyros 0.16666666666666666\n",
      "firechicken-dadvador 0.125\n",
      "mike0702-zephyros 0.4\n",
      "mike0702-dadvador 0.125\n",
      "zephyros-dadvador 0.2\n"
     ]
    }
   ],
   "source": [
    "Ur = (ratings>=3).astype(int)\n",
    "print(Ur)\n",
    "\n",
    "simmat=np.zeros((4,4))\n",
    "for i in range(4):\n",
    "    for j in range(4):\n",
    "        simmat[i,j] = jaccard(Ur[i],Ur[j])\n",
    "        if i<j:\n",
    "            print(users[i]+'-'+users[j], jaccard(Ur[i],Ur[j]))"
   ]
  },
  {
   "cell_type": "code",
   "execution_count": null,
   "id": "ee25b220",
   "metadata": {},
   "outputs": [],
   "source": []
  }
 ],
 "metadata": {
  "kernelspec": {
   "display_name": "Python 3 (ipykernel)",
   "language": "python",
   "name": "python3"
  },
  "language_info": {
   "codemirror_mode": {
    "name": "ipython",
    "version": 3
   },
   "file_extension": ".py",
   "mimetype": "text/x-python",
   "name": "python",
   "nbconvert_exporter": "python",
   "pygments_lexer": "ipython3",
   "version": "3.9.7"
  }
 },
 "nbformat": 4,
 "nbformat_minor": 5
}
