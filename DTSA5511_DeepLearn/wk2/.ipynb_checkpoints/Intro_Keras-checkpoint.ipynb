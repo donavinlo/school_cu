{
 "cells": [
  {
   "cell_type": "code",
   "execution_count": 21,
   "id": "9fd347ae",
   "metadata": {},
   "outputs": [],
   "source": [
    "import keras\n",
    "import tensorflow as tf\n",
    "import matplotlib\n",
    "import numpy as np"
   ]
  },
  {
   "cell_type": "code",
   "execution_count": 31,
   "id": "dc205939",
   "metadata": {},
   "outputs": [],
   "source": []
  },
  {
   "cell_type": "code",
   "execution_count": 2,
   "id": "294877b1",
   "metadata": {},
   "outputs": [
    {
     "data": {
      "text/plain": [
       "'2.8.0'"
      ]
     },
     "execution_count": 2,
     "metadata": {},
     "output_type": "execute_result"
    }
   ],
   "source": [
    "keras.__version__"
   ]
  },
  {
   "cell_type": "code",
   "execution_count": 3,
   "id": "ffe383bf",
   "metadata": {},
   "outputs": [],
   "source": [
    "from keras import Sequential"
   ]
  },
  {
   "cell_type": "markdown",
   "id": "62905f45",
   "metadata": {},
   "source": [
    "Sequential lets you build an empty object or you can fill the object with some models."
   ]
  },
  {
   "cell_type": "code",
   "execution_count": 4,
   "id": "55e90296",
   "metadata": {
    "scrolled": true
   },
   "outputs": [
    {
     "name": "stderr",
     "output_type": "stream",
     "text": [
      "2022-05-27 16:03:14.696229: I tensorflow/core/platform/cpu_feature_guard.cc:151] This TensorFlow binary is optimized with oneAPI Deep Neural Network Library (oneDNN) to use the following CPU instructions in performance-critical operations:  AVX2 FMA\n",
      "To enable them in other operations, rebuild TensorFlow with the appropriate compiler flags.\n"
     ]
    }
   ],
   "source": [
    "model = Sequential()"
   ]
  },
  {
   "cell_type": "markdown",
   "id": "0dded4db",
   "metadata": {},
   "source": [
    "### Building the model\n",
    "\n",
    "- To add layers, need to import the dense class\n",
    "- The parameters\n",
    "    - The number of neurons is 'units'\n",
    "    - activation function\n",
    "    - The very first dense layer needs the input dimensions\n",
    "- In our second layer (This is our output layer in this situation)\n",
    "    - If the layer is the output layer, the number of units should be the number of classes\n",
    "    \n",
    "**Model.summary() gives info about the model**\n",
    "\n",
    "#### Remember different activation functions are used for different types of problems\n",
    "- Softmax: classification\n",
    "-         : binary classification\n",
    "-         : Regression"
   ]
  },
  {
   "cell_type": "code",
   "execution_count": 5,
   "id": "f968d557",
   "metadata": {},
   "outputs": [],
   "source": [
    "from keras.layers import Dense #so we can add Dense layers\n",
    "\n",
    "#adds a layer to the sequential model we just built\n",
    "model.add(Dense(units =64, activation='relu', input_dim=100))\n",
    "\n",
    "#output layer (5 classes in problem)\n",
    "model.add(Dense(units=5, activation='softmax'))"
   ]
  },
  {
   "cell_type": "code",
   "execution_count": 6,
   "id": "2f42b170",
   "metadata": {},
   "outputs": [
    {
     "name": "stdout",
     "output_type": "stream",
     "text": [
      "Model: \"sequential\"\n",
      "_________________________________________________________________\n",
      " Layer (type)                Output Shape              Param #   \n",
      "=================================================================\n",
      " dense (Dense)               (None, 64)                6464      \n",
      "                                                                 \n",
      " dense_1 (Dense)             (None, 5)                 325       \n",
      "                                                                 \n",
      "=================================================================\n",
      "Total params: 6,789\n",
      "Trainable params: 6,789\n",
      "Non-trainable params: 0\n",
      "_________________________________________________________________\n"
     ]
    }
   ],
   "source": [
    "model.summary()"
   ]
  },
  {
   "cell_type": "code",
   "execution_count": 8,
   "id": "3a406cd0",
   "metadata": {},
   "outputs": [
    {
     "name": "stdout",
     "output_type": "stream",
     "text": [
      "Model: \"sequential\"\n",
      "_________________________________________________________________\n",
      " Layer (type)                Output Shape              Param #   \n",
      "=================================================================\n",
      " dense (Dense)               (None, 64)                6464      \n",
      "                                                                 \n",
      " dense_1 (Dense)             (None, 5)                 325       \n",
      "                                                                 \n",
      "=================================================================\n",
      "Total params: 6,789\n",
      "Trainable params: 6,789\n",
      "Non-trainable params: 0\n",
      "_________________________________________________________________\n"
     ]
    }
   ],
   "source": [
    "# we can also separate the activation function instead of creating it within the layer\n",
    "from keras.layers import Activation\n",
    "model2 = Sequential()\n",
    "model2.add(Dense(units =64, input_dim=100))\n",
    "model2.add(Activation('relu'))\n",
    "model2.add(Dense(units=5, activation='softmax'))\n",
    "model.summary()"
   ]
  },
  {
   "cell_type": "markdown",
   "id": "88a56981",
   "metadata": {},
   "source": [
    "### Model Types\n",
    "**Sequential()** : Good for deep learning with sequential tasks"
   ]
  },
  {
   "cell_type": "markdown",
   "id": "de960542",
   "metadata": {},
   "source": [
    "## Optimizers\n",
    "- can define what the loss function is\n",
    "- for 'loss' parameter\n",
    "    - What is shown below\n",
    "    - MSE\n",
    "    - Review for what other labels are available as a loss function\n",
    "- for 'optimizer'\n",
    "    - 'SGD\n",
    "        - Best to have own SGD defined so you can tweak learning rate, momentum, etc. \n",
    "- for 'metrics'\n",
    "    - what metrics do you want to show in the log?\n",
    "    - 'accuracy'\n",
    "### Make sure we are running on GPU, if not it will be super slow. Can use Google Colab if needed"
   ]
  },
  {
   "cell_type": "code",
   "execution_count": 9,
   "id": "84b3b9c4",
   "metadata": {},
   "outputs": [],
   "source": [
    "model.compile(loss ='categorical_cross_entropy', optimizer='sgd', metrics = ['accruracy'])"
   ]
  },
  {
   "cell_type": "markdown",
   "id": "f1cf9db8",
   "metadata": {},
   "source": [
    "## Example\n",
    "- Our example dataset will come from the tensorflow package\n",
    "\n",
    "## Step 1: Download the dataset"
   ]
  },
  {
   "cell_type": "code",
   "execution_count": 12,
   "id": "262415ef",
   "metadata": {},
   "outputs": [
    {
     "name": "stdout",
     "output_type": "stream",
     "text": [
      "Downloading data from https://storage.googleapis.com/tensorflow/tf-keras-datasets/train-labels-idx1-ubyte.gz\n",
      "32768/29515 [=================================] - 0s 1us/step\n",
      "40960/29515 [=========================================] - 0s 1us/step\n",
      "Downloading data from https://storage.googleapis.com/tensorflow/tf-keras-datasets/train-images-idx3-ubyte.gz\n",
      "26427392/26421880 [==============================] - 2s 0us/step\n",
      "26435584/26421880 [==============================] - 2s 0us/step\n",
      "Downloading data from https://storage.googleapis.com/tensorflow/tf-keras-datasets/t10k-labels-idx1-ubyte.gz\n",
      "16384/5148 [===============================================================================================] - 0s 0us/step\n",
      "Downloading data from https://storage.googleapis.com/tensorflow/tf-keras-datasets/t10k-images-idx3-ubyte.gz\n",
      "4423680/4422102 [==============================] - 0s 0us/step\n",
      "4431872/4422102 [==============================] - 0s 0us/step\n"
     ]
    }
   ],
   "source": [
    "(train_images, train_labels), (test_images, test_labels) = \\\n",
    "tf.keras.datasets.fashion_mnist.load_data()"
   ]
  },
  {
   "cell_type": "markdown",
   "id": "27a1d87d",
   "metadata": {},
   "source": [
    "## Step 2) Understand the data format\n",
    "\n",
    "The images are given as a 3-D array of integer values that is of the shape (N, 28, 28), where *N* is the number of images in the training or test set.\n",
    "The labels are 1-D array of the integer values of each image"
   ]
  },
  {
   "cell_type": "code",
   "execution_count": 13,
   "id": "33bd0406",
   "metadata": {},
   "outputs": [
    {
     "name": "stdout",
     "output_type": "stream",
     "text": [
      "(60000, 28, 28) (60000,)\n",
      "(10000, 28, 28) (10000,)\n"
     ]
    }
   ],
   "source": [
    "print(train_images.shape, train_labels.shape)\n",
    "print(test_images.shape, test_labels.shape)"
   ]
  },
  {
   "cell_type": "code",
   "execution_count": 14,
   "id": "c03bd0b2",
   "metadata": {},
   "outputs": [
    {
     "data": {
      "text/plain": [
       "{0, 1, 2, 3, 4, 5, 6, 7, 8, 9}"
      ]
     },
     "execution_count": 14,
     "metadata": {},
     "output_type": "execute_result"
    }
   ],
   "source": [
    "set(test_labels)"
   ]
  },
  {
   "cell_type": "markdown",
   "id": "077188e7",
   "metadata": {},
   "source": [
    "## Step 3) Visualize the Data\n",
    "\n",
    "Let's see how the images look. This function shows a random example along with it's corresponding label\n"
   ]
  },
  {
   "cell_type": "code",
   "execution_count": 19,
   "id": "81687888",
   "metadata": {},
   "outputs": [
    {
     "name": "stdout",
     "output_type": "stream",
     "text": [
      "Label: 7\n"
     ]
    },
    {
     "data": {
      "text/plain": [
       "<matplotlib.image.AxesImage at 0x7fc9dc5fc280>"
      ]
     },
     "execution_count": 19,
     "metadata": {},
     "output_type": "execute_result"
    },
    {
     "data": {
      "image/png": "[encoded data removed]",
      "text/plain": [
       "<Figure size 432x288 with 1 Axes>"
      ]
     },
     "metadata": {
      "needs_background": "light"
     },
     "output_type": "display_data"
    }
   ],
   "source": [
    "%matplotlib inline\n",
    "\n",
    "import random\n",
    "import matplotlib.pyplot as plt\n",
    "\n",
    "i = random.randint(0, 100)\n",
    "\n",
    "print('Label: %s' % train_labels[i])\n",
    "plt.imshow(train_images[i], cmap='gray')"
   ]
  },
  {
   "cell_type": "markdown",
   "id": "10a9e09f",
   "metadata": {},
   "source": [
    "Each training and test example is assigned one of the following labels\n",
    "\n",
    "| Label | Description |\n",
    "| --- | --- |\n",
    "| 0 | T-shit/top |\n",
    "| 1 | Trouser |\n",
    "| 2 | Pullover |\n",
    "| 3 | Dress |\n",
    "| 4 | Coat |\n",
    "| 5 | Sandal |\n",
    "| 6 | Shirt |\n",
    "| 7 | Sneaker |\n",
    "| 8 | Bag |\n",
    "| 9 | Ankle Boot |"
   ]
  },
  {
   "cell_type": "markdown",
   "id": "d1ce4c95",
   "metadata": {},
   "source": [
    "## Step 4) Reformat the Images\n",
    "Here, we'll flatten (or unstack) the images. There are deep learning techniques that work with 2d images directly (rather than their flattened representation), but we'll start with this format. Instead of woorking with a 28 x 28 image, we'll unstack it into a 28 x 28 = 74 length array.\n",
    "   - We want to convert 3D array of shape (N, 28, 28) to a 2D array of shape (N, 784) where the second dimension is just an array of all the pixels in an image. This is called flattening, or unstacking, the images\n",
    "   - We also want to convert the pixel values from a number between 0 and 255 to a number between 0 and 1"
   ]
  },
  {
   "cell_type": "code",
   "execution_count": 22,
   "id": "4d71c1b4",
   "metadata": {},
   "outputs": [],
   "source": [
    "TRAINING_SIZE = len(train_images)\n",
    "TEST_SIZE = len(test_images)\n",
    "\n",
    "# Reshape from (N, 28, 28) to (N, 28 * 28 = 784)\n",
    "train_images = np.reshape(train_images, (TRAINING_SIZE, 784))\n",
    "test_images = np.reshape(test_images, (TEST_SIZE, 784))\n",
    "\n",
    "# Convert the array to float32 as opposed to uint8\n",
    "train_images = train_images.astype(np.float32)\n",
    "test_images = test_images.astype(np.float32)\n",
    "\n",
    "# Convert the pixel values from integers between 0 and 255 to floats between 0 and 1\n",
    "train_images /= 255\n",
    "test_images /= 255"
   ]
  },
  {
   "cell_type": "markdown",
   "id": "26568963",
   "metadata": {},
   "source": [
    "## Step 5) Reformat the labels\n",
    "\n",
    "Next, we want to convert the labels from an integer format ('2' or 'pullover'), to a one hot encoding. To do so, we'll use the `tf.keras.utils.to_categorical` function. "
   ]
  },
  {
   "cell_type": "code",
   "execution_count": 25,
   "id": "7c933162",
   "metadata": {},
   "outputs": [
    {
     "name": "stdout",
     "output_type": "stream",
     "text": [
      "Before 9\n",
      "After [0. 0. 0. 0. 0. 0. 0. 0. 0. 1.]\n"
     ]
    }
   ],
   "source": [
    "NUM_CAT = 10\n",
    "\n",
    "print(\"Before\", train_labels[0]) #format of labels before conversion\n",
    "\n",
    "train_labels_ = tf.keras.utils.to_categorical(train_labels, NUM_CAT)\n",
    "\n",
    "print(\"After\", train_labels_[0]) #format after conversion\n",
    "\n",
    "test_labels_ = tf.keras.utils.to_categorical(test_labels, NUM_CAT)"
   ]
  },
  {
   "cell_type": "markdown",
   "id": "d80e32ac",
   "metadata": {},
   "source": [
    "## Step 6) Build the model\n",
    "\n",
    "Now we'll create our neural network using the [Keras Sequential API]( https://keras.io/api/models/sequential/). Keras is a high-level API to build and train deep learning models and is user friendly, modular and easy to extend. `tf.keras` is TensorFlow's implementation of this API and it supports such things as eager execution, `tf.data` pipelines and estimators\n",
    "\n",
    "Architecture wise, we'll use a single hidden layer network, where:\n",
    "   - The hidden layer will have 512 units using the **ReLU* activation function**\n",
    "   - The output layer will have 10 units and use **softmax** function\n",
    "   - Notice, we specify the input shape on the first layer. If you add subsequent layers, this is not necessary\n",
    "   - We will use **categorica_crossentropy** loss function and the **SGD_optimizer**"
   ]
  },
  {
   "cell_type": "code",
   "execution_count": 26,
   "id": "a953136a",
   "metadata": {},
   "outputs": [
    {
     "name": "stdout",
     "output_type": "stream",
     "text": [
      "Model: \"sequential_3\"\n",
      "_________________________________________________________________\n",
      " Layer (type)                Output Shape              Param #   \n",
      "=================================================================\n",
      " dense_5 (Dense)             (None, 512)               401920    \n",
      "                                                                 \n",
      " dense_6 (Dense)             (None, 10)                5130      \n",
      "                                                                 \n",
      "=================================================================\n",
      "Total params: 407,050\n",
      "Trainable params: 407,050\n",
      "Non-trainable params: 0\n",
      "_________________________________________________________________\n"
     ]
    }
   ],
   "source": [
    "model = tf.keras.Sequential()\n",
    "model.add(tf.keras.layers.Dense(512, activation=tf.nn.relu, input_dim=784))\n",
    "model.add(tf.keras.layers.Dense(NUM_CAT, activation=tf.nn.softmax))\n",
    "\n",
    "# We will now compile and print out a summary of our model\n",
    "opt = tf.keras.optimizers.SGD(learning_rate=0.1)\n",
    "\n",
    "model.compile(loss='categorical_crossentropy',\n",
    "             optimizer=opt,\n",
    "             metrics=['accuracy'])\n",
    "\n",
    "model.summary()"
   ]
  },
  {
   "cell_type": "markdown",
   "id": "fd4211bc",
   "metadata": {},
   "source": [
    "## Step 7) Training\n",
    "\n",
    "Next, we will train the model by using the **fit method** for 5 epochs. We will keep track of the training loss and accuracy as we go. Please be patient as this step may take a while depending on your hardware."
   ]
  },
  {
   "cell_type": "code",
   "execution_count": 29,
   "id": "cec68e47",
   "metadata": {},
   "outputs": [
    {
     "data": {
      "text/plain": [
       "(60000, 10)"
      ]
     },
     "execution_count": 29,
     "metadata": {},
     "output_type": "execute_result"
    }
   ],
   "source": [
    "train_labels_.shape"
   ]
  },
  {
   "cell_type": "code",
   "execution_count": null,
   "id": "41494cf2",
   "metadata": {},
   "outputs": [],
   "source": [
    "tf.config.run_functions_eagerly(True) #prevents weir tensorflow error"
   ]
  },
  {
   "cell_type": "code",
   "execution_count": 32,
   "id": "bab64e5b",
   "metadata": {},
   "outputs": [
    {
     "name": "stdout",
     "output_type": "stream",
     "text": [
      "Epoch 1/5\n",
      "  13/1875 [..............................] - ETA: 17s - loss: 1.6185 - accuracy: 0.4495"
     ]
    },
    {
     "name": "stderr",
     "output_type": "stream",
     "text": [
      "/opt/anaconda3/lib/python3.9/site-packages/tensorflow/python/data/ops/structured_function.py:264: UserWarning: Even though the `tf.config.experimental_run_functions_eagerly` option is set, this option does not apply to tf.data functions. To force eager execution of tf.data functions, please use `tf.data.experimental.enable_debug_mode()`.\n",
      "  warnings.warn(\n"
     ]
    },
    {
     "name": "stdout",
     "output_type": "stream",
     "text": [
      "1875/1875 [==============================] - 18s 9ms/step - loss: 0.5171 - accuracy: 0.8171\n",
      "Epoch 2/5\n",
      "1875/1875 [==============================] - 19s 10ms/step - loss: 0.3867 - accuracy: 0.8593\n",
      "Epoch 3/5\n",
      "1875/1875 [==============================] - 20s 10ms/step - loss: 0.3498 - accuracy: 0.8714\n",
      "Epoch 4/5\n",
      "1875/1875 [==============================] - 18s 10ms/step - loss: 0.3241 - accuracy: 0.8810\n",
      "Epoch 5/5\n",
      "1875/1875 [==============================] - 19s 10ms/step - loss: 0.3046 - accuracy: 0.8887\n"
     ]
    },
    {
     "data": {
      "text/plain": [
       "<keras.callbacks.History at 0x7fc9d40dfa60>"
      ]
     },
     "execution_count": 32,
     "metadata": {},
     "output_type": "execute_result"
    }
   ],
   "source": [
    "model.fit(train_images, train_labels_, epochs=5)"
   ]
  },
  {
   "cell_type": "markdown",
   "id": "7f9f3d3c",
   "metadata": {},
   "source": [
    "## Step 8) Training\n",
    "\n",
    "Now that we have trained our model, we want to evaluate it. Sure, our model is >88% accurayte on the training set, but what about on data it hasn't seen before? The test accuracy is a good metric for that."
   ]
  },
  {
   "cell_type": "code",
   "execution_count": 34,
   "id": "08d7f209",
   "metadata": {},
   "outputs": [
    {
     "name": "stdout",
     "output_type": "stream",
     "text": [
      "313/313 [==============================] - 2s 5ms/step - loss: 0.3558 - accuracy: 0.8737\n",
      "Test Accuracy: 0.87\n"
     ]
    }
   ],
   "source": [
    "loss, accuracy = model.evaluate(test_images, test_labels_)\n",
    "print(\"Test Accuracy: %.2f\" % (accuracy))"
   ]
  },
  {
   "cell_type": "markdown",
   "id": "0bbb7ed5",
   "metadata": {},
   "source": [
    "## To Do\n",
    "\n",
    "Congrats! You have sucessfully used TensorFlow Keras to train a model on the Fashion-MNIST dataset. Now, try with different hyperparameters such as:\n",
    "- Number of neurons in a layer\n",
    "- Number of layers\n",
    "- Learning Rate\n",
    "- Different Optimizer\n",
    "- Number of Epochs"
   ]
  },
  {
   "cell_type": "code",
   "execution_count": null,
   "id": "eedadb0b",
   "metadata": {},
   "outputs": [],
   "source": []
  }
 ],
 "metadata": {
  "kernelspec": {
   "display_name": "Python 3 (ipykernel)",
   "language": "python",
   "name": "python3"
  },
  "language_info": {
   "codemirror_mode": {
    "name": "ipython",
    "version": 3
   },
   "file_extension": ".py",
   "mimetype": "text/x-python",
   "name": "python",
   "nbconvert_exporter": "python",
   "pygments_lexer": "ipython3",
   "version": "3.9.7"
  }
 },
 "nbformat": 4,
 "nbformat_minor": 5
}
