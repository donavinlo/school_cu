{
 "cells": [
  {
   "cell_type": "markdown",
   "metadata": {
    "id": "sBJoQoYbqyLm"
   },
   "source": [
    "# Introduction\n",
    "\n",
    "In today's world, when disaster strikes, it appears all over social media. Facebook, Twitter, and now, Tiktok typically, floods with posts showing concerns, opinions and various other posts. However, some posts are an outcry for help. The posts are often oversaturated by other posts from people not facing the disaster. So, how can someone find these tweets? That's where machine learning comes into play!\n",
    "\n",
    "In this project we will create a model that can predict if a tweet is about a real disaster or not."
   ]
  },
  {
   "cell_type": "code",
   "execution_count": null,
   "metadata": {
    "id": "9GMZSRvkqCRq"
   },
   "outputs": [],
   "source": [
    "#Standard Libraries\n",
    "import pandas as pd\n",
    "import numpy as np\n",
    "import matplotlib.pyplot as plt\n",
    "import seaborn as sns\n",
    "\n",
    "\n",
    "# Text Cleaning and Manipulation\n",
    "import spacy\n",
    "from textblob import TextBlob\n",
    "import re\n",
    "import shutil\n",
    "import string\n",
    "import itertools\n",
    "punctuation = string.punctuation\n",
    "\n",
    "#Text Standardization\n",
    "from sklearn.feature_extraction.text import CountVectorizer\n",
    "\n",
    "#Neural Network\n",
    "import tensorflow as tf\n",
    "from tensorflow import keras\n",
    "\n",
    "#Keras Text\n",
    "from keras.preprocessing.text import Tokenizer\n",
    "from keras.preprocessing.sequence import pad_sequences\n",
    "\n",
    "#Keras NN\n",
    "from keras.models import Sequential, load_model\n",
    "from keras.layers import Conv1D, MaxPooling1D, GlobalMaxPooling1D, Dense, Flatten, LSTM, Dropout, SimpleRNN\n",
    "from keras.layers.embeddings import Embedding\n",
    "from keras.callbacks import EarlyStopping\n",
    "from tensorflow.keras.optimizers import Adam\n",
    "\n",
    "from IPython.display import Image"
   ]
  },
  {
   "cell_type": "code",
   "execution_count": null,
   "metadata": {
    "id": "H6ASUuNfs2AZ"
   },
   "outputs": [],
   "source": [
    "colors = [\"black\", \"orange\"]\n",
    "DATA_PATH = \"data/\"\n",
    "train_df = pd.read_csv(DATA_PATH + \"train.csv\")\n",
    "test_df = pd.read_csv(DATA_PATH + \"test.csv\")"
   ]
  },
  {
   "cell_type": "markdown",
   "metadata": {
    "id": "X7RfaOzOuJ11"
   },
   "source": [
    "# Data Description\n",
    "\n",
    "Our datasets consist of four predictors:\n",
    "  - `ID`\n",
    "  - `keyword`\n",
    "  - `location`\n",
    "  - `text`\n",
    "Our training dataset consists of 7613 observations while our test set contains 3263.\n",
    "\n",
    "Also, our training dataset has a `target` predictor. Because we have many missing values, and the columns will not help in our model, I am dropping `keyword` and `location` as predictors. However, we will wait to drop `keyword` from the dataset as it could give us some insight when conducting EDA"
   ]
  },
  {
   "cell_type": "code",
   "execution_count": null,
   "metadata": {
    "colab": {
     "base_uri": "https://localhost:8080/",
     "height": 258
    },
    "id": "fm7cwQHruOnl",
    "outputId": "a4a2e9bd-df28-487b-a42e-a6d64822ea0b"
   },
   "outputs": [
    {
     "name": "stdout",
     "output_type": "stream",
     "text": [
      "(7613, 5)\n",
      "61\n",
      "2533\n"
     ]
    },
    {
     "data": {
      "text/html": [
       "\n",
       "  <div id=\"df-5400afdc-7d18-4a76-a981-87427ee6fdfc\">\n",
       "    <div class=\"colab-df-container\">\n",
       "      <div>\n",
       "<style scoped>\n",
       "    .dataframe tbody tr th:only-of-type {\n",
       "        vertical-align: middle;\n",
       "    }\n",
       "\n",
       "    .dataframe tbody tr th {\n",
       "        vertical-align: top;\n",
       "    }\n",
       "\n",
       "    .dataframe thead th {\n",
       "        text-align: right;\n",
       "    }\n",
       "</style>\n",
       "<table border=\"1\" class=\"dataframe\">\n",
       "  <thead>\n",
       "    <tr style=\"text-align: right;\">\n",
       "      <th></th>\n",
       "      <th>id</th>\n",
       "      <th>keyword</th>\n",
       "      <th>location</th>\n",
       "      <th>text</th>\n",
       "      <th>target</th>\n",
       "    </tr>\n",
       "  </thead>\n",
       "  <tbody>\n",
       "    <tr>\n",
       "      <th>0</th>\n",
       "      <td>1</td>\n",
       "      <td>NaN</td>\n",
       "      <td>NaN</td>\n",
       "      <td>Our Deeds are the Reason of this #earthquake M...</td>\n",
       "      <td>1</td>\n",
       "    </tr>\n",
       "    <tr>\n",
       "      <th>1</th>\n",
       "      <td>4</td>\n",
       "      <td>NaN</td>\n",
       "      <td>NaN</td>\n",
       "      <td>Forest fire near La Ronge Sask. Canada</td>\n",
       "      <td>1</td>\n",
       "    </tr>\n",
       "    <tr>\n",
       "      <th>2</th>\n",
       "      <td>5</td>\n",
       "      <td>NaN</td>\n",
       "      <td>NaN</td>\n",
       "      <td>All residents asked to 'shelter in place' are ...</td>\n",
       "      <td>1</td>\n",
       "    </tr>\n",
       "    <tr>\n",
       "      <th>3</th>\n",
       "      <td>6</td>\n",
       "      <td>NaN</td>\n",
       "      <td>NaN</td>\n",
       "      <td>13,000 people receive #wildfires evacuation or...</td>\n",
       "      <td>1</td>\n",
       "    </tr>\n",
       "    <tr>\n",
       "      <th>4</th>\n",
       "      <td>7</td>\n",
       "      <td>NaN</td>\n",
       "      <td>NaN</td>\n",
       "      <td>Just got sent this photo from Ruby #Alaska as ...</td>\n",
       "      <td>1</td>\n",
       "    </tr>\n",
       "  </tbody>\n",
       "</table>\n",
       "</div>\n",
       "      <button class=\"colab-df-convert\" onclick=\"convertToInteractive('df-5400afdc-7d18-4a76-a981-87427ee6fdfc')\"\n",
       "              title=\"Convert this dataframe to an interactive table.\"\n",
       "              style=\"display:none;\">\n",
       "        \n",
       "  <svg xmlns=\"http://www.w3.org/2000/svg\" height=\"24px\"viewBox=\"0 0 24 24\"\n",
       "       width=\"24px\">\n",
       "    <path d=\"M0 0h24v24H0V0z\" fill=\"none\"/>\n",
       "    <path d=\"M18.56 5.44l.94 2.06.94-2.06 2.06-.94-2.06-.94-.94-2.06-.94 2.06-2.06.94zm-11 1L8.5 8.5l.94-2.06 2.06-.94-2.06-.94L8.5 2.5l-.94 2.06-2.06.94zm10 10l.94 2.06.94-2.06 2.06-.94-2.06-.94-.94-2.06-.94 2.06-2.06.94z\"/><path d=\"M17.41 7.96l-1.37-1.37c-.4-.4-.92-.59-1.43-.59-.52 0-1.04.2-1.43.59L10.3 9.45l-7.72 7.72c-.78.78-.78 2.05 0 2.83L4 21.41c.39.39.9.59 1.41.59.51 0 1.02-.2 1.41-.59l7.78-7.78 2.81-2.81c.8-.78.8-2.07 0-2.86zM5.41 20L4 18.59l7.72-7.72 1.47 1.35L5.41 20z\"/>\n",
       "  </svg>\n",
       "      </button>\n",
       "      \n",
       "  <style>\n",
       "    .colab-df-container {\n",
       "      display:flex;\n",
       "      flex-wrap:wrap;\n",
       "      gap: 12px;\n",
       "    }\n",
       "\n",
       "    .colab-df-convert {\n",
       "      background-color: #E8F0FE;\n",
       "      border: none;\n",
       "      border-radius: 50%;\n",
       "      cursor: pointer;\n",
       "      display: none;\n",
       "      fill: #1967D2;\n",
       "      height: 32px;\n",
       "      padding: 0 0 0 0;\n",
       "      width: 32px;\n",
       "    }\n",
       "\n",
       "    .colab-df-convert:hover {\n",
       "      background-color: #E2EBFA;\n",
       "      box-shadow: 0px 1px 2px rgba(60, 64, 67, 0.3), 0px 1px 3px 1px rgba(60, 64, 67, 0.15);\n",
       "      fill: #174EA6;\n",
       "    }\n",
       "\n",
       "    [theme=dark] .colab-df-convert {\n",
       "      background-color: #3B4455;\n",
       "      fill: #D2E3FC;\n",
       "    }\n",
       "\n",
       "    [theme=dark] .colab-df-convert:hover {\n",
       "      background-color: #434B5C;\n",
       "      box-shadow: 0px 1px 3px 1px rgba(0, 0, 0, 0.15);\n",
       "      filter: drop-shadow(0px 1px 2px rgba(0, 0, 0, 0.3));\n",
       "      fill: #FFFFFF;\n",
       "    }\n",
       "  </style>\n",
       "\n",
       "      <script>\n",
       "        const buttonEl =\n",
       "          document.querySelector('#df-5400afdc-7d18-4a76-a981-87427ee6fdfc button.colab-df-convert');\n",
       "        buttonEl.style.display =\n",
       "          google.colab.kernel.accessAllowed ? 'block' : 'none';\n",
       "\n",
       "        async function convertToInteractive(key) {\n",
       "          const element = document.querySelector('#df-5400afdc-7d18-4a76-a981-87427ee6fdfc');\n",
       "          const dataTable =\n",
       "            await google.colab.kernel.invokeFunction('convertToInteractive',\n",
       "                                                     [key], {});\n",
       "          if (!dataTable) return;\n",
       "\n",
       "          const docLinkHtml = 'Like what you see? Visit the ' +\n",
       "            '<a target=\"_blank\" href=https://colab.research.google.com/notebooks/data_table.ipynb>data table notebook</a>'\n",
       "            + ' to learn more about interactive tables.';\n",
       "          element.innerHTML = '';\n",
       "          dataTable['output_type'] = 'display_data';\n",
       "          await google.colab.output.renderOutput(dataTable, element);\n",
       "          const docLink = document.createElement('div');\n",
       "          docLink.innerHTML = docLinkHtml;\n",
       "          element.appendChild(docLink);\n",
       "        }\n",
       "      </script>\n",
       "    </div>\n",
       "  </div>\n",
       "  "
      ],
      "text/plain": [
       "   id keyword location                                               text  \\\n",
       "0   1     NaN      NaN  Our Deeds are the Reason of this #earthquake M...   \n",
       "1   4     NaN      NaN             Forest fire near La Ronge Sask. Canada   \n",
       "2   5     NaN      NaN  All residents asked to 'shelter in place' are ...   \n",
       "3   6     NaN      NaN  13,000 people receive #wildfires evacuation or...   \n",
       "4   7     NaN      NaN  Just got sent this photo from Ruby #Alaska as ...   \n",
       "\n",
       "   target  \n",
       "0       1  \n",
       "1       1  \n",
       "2       1  \n",
       "3       1  \n",
       "4       1  "
      ]
     },
     "execution_count": 3,
     "metadata": {},
     "output_type": "execute_result"
    }
   ],
   "source": [
    "print(train_df.shape)\n",
    "print(train_df[\"keyword\"].isnull().sum())\n",
    "print(train_df[\"location\"].isnull().sum())\n",
    "train_df.head(5)"
   ]
  },
  {
   "cell_type": "code",
   "execution_count": null,
   "metadata": {
    "colab": {
     "base_uri": "https://localhost:8080/",
     "height": 258
    },
    "id": "gnNOHQtruT6F",
    "outputId": "ee177a13-4ba7-4803-a4fe-af4c007b5151"
   },
   "outputs": [
    {
     "name": "stdout",
     "output_type": "stream",
     "text": [
      "(3263, 4)\n",
      "26\n",
      "1105\n"
     ]
    },
    {
     "data": {
      "text/html": [
       "\n",
       "  <div id=\"df-9233a618-ede5-4e2e-8b20-d0cda2c1eb86\">\n",
       "    <div class=\"colab-df-container\">\n",
       "      <div>\n",
       "<style scoped>\n",
       "    .dataframe tbody tr th:only-of-type {\n",
       "        vertical-align: middle;\n",
       "    }\n",
       "\n",
       "    .dataframe tbody tr th {\n",
       "        vertical-align: top;\n",
       "    }\n",
       "\n",
       "    .dataframe thead th {\n",
       "        text-align: right;\n",
       "    }\n",
       "</style>\n",
       "<table border=\"1\" class=\"dataframe\">\n",
       "  <thead>\n",
       "    <tr style=\"text-align: right;\">\n",
       "      <th></th>\n",
       "      <th>id</th>\n",
       "      <th>keyword</th>\n",
       "      <th>location</th>\n",
       "      <th>text</th>\n",
       "    </tr>\n",
       "  </thead>\n",
       "  <tbody>\n",
       "    <tr>\n",
       "      <th>0</th>\n",
       "      <td>0</td>\n",
       "      <td>NaN</td>\n",
       "      <td>NaN</td>\n",
       "      <td>Just happened a terrible car crash</td>\n",
       "    </tr>\n",
       "    <tr>\n",
       "      <th>1</th>\n",
       "      <td>2</td>\n",
       "      <td>NaN</td>\n",
       "      <td>NaN</td>\n",
       "      <td>Heard about #earthquake is different cities, s...</td>\n",
       "    </tr>\n",
       "    <tr>\n",
       "      <th>2</th>\n",
       "      <td>3</td>\n",
       "      <td>NaN</td>\n",
       "      <td>NaN</td>\n",
       "      <td>there is a forest fire at spot pond, geese are...</td>\n",
       "    </tr>\n",
       "    <tr>\n",
       "      <th>3</th>\n",
       "      <td>9</td>\n",
       "      <td>NaN</td>\n",
       "      <td>NaN</td>\n",
       "      <td>Apocalypse lighting. #Spokane #wildfires</td>\n",
       "    </tr>\n",
       "    <tr>\n",
       "      <th>4</th>\n",
       "      <td>11</td>\n",
       "      <td>NaN</td>\n",
       "      <td>NaN</td>\n",
       "      <td>Typhoon Soudelor kills 28 in China and Taiwan</td>\n",
       "    </tr>\n",
       "  </tbody>\n",
       "</table>\n",
       "</div>\n",
       "      <button class=\"colab-df-convert\" onclick=\"convertToInteractive('df-9233a618-ede5-4e2e-8b20-d0cda2c1eb86')\"\n",
       "              title=\"Convert this dataframe to an interactive table.\"\n",
       "              style=\"display:none;\">\n",
       "        \n",
       "  <svg xmlns=\"http://www.w3.org/2000/svg\" height=\"24px\"viewBox=\"0 0 24 24\"\n",
       "       width=\"24px\">\n",
       "    <path d=\"M0 0h24v24H0V0z\" fill=\"none\"/>\n",
       "    <path d=\"M18.56 5.44l.94 2.06.94-2.06 2.06-.94-2.06-.94-.94-2.06-.94 2.06-2.06.94zm-11 1L8.5 8.5l.94-2.06 2.06-.94-2.06-.94L8.5 2.5l-.94 2.06-2.06.94zm10 10l.94 2.06.94-2.06 2.06-.94-2.06-.94-.94-2.06-.94 2.06-2.06.94z\"/><path d=\"M17.41 7.96l-1.37-1.37c-.4-.4-.92-.59-1.43-.59-.52 0-1.04.2-1.43.59L10.3 9.45l-7.72 7.72c-.78.78-.78 2.05 0 2.83L4 21.41c.39.39.9.59 1.41.59.51 0 1.02-.2 1.41-.59l7.78-7.78 2.81-2.81c.8-.78.8-2.07 0-2.86zM5.41 20L4 18.59l7.72-7.72 1.47 1.35L5.41 20z\"/>\n",
       "  </svg>\n",
       "      </button>\n",
       "      \n",
       "  <style>\n",
       "    .colab-df-container {\n",
       "      display:flex;\n",
       "      flex-wrap:wrap;\n",
       "      gap: 12px;\n",
       "    }\n",
       "\n",
       "    .colab-df-convert {\n",
       "      background-color: #E8F0FE;\n",
       "      border: none;\n",
       "      border-radius: 50%;\n",
       "      cursor: pointer;\n",
       "      display: none;\n",
       "      fill: #1967D2;\n",
       "      height: 32px;\n",
       "      padding: 0 0 0 0;\n",
       "      width: 32px;\n",
       "    }\n",
       "\n",
       "    .colab-df-convert:hover {\n",
       "      background-color: #E2EBFA;\n",
       "      box-shadow: 0px 1px 2px rgba(60, 64, 67, 0.3), 0px 1px 3px 1px rgba(60, 64, 67, 0.15);\n",
       "      fill: #174EA6;\n",
       "    }\n",
       "\n",
       "    [theme=dark] .colab-df-convert {\n",
       "      background-color: #3B4455;\n",
       "      fill: #D2E3FC;\n",
       "    }\n",
       "\n",
       "    [theme=dark] .colab-df-convert:hover {\n",
       "      background-color: #434B5C;\n",
       "      box-shadow: 0px 1px 3px 1px rgba(0, 0, 0, 0.15);\n",
       "      filter: drop-shadow(0px 1px 2px rgba(0, 0, 0, 0.3));\n",
       "      fill: #FFFFFF;\n",
       "    }\n",
       "  </style>\n",
       "\n",
       "      <script>\n",
       "        const buttonEl =\n",
       "          document.querySelector('#df-9233a618-ede5-4e2e-8b20-d0cda2c1eb86 button.colab-df-convert');\n",
       "        buttonEl.style.display =\n",
       "          google.colab.kernel.accessAllowed ? 'block' : 'none';\n",
       "\n",
       "        async function convertToInteractive(key) {\n",
       "          const element = document.querySelector('#df-9233a618-ede5-4e2e-8b20-d0cda2c1eb86');\n",
       "          const dataTable =\n",
       "            await google.colab.kernel.invokeFunction('convertToInteractive',\n",
       "                                                     [key], {});\n",
       "          if (!dataTable) return;\n",
       "\n",
       "          const docLinkHtml = 'Like what you see? Visit the ' +\n",
       "            '<a target=\"_blank\" href=https://colab.research.google.com/notebooks/data_table.ipynb>data table notebook</a>'\n",
       "            + ' to learn more about interactive tables.';\n",
       "          element.innerHTML = '';\n",
       "          dataTable['output_type'] = 'display_data';\n",
       "          await google.colab.output.renderOutput(dataTable, element);\n",
       "          const docLink = document.createElement('div');\n",
       "          docLink.innerHTML = docLinkHtml;\n",
       "          element.appendChild(docLink);\n",
       "        }\n",
       "      </script>\n",
       "    </div>\n",
       "  </div>\n",
       "  "
      ],
      "text/plain": [
       "   id keyword location                                               text\n",
       "0   0     NaN      NaN                 Just happened a terrible car crash\n",
       "1   2     NaN      NaN  Heard about #earthquake is different cities, s...\n",
       "2   3     NaN      NaN  there is a forest fire at spot pond, geese are...\n",
       "3   9     NaN      NaN           Apocalypse lighting. #Spokane #wildfires\n",
       "4  11     NaN      NaN      Typhoon Soudelor kills 28 in China and Taiwan"
      ]
     },
     "execution_count": 4,
     "metadata": {},
     "output_type": "execute_result"
    }
   ],
   "source": [
    "print(test_df.shape)\n",
    "print(test_df[\"keyword\"].isnull().sum())\n",
    "print(test_df[\"location\"].isnull().sum())\n",
    "test_df.head(5)"
   ]
  },
  {
   "cell_type": "code",
   "execution_count": null,
   "metadata": {
    "id": "Po0wpTYXwUt6"
   },
   "outputs": [],
   "source": [
    "train_df.drop([\"location\"], axis=1, inplace=True)\n",
    "test_df.drop([\"location\"], axis=1, inplace=True)"
   ]
  },
  {
   "cell_type": "markdown",
   "metadata": {
    "id": "jcZmHGMGtBmI"
   },
   "source": [
    "# Cleaning\n",
    "\n",
    "\n",
    "\n",
    "Here we will perform various text cleaning techniques.\n",
    "\n",
    "- First, we add *amp* to the stopword list. This was a common word within both disaster and non-disaster tweets. Adding this term will remove a word that is common among both classes.\n",
    "- Next, I used regex to keep words with a hashtag. When tokenized, spacy would separate the hashtag from the word. Then, our `remove_punctuation` method would remove the hashtag from the string. These hashtags could be key indicators to determine the class of the tweet. Thus, we need to keep the hashtag together.\n",
    "- Our `lemmatize` function will return the word to its root form. Thus, we decrease the variance of words. Eating and eat will count as the same\n",
    "- Last, we remove links as they're are not beneficial to our analysis\n"
   ]
  },
  {
   "cell_type": "code",
   "execution_count": null,
   "metadata": {
    "id": "dNRNef6eOabJ"
   },
   "outputs": [],
   "source": [
    "#For tokenizing\n",
    "nlp = spacy.load(\"en_core_web_sm\")\n",
    "stopwords = nlp.Defaults.stop_words\n",
    "stopwords.add(\"amp\")\n",
    "example_tweet = \"hope I get a new pair of these @Nike shoes!!!! #nikelife https://www.nike.com/launch/t/womens-air-force-1-reveal-pastel-reveal\"\n",
    "\n",
    "#### Add hastags as one whole token instead of separating the hashtag and the word\n",
    "hasthag_token_match = spacy.tokenizer._get_regex_pattern(nlp.Defaults.token_match)\n",
    "hashtag_token_match = f\"({hasthag_token_match}|#\\\\w+)\"\n",
    "nlp.tokenizer.token_match = re.compile(hashtag_token_match).match"
   ]
  },
  {
   "cell_type": "code",
   "execution_count": null,
   "metadata": {
    "id": "XbrIYiI7uPmU"
   },
   "outputs": [],
   "source": [
    "def lemmatize(text):\n",
    "    \"\"\"Lemmatize the tokens.\n",
    "    \n",
    "    Retains more natural word forms than stemming. Brings each word to the appropriate stemming based on the part of speech\n",
    "    \"\"\"\n",
    "    text = text.lower()\n",
    "    lemmas = []\n",
    "    tweet = nlp(text)\n",
    "\n",
    "    for token in tweet:\n",
    "      lemmas.append(token.lemma_)\n",
    "    return lemmas\n",
    "    \n",
    "def remove_stopwords(tokens):\n",
    "    \"\"\"Remove stopwords i.e. words that we do not want within our dataset.\"\"\"   \n",
    "    return [ token for token in tokens if token not in stopwords ]\n",
    "\n",
    "def remove_links(tokens):\n",
    "    \"\"\"Removes http/s links from the tokens.\n",
    "    \"\"\"\n",
    "    return [ t for t in tokens\n",
    "            if not t.startswith(\"http://\")\n",
    "            and not t.startswith(\"https://\")\n",
    "        ]\n",
    "\n",
    "def remove_punctuation(tokens):\n",
    "    \"\"\"Remove punctuation from a list of tokens.\n",
    "    \"\"\"\n",
    "    tokens = [t for t in tokens if t not in string.punctuation]\n",
    "    return tokens\n",
    "\n",
    "def clean_tweet(text):\n",
    "  \"\"\"\n",
    "  clean a tweet using helper functions\n",
    "  \"\"\"\n",
    "  tokens = lemmatize(text)\n",
    "  tokens = remove_links(tokens)\n",
    "  tokens = remove_stopwords(tokens)\n",
    "  tokens = remove_punctuation(tokens)\n",
    "  text = \" \".join(tokens)\n",
    "  return text\n"
   ]
  },
  {
   "cell_type": "code",
   "execution_count": null,
   "metadata": {
    "colab": {
     "base_uri": "https://localhost:8080/"
    },
    "id": "YmHeqFfV2CdS",
    "outputId": "fe08e568-e4e1-4ac5-8358-a6863e78d59f"
   },
   "outputs": [
    {
     "name": "stdout",
     "output_type": "stream",
     "text": [
      "omg I yesterday harry concert awesome #willgoagain @christie\n"
     ]
    }
   ],
   "source": [
    "#Ex tweet\n",
    "text = \"OMG! I saw him yesterday. Harry's concert was awesome! #WillGoAgain @Christie\"\n",
    "print(clean_tweet(text))"
   ]
  },
  {
   "cell_type": "code",
   "execution_count": null,
   "metadata": {
    "id": "L3a7rCLn-cCr"
   },
   "outputs": [],
   "source": [
    "train_df[\"text\"] = train_df[\"text\"].apply(lambda x: clean_tweet(x))\n",
    "test_df[\"text\"] = test_df[\"text\"].apply(lambda x: clean_tweet(x))"
   ]
  },
  {
   "cell_type": "code",
   "execution_count": null,
   "metadata": {
    "colab": {
     "base_uri": "https://localhost:8080/",
     "height": 206
    },
    "id": "ZMjrGqPDTS2I",
    "outputId": "05b80c3b-1e71-41fe-b22a-4806f2293960"
   },
   "outputs": [
    {
     "data": {
      "text/html": [
       "\n",
       "  <div id=\"df-ea7c2713-c008-469b-a586-45226d71b34e\">\n",
       "    <div class=\"colab-df-container\">\n",
       "      <div>\n",
       "<style scoped>\n",
       "    .dataframe tbody tr th:only-of-type {\n",
       "        vertical-align: middle;\n",
       "    }\n",
       "\n",
       "    .dataframe tbody tr th {\n",
       "        vertical-align: top;\n",
       "    }\n",
       "\n",
       "    .dataframe thead th {\n",
       "        text-align: right;\n",
       "    }\n",
       "</style>\n",
       "<table border=\"1\" class=\"dataframe\">\n",
       "  <thead>\n",
       "    <tr style=\"text-align: right;\">\n",
       "      <th></th>\n",
       "      <th>id</th>\n",
       "      <th>keyword</th>\n",
       "      <th>text</th>\n",
       "      <th>target</th>\n",
       "    </tr>\n",
       "  </thead>\n",
       "  <tbody>\n",
       "    <tr>\n",
       "      <th>0</th>\n",
       "      <td>1</td>\n",
       "      <td>NaN</td>\n",
       "      <td>deed reason #earthquake allah forgive</td>\n",
       "      <td>1</td>\n",
       "    </tr>\n",
       "    <tr>\n",
       "      <th>1</th>\n",
       "      <td>4</td>\n",
       "      <td>NaN</td>\n",
       "      <td>forest fire near la ronge sask canada</td>\n",
       "      <td>1</td>\n",
       "    </tr>\n",
       "    <tr>\n",
       "      <th>2</th>\n",
       "      <td>5</td>\n",
       "      <td>NaN</td>\n",
       "      <td>resident ask shelter place notify officer evac...</td>\n",
       "      <td>1</td>\n",
       "    </tr>\n",
       "    <tr>\n",
       "      <th>3</th>\n",
       "      <td>6</td>\n",
       "      <td>NaN</td>\n",
       "      <td>13,000 people receive #wildfire evacuation ord...</td>\n",
       "      <td>1</td>\n",
       "    </tr>\n",
       "    <tr>\n",
       "      <th>4</th>\n",
       "      <td>7</td>\n",
       "      <td>NaN</td>\n",
       "      <td>got send photo ruby #alaska smoke #wildfire po...</td>\n",
       "      <td>1</td>\n",
       "    </tr>\n",
       "  </tbody>\n",
       "</table>\n",
       "</div>\n",
       "      <button class=\"colab-df-convert\" onclick=\"convertToInteractive('df-ea7c2713-c008-469b-a586-45226d71b34e')\"\n",
       "              title=\"Convert this dataframe to an interactive table.\"\n",
       "              style=\"display:none;\">\n",
       "        \n",
       "  <svg xmlns=\"http://www.w3.org/2000/svg\" height=\"24px\"viewBox=\"0 0 24 24\"\n",
       "       width=\"24px\">\n",
       "    <path d=\"M0 0h24v24H0V0z\" fill=\"none\"/>\n",
       "    <path d=\"M18.56 5.44l.94 2.06.94-2.06 2.06-.94-2.06-.94-.94-2.06-.94 2.06-2.06.94zm-11 1L8.5 8.5l.94-2.06 2.06-.94-2.06-.94L8.5 2.5l-.94 2.06-2.06.94zm10 10l.94 2.06.94-2.06 2.06-.94-2.06-.94-.94-2.06-.94 2.06-2.06.94z\"/><path d=\"M17.41 7.96l-1.37-1.37c-.4-.4-.92-.59-1.43-.59-.52 0-1.04.2-1.43.59L10.3 9.45l-7.72 7.72c-.78.78-.78 2.05 0 2.83L4 21.41c.39.39.9.59 1.41.59.51 0 1.02-.2 1.41-.59l7.78-7.78 2.81-2.81c.8-.78.8-2.07 0-2.86zM5.41 20L4 18.59l7.72-7.72 1.47 1.35L5.41 20z\"/>\n",
       "  </svg>\n",
       "      </button>\n",
       "      \n",
       "  <style>\n",
       "    .colab-df-container {\n",
       "      display:flex;\n",
       "      flex-wrap:wrap;\n",
       "      gap: 12px;\n",
       "    }\n",
       "\n",
       "    .colab-df-convert {\n",
       "      background-color: #E8F0FE;\n",
       "      border: none;\n",
       "      border-radius: 50%;\n",
       "      cursor: pointer;\n",
       "      display: none;\n",
       "      fill: #1967D2;\n",
       "      height: 32px;\n",
       "      padding: 0 0 0 0;\n",
       "      width: 32px;\n",
       "    }\n",
       "\n",
       "    .colab-df-convert:hover {\n",
       "      background-color: #E2EBFA;\n",
       "      box-shadow: 0px 1px 2px rgba(60, 64, 67, 0.3), 0px 1px 3px 1px rgba(60, 64, 67, 0.15);\n",
       "      fill: #174EA6;\n",
       "    }\n",
       "\n",
       "    [theme=dark] .colab-df-convert {\n",
       "      background-color: #3B4455;\n",
       "      fill: #D2E3FC;\n",
       "    }\n",
       "\n",
       "    [theme=dark] .colab-df-convert:hover {\n",
       "      background-color: #434B5C;\n",
       "      box-shadow: 0px 1px 3px 1px rgba(0, 0, 0, 0.15);\n",
       "      filter: drop-shadow(0px 1px 2px rgba(0, 0, 0, 0.3));\n",
       "      fill: #FFFFFF;\n",
       "    }\n",
       "  </style>\n",
       "\n",
       "      <script>\n",
       "        const buttonEl =\n",
       "          document.querySelector('#df-ea7c2713-c008-469b-a586-45226d71b34e button.colab-df-convert');\n",
       "        buttonEl.style.display =\n",
       "          google.colab.kernel.accessAllowed ? 'block' : 'none';\n",
       "\n",
       "        async function convertToInteractive(key) {\n",
       "          const element = document.querySelector('#df-ea7c2713-c008-469b-a586-45226d71b34e');\n",
       "          const dataTable =\n",
       "            await google.colab.kernel.invokeFunction('convertToInteractive',\n",
       "                                                     [key], {});\n",
       "          if (!dataTable) return;\n",
       "\n",
       "          const docLinkHtml = 'Like what you see? Visit the ' +\n",
       "            '<a target=\"_blank\" href=https://colab.research.google.com/notebooks/data_table.ipynb>data table notebook</a>'\n",
       "            + ' to learn more about interactive tables.';\n",
       "          element.innerHTML = '';\n",
       "          dataTable['output_type'] = 'display_data';\n",
       "          await google.colab.output.renderOutput(dataTable, element);\n",
       "          const docLink = document.createElement('div');\n",
       "          docLink.innerHTML = docLinkHtml;\n",
       "          element.appendChild(docLink);\n",
       "        }\n",
       "      </script>\n",
       "    </div>\n",
       "  </div>\n",
       "  "
      ],
      "text/plain": [
       "   id keyword                                               text  target\n",
       "0   1     NaN              deed reason #earthquake allah forgive       1\n",
       "1   4     NaN              forest fire near la ronge sask canada       1\n",
       "2   5     NaN  resident ask shelter place notify officer evac...       1\n",
       "3   6     NaN  13,000 people receive #wildfire evacuation ord...       1\n",
       "4   7     NaN  got send photo ruby #alaska smoke #wildfire po...       1"
      ]
     },
     "execution_count": 10,
     "metadata": {},
     "output_type": "execute_result"
    }
   ],
   "source": [
    "train_df.head(5)"
   ]
  },
  {
   "cell_type": "markdown",
   "metadata": {
    "id": "wanAF1yr0f69"
   },
   "source": [
    "# EDA "
   ]
  },
  {
   "cell_type": "markdown",
   "metadata": {
    "id": "pZwfjan_Dj51"
   },
   "source": [
    "### Label Distribution\n",
    "\n",
    "First, we can see we hace slightly more nondisaster tweets than disaster tweets in our dataset."
   ]
  },
  {
   "cell_type": "code",
   "execution_count": null,
   "metadata": {
    "colab": {
     "base_uri": "https://localhost:8080/",
     "height": 347
    },
    "id": "unbIV__iwhQQ",
    "outputId": "7a08a078-5fc8-4cc4-a606-3b1b5b9af437"
   },
   "outputs": [
    {
     "data": {
      "text/plain": [
       "([<matplotlib.axis.XTick at 0x7f0469596350>,\n",
       "  <matplotlib.axis.XTick at 0x7f0469596310>],\n",
       " [Text(0, 0, 'Not Disaster'), Text(0, 0, 'Disaster')])"
      ]
     },
     "execution_count": 11,
     "metadata": {},
     "output_type": "execute_result"
    },
    {
     "data": {
      "image/png": "[encoded data removed]",
      "text/plain": [
       "<Figure size 432x288 with 1 Axes>"
      ]
     },
     "metadata": {
      "needs_background": "light"
     },
     "output_type": "display_data"
    }
   ],
   "source": [
    "sns.countplot(x=\"target\", data=train_df, palette=\"magma\")\n",
    "plt.title(\"Target Distribution\")\n",
    "plt.xticks([0,1], [\"Not Disaster\", \"Disaster\"])"
   ]
  },
  {
   "cell_type": "markdown",
   "metadata": {
    "id": "yMIALgnnGZ8C"
   },
   "source": [
    "# Top Keywords by Disaster and Nondisaster Tweets\n",
    "\n",
    "We can see most of the keywords in the `NonDisaster` tweets can be related to multiple other things. For example, *harm* can be used when describing somone injured from a sports injury. Also, *harm* can refer to someone's well being. Other words such as *siren*, *fear* and *explode* can all be words used in both disastorous and nondisastorous situation\n",
    "\n",
    "On the other hand, keywords in `Disaster` tweets state specific events that would happen in a disaster. Words like *derailment*, *wreckage*, *oil spill*, etc. pertain strictly to disastorous situations"
   ]
  },
  {
   "cell_type": "code",
   "execution_count": null,
   "metadata": {
    "colab": {
     "base_uri": "https://localhost:8080/",
     "height": 649
    },
    "id": "zyNda6MhGZFE",
    "outputId": "99605ee9-c0ac-4fa0-c3f6-eec8d0a568d8"
   },
   "outputs": [
    {
     "name": "stderr",
     "output_type": "stream",
     "text": [
      "/usr/local/lib/python3.7/dist-packages/seaborn/_decorators.py:43: FutureWarning: Pass the following variables as keyword args: x, y. From version 0.12, the only valid positional argument will be `data`, and passing other arguments without an explicit keyword will result in an error or misinterpretation.\n",
      "  FutureWarning\n",
      "/usr/local/lib/python3.7/dist-packages/seaborn/_decorators.py:43: FutureWarning: Pass the following variables as keyword args: x, y. From version 0.12, the only valid positional argument will be `data`, and passing other arguments without an explicit keyword will result in an error or misinterpretation.\n",
      "  FutureWarning\n"
     ]
    },
    {
     "data": {
      "image/png": "[encoded data removed]",
      "text/plain": [
       "<Figure size 1440x576 with 2 Axes>"
      ]
     },
     "metadata": {
      "needs_background": "light"
     },
     "output_type": "display_data"
    }
   ],
   "source": [
    "disaster_keywords = train_df[train_df[\"target\"] == 1][\"keyword\"].value_counts(ascending=False)\n",
    "not_disaster_keywords = train_df[train_df[\"target\"] == 0][\"keyword\"].value_counts(ascending=False)\n",
    "\n",
    "fig, ax = plt.subplots(1,2, figsize=(20,8))\n",
    "\n",
    "#Plot for Disaster Keywords\n",
    "sns.barplot(disaster_keywords[:10], disaster_keywords[:10].index, orient='h', ax=ax[0], palette=\"magma\")\n",
    "ax[0].set_title(\"Disaster\")\n",
    "ax[0].set_xlabel(\"Keyword Count\")\n",
    "\n",
    "#Plot for NonDisaster Keywords\n",
    "sns.barplot(not_disaster_keywords[:10], not_disaster_keywords[:10].index, orient='h', ax=ax[1], palette=\"magma\")\n",
    "ax[1].set_title(\"Not Disaster\")\n",
    "ax[1].set_xlabel(\"Keyword Count\")\n",
    "\n",
    "plt.tight_layout()\n",
    "plt.show()"
   ]
  },
  {
   "cell_type": "markdown",
   "metadata": {
    "id": "7pvbRLl1Rbt8"
   },
   "source": [
    "# Length of Tweets"
   ]
  },
  {
   "cell_type": "code",
   "execution_count": null,
   "metadata": {
    "id": "xXYqS2-iHani"
   },
   "outputs": [],
   "source": [
    "#Get length of Each Tweet\n",
    "train_df['tweet_length'] = train_df[\"text\"].apply(len)\n",
    "\n",
    "disaster_len = train_df[train_df[\"target\"] == 1]\n",
    "not_disaster_len = train_df[train_df[\"target\"] == 0]"
   ]
  },
  {
   "cell_type": "code",
   "execution_count": null,
   "metadata": {
    "colab": {
     "base_uri": "https://localhost:8080/",
     "height": 530
    },
    "id": "_F_rYI6wTKVy",
    "outputId": "b3a8c442-e289-47ef-9b91-229e735ef582"
   },
   "outputs": [
    {
     "data": {
      "text/plain": [
       "Text(0.5, 0, 'Length')"
      ]
     },
     "execution_count": 14,
     "metadata": {},
     "output_type": "execute_result"
    },
    {
     "data": {
      "image/png": "[encoded data removed]",
      "text/plain": [
       "<Figure size 1440x576 with 2 Axes>"
      ]
     },
     "metadata": {
      "needs_background": "light"
     },
     "output_type": "display_data"
    }
   ],
   "source": [
    "fig, ax = plt.subplots(2,1, figsize=(20,8))\n",
    "\n",
    "sns.histplot(x= disaster_len[\"tweet_length\"], ax=ax[0], palette=\"magma\")\n",
    "ax[0].set_title(\"Disaster\")\n",
    "ax[0].set_xlabel(\"Length\")\n",
    "\n",
    "sns.histplot(x= not_disaster_len[\"tweet_length\"], ax=ax[1], palette=\"magma\")\n",
    "ax[1].set_title(\"Not Disaster\")\n",
    "ax[1].set_xlabel(\"Length\")"
   ]
  },
  {
   "cell_type": "markdown",
   "metadata": {
    "id": "cFGZokNBSVoX"
   },
   "source": [
    "# Sentiment of Tweets\n",
    "\n"
   ]
  },
  {
   "cell_type": "code",
   "execution_count": null,
   "metadata": {
    "id": "4pn2hiuYXqwD"
   },
   "outputs": [],
   "source": [
    "#Get Sentiment of Tweets\n",
    "\n",
    "train_df['polarity'] = train_df['text'].apply(lambda x: TextBlob(x).sentiment.polarity)\n",
    "train_df['subjectivity'] = train_df['text'].apply(lambda x: TextBlob(x).sentiment.subjectivity)\n",
    "\n",
    "disaster_polarity = train_df[train_df[\"target\"] == 1]\n",
    "not_disaster_polarity = train_df[train_df[\"target\"] == 0]"
   ]
  },
  {
   "cell_type": "code",
   "execution_count": null,
   "metadata": {
    "colab": {
     "base_uri": "https://localhost:8080/",
     "height": 560
    },
    "id": "swtjZVvAYPZP",
    "outputId": "f68d9fb9-7cc3-4992-fd19-52612ae428b7"
   },
   "outputs": [
    {
     "data": {
      "image/png": "[encoded data removed]",
      "text/plain": [
       "<Figure size 1440x576 with 2 Axes>"
      ]
     },
     "metadata": {
      "needs_background": "light"
     },
     "output_type": "display_data"
    }
   ],
   "source": [
    "fig, ax = plt.subplots(2,1, figsize=(20,8))\n",
    "\n",
    "sns.histplot(x= disaster_polarity[\"polarity\"], ax=ax[0], palette=\"magma\")\n",
    "ax[0].set_title(\"Disaster\")\n",
    "ax[0].set_xlabel(\"Polarity\")\n",
    "\n",
    "sns.histplot(x= not_disaster_polarity[\"polarity\"], ax=ax[1], palette=\"magma\")\n",
    "ax[1].set_title(\"Not Disaster\")\n",
    "ax[1].set_xlabel(\"Polarity\")\n",
    "\n",
    "plt.tight_layout()"
   ]
  },
  {
   "cell_type": "code",
   "execution_count": null,
   "metadata": {
    "colab": {
     "base_uri": "https://localhost:8080/",
     "height": 560
    },
    "id": "Gw_I5QrMZea_",
    "outputId": "d922a9ce-565c-4dd6-d505-0ada3639a506"
   },
   "outputs": [
    {
     "data": {
      "image/png": "[encoded data removed]",
      "text/plain": [
       "<Figure size 1440x576 with 2 Axes>"
      ]
     },
     "metadata": {
      "needs_background": "light"
     },
     "output_type": "display_data"
    }
   ],
   "source": [
    "fig, ax = plt.subplots(2,1, figsize=(20,8))\n",
    "\n",
    "sns.histplot(x= disaster_polarity[\"subjectivity\"], ax=ax[0], palette=\"magma\")\n",
    "ax[0].set_title(\"Disaster\")\n",
    "ax[0].set_xlabel(None)\n",
    "\n",
    "sns.histplot(x= not_disaster_polarity[\"subjectivity\"], ax=ax[1], palette=\"magma\")\n",
    "ax[1].set_title(\"Not Disaster\")\n",
    "ax[1].set_xlabel(\"Subjectivity\")\n",
    "\n",
    "plt.tight_layout()"
   ]
  },
  {
   "cell_type": "markdown",
   "metadata": {
    "id": "LNh4DzxZ1yoT"
   },
   "source": [
    "### Bag of Words\n",
    "\n",
    "Last we would like to use the bag of words technique to see how words appear in different classes of tweets. Essentially, this technique counts the appearance of each word within a given tweet. For example, the sentence *I like peanuts; however, peanuts are as plentiful here* would haave a count of 2 for peanuts within the bag of words technique.\n",
    "\n",
    "Using this technique, we can see that `fire`, `kill`, `disaster` and `California` are commonly associated with actual disasters. However, the most common words in non-disaster related tweets are `like`, `new`, `body` and `love`. The non-disaster related tweets seems to have common words that are associated with less detrimental cases.\n",
    "\n",
    "neural networks -> https://www.atmosera.com/blog/text-classification-with-neural-networks/"
   ]
  },
  {
   "cell_type": "code",
   "execution_count": null,
   "metadata": {
    "colab": {
     "base_uri": "https://localhost:8080/",
     "height": 206
    },
    "id": "n7hHyYW3HLjh",
    "outputId": "180e93b2-3d54-4612-8f12-1f917cfd6c86"
   },
   "outputs": [
    {
     "data": {
      "text/html": [
       "\n",
       "  <div id=\"df-f327dc01-44f1-4cfb-88ad-20a4bf6d3d4e\">\n",
       "    <div class=\"colab-df-container\">\n",
       "      <div>\n",
       "<style scoped>\n",
       "    .dataframe tbody tr th:only-of-type {\n",
       "        vertical-align: middle;\n",
       "    }\n",
       "\n",
       "    .dataframe tbody tr th {\n",
       "        vertical-align: top;\n",
       "    }\n",
       "\n",
       "    .dataframe thead th {\n",
       "        text-align: right;\n",
       "    }\n",
       "</style>\n",
       "<table border=\"1\" class=\"dataframe\">\n",
       "  <thead>\n",
       "    <tr style=\"text-align: right;\">\n",
       "      <th></th>\n",
       "      <th>id</th>\n",
       "      <th>keyword</th>\n",
       "      <th>text</th>\n",
       "    </tr>\n",
       "  </thead>\n",
       "  <tbody>\n",
       "    <tr>\n",
       "      <th>0</th>\n",
       "      <td>0</td>\n",
       "      <td>NaN</td>\n",
       "      <td>happen terrible car crash</td>\n",
       "    </tr>\n",
       "    <tr>\n",
       "      <th>1</th>\n",
       "      <td>2</td>\n",
       "      <td>NaN</td>\n",
       "      <td>hear #earthquake different city stay safe</td>\n",
       "    </tr>\n",
       "    <tr>\n",
       "      <th>2</th>\n",
       "      <td>3</td>\n",
       "      <td>NaN</td>\n",
       "      <td>forest fire spot pond geese flee street I save</td>\n",
       "    </tr>\n",
       "    <tr>\n",
       "      <th>3</th>\n",
       "      <td>9</td>\n",
       "      <td>NaN</td>\n",
       "      <td>apocalypse lighting #spokane #wildfire</td>\n",
       "    </tr>\n",
       "    <tr>\n",
       "      <th>4</th>\n",
       "      <td>11</td>\n",
       "      <td>NaN</td>\n",
       "      <td>typhoon soudelor kill 28 china taiwan</td>\n",
       "    </tr>\n",
       "  </tbody>\n",
       "</table>\n",
       "</div>\n",
       "      <button class=\"colab-df-convert\" onclick=\"convertToInteractive('df-f327dc01-44f1-4cfb-88ad-20a4bf6d3d4e')\"\n",
       "              title=\"Convert this dataframe to an interactive table.\"\n",
       "              style=\"display:none;\">\n",
       "        \n",
       "  <svg xmlns=\"http://www.w3.org/2000/svg\" height=\"24px\"viewBox=\"0 0 24 24\"\n",
       "       width=\"24px\">\n",
       "    <path d=\"M0 0h24v24H0V0z\" fill=\"none\"/>\n",
       "    <path d=\"M18.56 5.44l.94 2.06.94-2.06 2.06-.94-2.06-.94-.94-2.06-.94 2.06-2.06.94zm-11 1L8.5 8.5l.94-2.06 2.06-.94-2.06-.94L8.5 2.5l-.94 2.06-2.06.94zm10 10l.94 2.06.94-2.06 2.06-.94-2.06-.94-.94-2.06-.94 2.06-2.06.94z\"/><path d=\"M17.41 7.96l-1.37-1.37c-.4-.4-.92-.59-1.43-.59-.52 0-1.04.2-1.43.59L10.3 9.45l-7.72 7.72c-.78.78-.78 2.05 0 2.83L4 21.41c.39.39.9.59 1.41.59.51 0 1.02-.2 1.41-.59l7.78-7.78 2.81-2.81c.8-.78.8-2.07 0-2.86zM5.41 20L4 18.59l7.72-7.72 1.47 1.35L5.41 20z\"/>\n",
       "  </svg>\n",
       "      </button>\n",
       "      \n",
       "  <style>\n",
       "    .colab-df-container {\n",
       "      display:flex;\n",
       "      flex-wrap:wrap;\n",
       "      gap: 12px;\n",
       "    }\n",
       "\n",
       "    .colab-df-convert {\n",
       "      background-color: #E8F0FE;\n",
       "      border: none;\n",
       "      border-radius: 50%;\n",
       "      cursor: pointer;\n",
       "      display: none;\n",
       "      fill: #1967D2;\n",
       "      height: 32px;\n",
       "      padding: 0 0 0 0;\n",
       "      width: 32px;\n",
       "    }\n",
       "\n",
       "    .colab-df-convert:hover {\n",
       "      background-color: #E2EBFA;\n",
       "      box-shadow: 0px 1px 2px rgba(60, 64, 67, 0.3), 0px 1px 3px 1px rgba(60, 64, 67, 0.15);\n",
       "      fill: #174EA6;\n",
       "    }\n",
       "\n",
       "    [theme=dark] .colab-df-convert {\n",
       "      background-color: #3B4455;\n",
       "      fill: #D2E3FC;\n",
       "    }\n",
       "\n",
       "    [theme=dark] .colab-df-convert:hover {\n",
       "      background-color: #434B5C;\n",
       "      box-shadow: 0px 1px 3px 1px rgba(0, 0, 0, 0.15);\n",
       "      filter: drop-shadow(0px 1px 2px rgba(0, 0, 0, 0.3));\n",
       "      fill: #FFFFFF;\n",
       "    }\n",
       "  </style>\n",
       "\n",
       "      <script>\n",
       "        const buttonEl =\n",
       "          document.querySelector('#df-f327dc01-44f1-4cfb-88ad-20a4bf6d3d4e button.colab-df-convert');\n",
       "        buttonEl.style.display =\n",
       "          google.colab.kernel.accessAllowed ? 'block' : 'none';\n",
       "\n",
       "        async function convertToInteractive(key) {\n",
       "          const element = document.querySelector('#df-f327dc01-44f1-4cfb-88ad-20a4bf6d3d4e');\n",
       "          const dataTable =\n",
       "            await google.colab.kernel.invokeFunction('convertToInteractive',\n",
       "                                                     [key], {});\n",
       "          if (!dataTable) return;\n",
       "\n",
       "          const docLinkHtml = 'Like what you see? Visit the ' +\n",
       "            '<a target=\"_blank\" href=https://colab.research.google.com/notebooks/data_table.ipynb>data table notebook</a>'\n",
       "            + ' to learn more about interactive tables.';\n",
       "          element.innerHTML = '';\n",
       "          dataTable['output_type'] = 'display_data';\n",
       "          await google.colab.output.renderOutput(dataTable, element);\n",
       "          const docLink = document.createElement('div');\n",
       "          docLink.innerHTML = docLinkHtml;\n",
       "          element.appendChild(docLink);\n",
       "        }\n",
       "      </script>\n",
       "    </div>\n",
       "  </div>\n",
       "  "
      ],
      "text/plain": [
       "   id keyword                                            text\n",
       "0   0     NaN                       happen terrible car crash\n",
       "1   2     NaN       hear #earthquake different city stay safe\n",
       "2   3     NaN  forest fire spot pond geese flee street I save\n",
       "3   9     NaN          apocalypse lighting #spokane #wildfire\n",
       "4  11     NaN           typhoon soudelor kill 28 china taiwan"
      ]
     },
     "execution_count": 18,
     "metadata": {},
     "output_type": "execute_result"
    }
   ],
   "source": [
    "test_df.head()"
   ]
  },
  {
   "cell_type": "code",
   "execution_count": null,
   "metadata": {
    "id": "WDamG4ZYW6rZ"
   },
   "outputs": [],
   "source": [
    "train_df.drop([\"keyword\", \"tweet_length\", \"polarity\", \"subjectivity\"], axis=1, inplace=True)\n",
    "test_df.drop([\"keyword\"], axis=1, inplace=True)\n",
    "tweets_train = np.array(train_df[\"text\"])\n",
    "tweets_test = np.array(test_df[\"text\"])\n",
    "y_train = np.array(train_df[\"target\"])"
   ]
  },
  {
   "cell_type": "code",
   "execution_count": null,
   "metadata": {
    "id": "b3qg-SG65r3B"
   },
   "outputs": [],
   "source": [
    "vectorizer = CountVectorizer(ngram_range=(1,2), max_df = 0.8, min_df = 0.005)\n",
    "X_sparse = vectorizer.fit_transform(tweets_train)"
   ]
  },
  {
   "cell_type": "code",
   "execution_count": null,
   "metadata": {
    "id": "oL4yoymX6f9R"
   },
   "outputs": [],
   "source": [
    "#Create Dataframe to Plot Top Words\n",
    "X_names = vectorizer.get_feature_names_out()\n",
    "X_counts = X_sparse.toarray()\n",
    "words_train_df = pd.DataFrame(X_counts, columns=X_names)\n",
    "words_train_df.index = train_df.index\n",
    "words_train_df['target'] = train_df['target']\n",
    "words_train_df = words_train_df.groupby('target').mean().transpose()\n",
    "words_train_df.rename(columns={0 : \"Nondisaster\", 1:\"Disaster\"}, inplace=True)"
   ]
  },
  {
   "cell_type": "code",
   "execution_count": null,
   "metadata": {
    "colab": {
     "base_uri": "https://localhost:8080/",
     "height": 787
    },
    "id": "inAqV8lL_vvm",
    "outputId": "6a17dbe7-3d22-45de-83fe-972cf0a5568a"
   },
   "outputs": [
    {
     "name": "stderr",
     "output_type": "stream",
     "text": [
      "/usr/local/lib/python3.7/dist-packages/seaborn/_decorators.py:43: FutureWarning: Pass the following variables as keyword args: x, y. From version 0.12, the only valid positional argument will be `data`, and passing other arguments without an explicit keyword will result in an error or misinterpretation.\n",
      "  FutureWarning\n",
      "/usr/local/lib/python3.7/dist-packages/seaborn/_decorators.py:43: FutureWarning: Pass the following variables as keyword args: x, y. From version 0.12, the only valid positional argument will be `data`, and passing other arguments without an explicit keyword will result in an error or misinterpretation.\n",
      "  FutureWarning\n"
     ]
    },
    {
     "data": {
      "image/png": "[encoded data removed]",
      "text/plain": [
       "<Figure size 1440x720 with 2 Axes>"
      ]
     },
     "metadata": {
      "needs_background": "light"
     },
     "output_type": "display_data"
    }
   ],
   "source": [
    "fig, ax = plt.subplots(2,1, figsize=(20,10))\n",
    "\n",
    "#Top Words in Disaster Tweets\n",
    "disaster_top_words = words_train_df[\"Disaster\"].sort_values(ascending=False)\n",
    "sns.barplot(disaster_top_words [:10], disaster_top_words[:10].index, orient='h', ax=ax[0], palette=\"magma\")\n",
    "ax[0].set_title(\"Disaster\")\n",
    "ax[0].set_xlabel(\"Term Appearance Per Tweet\")\n",
    "\n",
    "#Top Words in Non Disaster Tweets\n",
    "nondisaster_top_words = words_train_df[\"Nondisaster\"].sort_values(ascending=False)\n",
    "sns.barplot(nondisaster_top_words [:10], nondisaster_top_words[:10].index, orient='h', ax=ax[1], palette=\"magma\")\n",
    "ax[1].set_title(\"Not a Disaster\")\n",
    "ax[1].set_xlabel(\"Term Appearance Per Tweet\")\n",
    "\n",
    "plt.tight_layout()"
   ]
  },
  {
   "cell_type": "markdown",
   "metadata": {
    "id": "Et5CAeZgC6j8"
   },
   "source": [
    "# Model Building\n",
    "\n",
    "For many other models such as Linear Discriminant Analysis, or Logistic Regression, we would need to used the *Bag of Words* feature matrix to develop our model. However, for neural networks we can assign each word an assigned id by using the `pad_sequences` function. This allows each tweet to be the same length. Also, each word is assigned a number/index.\n",
    "\n",
    "Instead of using sparse matrices, such as in the bag of words model, our neural network creates a vector for each word and it's relation to other words and placed, or *embedded* into the feature step. This beginning step is completed within the `embedding layer`. Essentially, a vector is created for each word to describe its relation to all other words within the documents.\n",
    "\n",
    "\n",
    "Information about the embedding layer can be found [here](https://machinelearningmastery.com/use-word-embedding-layers-deep-learning-keras/).  \n",
    "\n",
    "\n",
    "Also, the information on how text data works within Neural Networks is found [here](https://www.atmosera.com/blog/text-classification-with-neural-networks/)"
   ]
  },
  {
   "cell_type": "markdown",
   "metadata": {
    "id": "6libK54CLm0h"
   },
   "source": [
    "## Model Testing\n",
    "\n",
    "We need to test models with different architectures to see which one fits best. We can adjust our hyperparameters once we choose a model with the best structure. Below, we'll test three different architectures and choose the model that words best.\n",
    "\n",
    "However, for all models we need to makre sure or strings are padded. Our neural network model will struggle if our strings aren't the same length. Therefore, we use padding. Any extra space within this padding is represented by a 0 within the document vector."
   ]
  },
  {
   "cell_type": "code",
   "execution_count": null,
   "metadata": {
    "id": "efkVC3XoMIn2"
   },
   "outputs": [],
   "source": [
    "tokenizer = Tokenizer()\n",
    "tokenizer.fit_on_texts(tweets_train)\n",
    "\n",
    "sequences_train = tokenizer.texts_to_sequences(tweets_train)\n",
    "sequences_test = tokenizer.texts_to_sequences(tweets_test)\n",
    "\n",
    "padded_sequences_train = pad_sequences(sequences_train)"
   ]
  },
  {
   "cell_type": "code",
   "execution_count": null,
   "metadata": {
    "id": "XhGQQz6CTwCj"
   },
   "outputs": [],
   "source": [
    "sequence_length = len(padded_sequences_train[256])"
   ]
  },
  {
   "cell_type": "code",
   "execution_count": null,
   "metadata": {
    "id": "hwgGBOpJUSSa"
   },
   "outputs": [],
   "source": [
    "num_words = len(tokenizer.word_index) + 1"
   ]
  },
  {
   "cell_type": "markdown",
   "metadata": {
    "id": "y9dRhb32adS6"
   },
   "source": [
    "#Model 1\n",
    "\n",
    "We need to test models with different architectures to see which architecture would be best for our data.\n",
    "\n",
    "Our first model will consist of a regular Neural Network with Dense layers.\n"
   ]
  },
  {
   "cell_type": "code",
   "execution_count": null,
   "metadata": {
    "id": "PejWskTyS1TP"
   },
   "outputs": [],
   "source": [
    "model1 = Sequential() \n",
    "model1.add(Embedding(num_words, 32, input_length=sequence_length)) \n",
    "model1.add(Flatten())\n",
    "model1.add(Dense(128, activation='relu'))\n",
    "model1.add(Dense(1, activation='sigmoid'))\n",
    "model1.compile(optimizer='adam', loss='binary_crossentropy', metrics=['accuracy'])"
   ]
  },
  {
   "cell_type": "code",
   "execution_count": null,
   "metadata": {
    "colab": {
     "base_uri": "https://localhost:8080/"
    },
    "id": "y44E4qGoU6cN",
    "outputId": "4f94a2f8-d76d-4e93-c2d2-562505ecf5b0"
   },
   "outputs": [
    {
     "name": "stdout",
     "output_type": "stream",
     "text": [
      "Epoch 1/5\n",
      "13/13 [==============================] - 1s 36ms/step - loss: 0.6758 - accuracy: 0.5750 - val_loss: 0.6777 - val_accuracy: 0.5384\n",
      "Epoch 2/5\n",
      "13/13 [==============================] - 0s 20ms/step - loss: 0.6365 - accuracy: 0.6516 - val_loss: 0.6306 - val_accuracy: 0.6888\n",
      "Epoch 3/5\n",
      "13/13 [==============================] - 0s 21ms/step - loss: 0.5312 - accuracy: 0.8149 - val_loss: 0.5583 - val_accuracy: 0.7334\n",
      "Epoch 4/5\n",
      "13/13 [==============================] - 0s 19ms/step - loss: 0.3696 - accuracy: 0.8824 - val_loss: 0.4933 - val_accuracy: 0.7728\n",
      "Epoch 5/5\n",
      "13/13 [==============================] - 0s 18ms/step - loss: 0.2386 - accuracy: 0.9256 - val_loss: 0.4807 - val_accuracy: 0.7846\n"
     ]
    },
    {
     "data": {
      "text/plain": [
       "<keras.callbacks.History at 0x7f0465a259d0>"
      ]
     },
     "execution_count": 27,
     "metadata": {},
     "output_type": "execute_result"
    }
   ],
   "source": [
    "model1.fit(padded_sequences_train, y_train, validation_split = 0.2, epochs=5,\n",
    "           batch_size=500)"
   ]
  },
  {
   "cell_type": "markdown",
   "metadata": {
    "id": "7Y3BViICVvRW"
   },
   "source": [
    "# Model 2\n",
    "\n",
    "# Use Simple RNN"
   ]
  },
  {
   "cell_type": "code",
   "execution_count": null,
   "metadata": {
    "id": "8thj-12ZUXj0"
   },
   "outputs": [],
   "source": [
    "model2 = Sequential() \n",
    "model2.add(Embedding(num_words,64, input_length=sequence_length)) \n",
    "\n",
    "model2.add(SimpleRNN(64))\n",
    "model2.add(Dropout(0.3))\n",
    "\n",
    "model2.add(Dense(1, activation='sigmoid'))\n",
    "model2.compile(optimizer='adam', loss='binary_crossentropy', metrics=['accuracy'])"
   ]
  },
  {
   "cell_type": "code",
   "execution_count": null,
   "metadata": {
    "colab": {
     "base_uri": "https://localhost:8080/"
    },
    "id": "LR9QIP1mVsvH",
    "outputId": "65e03946-fdfe-4470-f087-961b7caf6a36"
   },
   "outputs": [
    {
     "name": "stdout",
     "output_type": "stream",
     "text": [
      "Epoch 1/5\n",
      "13/13 [==============================] - 2s 74ms/step - loss: 0.6739 - accuracy: 0.5952 - val_loss: 0.6738 - val_accuracy: 0.5515\n",
      "Epoch 2/5\n",
      "13/13 [==============================] - 1s 52ms/step - loss: 0.5812 - accuracy: 0.7514 - val_loss: 0.6247 - val_accuracy: 0.6678\n",
      "Epoch 3/5\n",
      "13/13 [==============================] - 1s 56ms/step - loss: 0.4071 - accuracy: 0.8622 - val_loss: 0.5511 - val_accuracy: 0.7308\n",
      "Epoch 4/5\n",
      "13/13 [==============================] - 1s 54ms/step - loss: 0.2357 - accuracy: 0.9200 - val_loss: 0.5639 - val_accuracy: 0.7328\n",
      "Epoch 5/5\n",
      "13/13 [==============================] - 1s 54ms/step - loss: 0.1480 - accuracy: 0.9512 - val_loss: 0.6004 - val_accuracy: 0.7242\n"
     ]
    },
    {
     "data": {
      "text/plain": [
       "<keras.callbacks.History at 0x7f046632d690>"
      ]
     },
     "execution_count": 29,
     "metadata": {},
     "output_type": "execute_result"
    }
   ],
   "source": [
    "model2.fit(padded_sequences_train, y_train, validation_split = 0.2, epochs=5,\n",
    "           batch_size=500)"
   ]
  },
  {
   "cell_type": "markdown",
   "metadata": {
    "id": "a_xywiKicyT4"
   },
   "source": [
    "#Model 3: LTSM Model\n"
   ]
  },
  {
   "cell_type": "code",
   "execution_count": null,
   "metadata": {
    "id": "2J6fRyODdjBR"
   },
   "outputs": [],
   "source": [
    "model3 = Sequential()\n",
    "\n",
    "model3.add(Embedding(num_words, 64, input_length=sequence_length)) \n",
    "\n",
    "model3.add(LSTM(64, activation=\"relu\"))\n",
    "model3.add(Dropout(0.4))\n",
    "\n",
    "model3.add(Dense(32, activation=\"relu\"))\n",
    "model3.add(Dropout(0.4))\n",
    "\n",
    "model3.add(Dense(1, activation='sigmoid'))\n",
    "model3.compile(loss='binary_crossentropy', optimizer='adam', metrics=['accuracy']) #Use return sequences if adding another LSTM"
   ]
  },
  {
   "cell_type": "code",
   "execution_count": null,
   "metadata": {
    "colab": {
     "base_uri": "https://localhost:8080/"
    },
    "id": "FdxD5aD1ejRF",
    "outputId": "2bcffef5-1593-4e38-cd5a-52291e9ff163"
   },
   "outputs": [
    {
     "name": "stdout",
     "output_type": "stream",
     "text": [
      "Epoch 1/5\n",
      "191/191 [==============================] - 9s 34ms/step - loss: 0.5902 - accuracy: 0.6770 - val_loss: 0.4854 - val_accuracy: 0.7965\n",
      "Epoch 2/5\n",
      "191/191 [==============================] - 6s 31ms/step - loss: 0.4704 - accuracy: 0.8575 - val_loss: 0.4549 - val_accuracy: 0.7978\n",
      "Epoch 3/5\n",
      "191/191 [==============================] - 6s 31ms/step - loss: 0.2186 - accuracy: 0.9220 - val_loss: 0.7117 - val_accuracy: 0.7597\n",
      "Epoch 4/5\n",
      "191/191 [==============================] - 6s 31ms/step - loss: 0.1384 - accuracy: 0.9514 - val_loss: 0.7430 - val_accuracy: 0.7551\n",
      "Epoch 5/5\n",
      "191/191 [==============================] - 6s 31ms/step - loss: 0.0949 - accuracy: 0.9678 - val_loss: 1.4707 - val_accuracy: 0.7590\n"
     ]
    },
    {
     "data": {
      "text/plain": [
       "<keras.callbacks.History at 0x7f046631a150>"
      ]
     },
     "execution_count": 31,
     "metadata": {},
     "output_type": "execute_result"
    }
   ],
   "source": [
    "model3.fit(padded_sequences_train, y_train, validation_split = 0.2, epochs=5)"
   ]
  },
  {
   "cell_type": "markdown",
   "metadata": {
    "id": "9yezKvDJClPE"
   },
   "source": [
    "### Model Comparison\n",
    "\n",
    "Overall, we can see the LSTM model performs the best. This was as expected as LSTM is better at evaluating strings by preventing the vanishing gradient problem. Our LSTM considers all words within the model instead of facoring the parameters towards the end of the recurrent network. However, the data performed well using the simple Dense network model.\n",
    "\n",
    "\n",
    "Moving forward, I will choose to use `model 3` as it had the best performance. However it did tend to overfit our data (the training accuracy was much higher than the validation accuracy as epochs increased). Thus, we will need to adjust hyperparameters to fix this."
   ]
  },
  {
   "cell_type": "code",
   "execution_count": null,
   "metadata": {
    "id": "siKzkGK7CkMY"
   },
   "outputs": [],
   "source": [
    "hist1 = model1.history\n",
    "hist2 = model2.history\n",
    "hist3 = model3.history"
   ]
  },
  {
   "cell_type": "code",
   "execution_count": null,
   "metadata": {
    "id": "4FzvfZ43DRt2"
   },
   "outputs": [],
   "source": [
    "def plot_acc(history, axis = None, model=None, ylim=None):\n",
    "    \"\"\" Plots a models validation and training accuracy\"\"\"\n",
    "    axis.plot(history.history['accuracy'], label='accuracy')\n",
    "    axis.plot(history.history['val_accuracy'], label='val_accuracy')\n",
    "    axis.set_xlabel('Epoch')\n",
    "    axis.set_ylabel('accuracy')\n",
    "    axis.set_title(model)\n",
    "    axis.set_ylim(ylim)\n",
    "    axis.legend(loc='lower right')\n",
    "\n",
    "def plot_val(history, axis=None, model=None):\n",
    "    \"Plot's a models lossat each epoch\"\n",
    "    axis.plot(history.history['loss'], label='loss')\n",
    "    axis.plot(history.history['val_loss'], label='val_loss')\n",
    "    axis.set_xlabel('Epoch')\n",
    "    axis.set_ylabel('Loss')\n",
    "    axis.set_title(model)\n",
    "    axis.legend(loc='upper right')"
   ]
  },
  {
   "cell_type": "code",
   "execution_count": null,
   "metadata": {
    "colab": {
     "base_uri": "https://localhost:8080/",
     "height": 354
    },
    "id": "o0HVavcpDWag",
    "outputId": "86a3b4d7-0890-4b72-df24-b9b6abcd3b39"
   },
   "outputs": [
    {
     "data": {
      "image/png": "[encoded data removed]",
      "text/plain": [
       "<Figure size 1440x360 with 3 Axes>"
      ]
     },
     "metadata": {
      "needs_background": "light"
     },
     "output_type": "display_data"
    }
   ],
   "source": [
    "fig, ax = plt.subplots(1,3, figsize=(20,5))\n",
    "plot_acc(hist1, axis=ax[0], model=\"Model w/ Dense Layers\")\n",
    "plot_acc(hist2, axis=ax[1], model=\"Model w/ RNN\")\n",
    "plot_acc(hist3, axis=ax[2], model=\"Model w/ LSTM\")\n",
    "fig.tight_layout()"
   ]
  },
  {
   "cell_type": "code",
   "execution_count": null,
   "metadata": {
    "colab": {
     "base_uri": "https://localhost:8080/",
     "height": 354
    },
    "id": "6vVhylMvDZx9",
    "outputId": "a16231a1-f7ce-48bf-e490-c242422c7fc3"
   },
   "outputs": [
    {
     "data": {
      "image/png": "[encoded data removed]",
      "text/plain": [
       "<Figure size 1440x360 with 3 Axes>"
      ]
     },
     "metadata": {
      "needs_background": "light"
     },
     "output_type": "display_data"
    }
   ],
   "source": [
    "fig, ax = plt.subplots(1,3, figsize=(20,5))\n",
    "plot_val(hist1, axis=ax[0], model=\"Model1\")\n",
    "plot_val(hist2, axis=ax[1], model=\"Model2\")\n",
    "plot_val(hist3, axis=ax[2], model=\"Model3\")\n",
    "fig.tight_layout()"
   ]
  },
  {
   "cell_type": "markdown",
   "metadata": {
    "id": "-WPJaCTBG2n6"
   },
   "source": [
    "# Hyperparameter Tuning"
   ]
  },
  {
   "cell_type": "code",
   "execution_count": null,
   "metadata": {
    "colab": {
     "base_uri": "https://localhost:8080/"
    },
    "id": "_0FrURnmIeez",
    "outputId": "b28e9673-f2da-490a-ac0f-2b3f9693b90b"
   },
   "outputs": [
    {
     "name": "stdout",
     "output_type": "stream",
     "text": [
      "Epoch 1/5\n",
      "191/191 [==============================] - 14s 67ms/step - loss: 0.7037 - accuracy: 0.6967 - val_loss: 0.4547 - val_accuracy: 0.7951\n",
      "Epoch 2/5\n",
      "191/191 [==============================] - 12s 63ms/step - loss: 0.3537 - accuracy: 0.8575 - val_loss: 0.4490 - val_accuracy: 0.8102\n",
      "Epoch 3/5\n",
      "191/191 [==============================] - 13s 69ms/step - loss: 0.1945 - accuracy: 0.9279 - val_loss: 0.5625 - val_accuracy: 0.7997\n",
      "Epoch 4/5\n",
      "191/191 [==============================] - 12s 63ms/step - loss: 0.1160 - accuracy: 0.9591 - val_loss: 0.8609 - val_accuracy: 0.7735\n",
      "Epoch 4: early stopping\n",
      "Epoch 1/5\n",
      "191/191 [==============================] - 15s 72ms/step - loss: 0.5662 - accuracy: 0.7123 - val_loss: 0.4558 - val_accuracy: 0.7859\n",
      "Epoch 2/5\n",
      "191/191 [==============================] - 12s 62ms/step - loss: 0.3127 - accuracy: 0.8760 - val_loss: 0.4800 - val_accuracy: 0.7827\n",
      "Epoch 3/5\n",
      "191/191 [==============================] - 13s 70ms/step - loss: 0.1688 - accuracy: 0.9376 - val_loss: 0.5819 - val_accuracy: 0.7761\n",
      "Epoch 3: early stopping\n",
      "Epoch 1/5\n",
      "191/191 [==============================] - 14s 65ms/step - loss: 0.6067 - accuracy: 0.6970 - val_loss: 0.4889 - val_accuracy: 0.7997\n",
      "Epoch 2/5\n",
      "191/191 [==============================] - 13s 71ms/step - loss: 0.3253 - accuracy: 0.8721 - val_loss: 0.4670 - val_accuracy: 0.7859\n",
      "Epoch 3/5\n",
      "191/191 [==============================] - 12s 63ms/step - loss: 0.1907 - accuracy: 0.9348 - val_loss: 0.5327 - val_accuracy: 0.7945\n",
      "Epoch 4/5\n",
      "191/191 [==============================] - 14s 76ms/step - loss: 0.1135 - accuracy: 0.9568 - val_loss: 0.6901 - val_accuracy: 0.7676\n",
      "Epoch 4: early stopping\n",
      "Epoch 1/5\n",
      "191/191 [==============================] - 37s 41ms/step - loss: 0.6124 - accuracy: 0.7038 - val_loss: 0.5391 - val_accuracy: 0.7551\n",
      "Epoch 2/5\n",
      "191/191 [==============================] - 6s 31ms/step - loss: 0.3532 - accuracy: 0.8635 - val_loss: 0.4537 - val_accuracy: 0.7945\n",
      "Epoch 3/5\n",
      "191/191 [==============================] - 6s 31ms/step - loss: 0.2044 - accuracy: 0.9230 - val_loss: 0.5454 - val_accuracy: 0.7859\n",
      "Epoch 4/5\n",
      "191/191 [==============================] - 6s 31ms/step - loss: 0.1254 - accuracy: 0.9519 - val_loss: 0.8451 - val_accuracy: 0.7682\n",
      "Epoch 4: early stopping\n",
      "Epoch 1/5\n",
      "191/191 [==============================] - 8s 32ms/step - loss: 0.6108 - accuracy: 0.6737 - val_loss: 0.4616 - val_accuracy: 0.7925\n",
      "Epoch 2/5\n",
      "191/191 [==============================] - 6s 31ms/step - loss: 0.3734 - accuracy: 0.8535 - val_loss: 0.4548 - val_accuracy: 0.7866\n",
      "Epoch 3/5\n",
      "191/191 [==============================] - 6s 31ms/step - loss: 0.2170 - accuracy: 0.9236 - val_loss: 0.5459 - val_accuracy: 0.7649\n",
      "Epoch 4/5\n",
      "191/191 [==============================] - 6s 31ms/step - loss: 0.1385 - accuracy: 0.9522 - val_loss: 0.8127 - val_accuracy: 0.7446\n",
      "Epoch 4: early stopping\n",
      "Epoch 1/5\n",
      "191/191 [==============================] - 8s 32ms/step - loss: 0.5987 - accuracy: 0.6757 - val_loss: 0.4700 - val_accuracy: 0.7978\n",
      "Epoch 2/5\n",
      "191/191 [==============================] - 6s 31ms/step - loss: 0.3629 - accuracy: 0.8617 - val_loss: 0.4436 - val_accuracy: 0.7932\n",
      "Epoch 3/5\n",
      "191/191 [==============================] - 6s 31ms/step - loss: 0.2123 - accuracy: 0.9222 - val_loss: 0.5389 - val_accuracy: 0.7866\n",
      "Epoch 4/5\n",
      "191/191 [==============================] - 6s 31ms/step - loss: 0.1369 - accuracy: 0.9524 - val_loss: 0.7397 - val_accuracy: 0.7781\n",
      "Epoch 4: early stopping\n",
      "Epoch 1/5\n",
      "191/191 [==============================] - 6s 22ms/step - loss: 0.6135 - accuracy: 0.6568 - val_loss: 0.4823 - val_accuracy: 0.7748\n",
      "Epoch 2/5\n",
      "191/191 [==============================] - 4s 20ms/step - loss: 1.2207 - accuracy: 0.8438 - val_loss: 0.4936 - val_accuracy: 0.7912\n",
      "Epoch 3/5\n",
      "191/191 [==============================] - 4s 22ms/step - loss: 0.2848 - accuracy: 0.9013 - val_loss: 0.5124 - val_accuracy: 0.7912\n",
      "Epoch 3: early stopping\n",
      "Epoch 1/5\n",
      "191/191 [==============================] - 7s 22ms/step - loss: 0.6577 - accuracy: 0.6253 - val_loss: 0.5292 - val_accuracy: 0.7846\n",
      "Epoch 2/5\n",
      "191/191 [==============================] - 4s 20ms/step - loss: 0.4066 - accuracy: 0.8437 - val_loss: 0.4413 - val_accuracy: 0.8004\n",
      "Epoch 3/5\n",
      "191/191 [==============================] - 4s 20ms/step - loss: 0.2789 - accuracy: 0.9010 - val_loss: 0.4676 - val_accuracy: 0.7800\n",
      "Epoch 4/5\n",
      "191/191 [==============================] - 4s 20ms/step - loss: 0.1883 - accuracy: 0.9376 - val_loss: 0.5996 - val_accuracy: 0.7951\n",
      "Epoch 4: early stopping\n",
      "Epoch 1/5\n",
      "191/191 [==============================] - 7s 28ms/step - loss: 0.6415 - accuracy: 0.6189 - val_loss: 0.4773 - val_accuracy: 0.7919\n",
      "Epoch 2/5\n",
      "191/191 [==============================] - 4s 22ms/step - loss: 0.4344 - accuracy: 0.8404 - val_loss: 0.4417 - val_accuracy: 0.7991\n",
      "Epoch 3/5\n",
      "191/191 [==============================] - 4s 20ms/step - loss: 0.2701 - accuracy: 0.9033 - val_loss: 0.4941 - val_accuracy: 0.7794\n",
      "Epoch 4/5\n",
      "191/191 [==============================] - 4s 20ms/step - loss: 0.1894 - accuracy: 0.9323 - val_loss: 0.7816 - val_accuracy: 0.7728\n",
      "Epoch 4: early stopping\n",
      "Epoch 1/5\n",
      "191/191 [==============================] - 14s 65ms/step - loss: 0.5635 - accuracy: 0.7291 - val_loss: 0.4585 - val_accuracy: 0.7820\n",
      "Epoch 2/5\n",
      "191/191 [==============================] - 12s 62ms/step - loss: 0.3075 - accuracy: 0.8767 - val_loss: 0.4753 - val_accuracy: 0.7787\n",
      "Epoch 3/5\n",
      "191/191 [==============================] - 12s 62ms/step - loss: 0.1667 - accuracy: 0.9389 - val_loss: 0.5653 - val_accuracy: 0.7630\n",
      "Epoch 3: early stopping\n",
      "Epoch 1/5\n",
      "191/191 [==============================] - 15s 66ms/step - loss: 0.5831 - accuracy: 0.7113 - val_loss: 0.5210 - val_accuracy: 0.7781\n",
      "Epoch 2/5\n",
      "191/191 [==============================] - 13s 67ms/step - loss: 0.3190 - accuracy: 0.8750 - val_loss: 0.4614 - val_accuracy: 0.7932\n",
      "Epoch 3/5\n",
      "191/191 [==============================] - 12s 62ms/step - loss: 0.1790 - accuracy: 0.9358 - val_loss: 0.5641 - val_accuracy: 0.7794\n",
      "Epoch 4/5\n",
      "191/191 [==============================] - 12s 62ms/step - loss: 0.1036 - accuracy: 0.9626 - val_loss: 0.7324 - val_accuracy: 0.7557\n",
      "Epoch 4: early stopping\n",
      "Epoch 1/5\n",
      "191/191 [==============================] - 14s 65ms/step - loss: 0.7178 - accuracy: 0.6906 - val_loss: 0.5080 - val_accuracy: 0.7748\n",
      "Epoch 2/5\n",
      "191/191 [==============================] - 12s 63ms/step - loss: 0.3472 - accuracy: 0.8634 - val_loss: 0.4546 - val_accuracy: 0.8030\n",
      "Epoch 3/5\n",
      "191/191 [==============================] - 12s 63ms/step - loss: 0.1949 - accuracy: 0.9251 - val_loss: 0.5547 - val_accuracy: 0.7741\n",
      "Epoch 4/5\n",
      "191/191 [==============================] - 12s 63ms/step - loss: 0.1153 - accuracy: 0.9588 - val_loss: 1.0187 - val_accuracy: 0.7571\n",
      "Epoch 4: early stopping\n",
      "Epoch 1/5\n",
      "191/191 [==============================] - 8s 33ms/step - loss: 0.6222 - accuracy: 0.6787 - val_loss: 0.5302 - val_accuracy: 0.7617\n",
      "Epoch 2/5\n",
      "191/191 [==============================] - 6s 31ms/step - loss: 0.3804 - accuracy: 0.8596 - val_loss: 0.4506 - val_accuracy: 0.7899\n",
      "Epoch 3/5\n",
      "191/191 [==============================] - 6s 31ms/step - loss: 0.2132 - accuracy: 0.9197 - val_loss: 0.5289 - val_accuracy: 0.7761\n",
      "Epoch 4/5\n",
      "191/191 [==============================] - 6s 31ms/step - loss: 0.1384 - accuracy: 0.9496 - val_loss: 0.6264 - val_accuracy: 0.7584\n",
      "Epoch 4: early stopping\n",
      "Epoch 1/5\n",
      "191/191 [==============================] - 8s 32ms/step - loss: 0.5918 - accuracy: 0.6898 - val_loss: 0.4682 - val_accuracy: 0.7859\n",
      "Epoch 2/5\n",
      "191/191 [==============================] - 6s 31ms/step - loss: 0.3590 - accuracy: 0.8609 - val_loss: 0.4477 - val_accuracy: 0.7951\n",
      "Epoch 3/5\n",
      "191/191 [==============================] - 6s 31ms/step - loss: 0.2101 - accuracy: 0.9250 - val_loss: 0.5176 - val_accuracy: 0.7846\n",
      "Epoch 4/5\n",
      "191/191 [==============================] - 6s 31ms/step - loss: 0.1336 - accuracy: 0.9550 - val_loss: 0.6569 - val_accuracy: 0.7544\n",
      "Epoch 4: early stopping\n",
      "Epoch 1/5\n",
      "191/191 [==============================] - 8s 33ms/step - loss: 0.7646 - accuracy: 0.6703 - val_loss: 0.5323 - val_accuracy: 0.7682\n",
      "Epoch 2/5\n",
      "191/191 [==============================] - 6s 31ms/step - loss: 0.3764 - accuracy: 0.8553 - val_loss: 0.4500 - val_accuracy: 0.7971\n",
      "Epoch 3/5\n",
      "191/191 [==============================] - 6s 32ms/step - loss: 0.2291 - accuracy: 0.9190 - val_loss: 0.5044 - val_accuracy: 0.7840\n",
      "Epoch 4/5\n",
      "191/191 [==============================] - 6s 31ms/step - loss: 0.1501 - accuracy: 0.9463 - val_loss: 0.6698 - val_accuracy: 0.7820\n",
      "Epoch 4: early stopping\n",
      "Epoch 1/5\n",
      "191/191 [==============================] - 6s 22ms/step - loss: 0.6219 - accuracy: 0.6568 - val_loss: 0.4817 - val_accuracy: 0.7610\n",
      "Epoch 2/5\n",
      "191/191 [==============================] - 4s 20ms/step - loss: 0.4480 - accuracy: 0.8302 - val_loss: 0.4453 - val_accuracy: 0.8043\n",
      "Epoch 3/5\n",
      "191/191 [==============================] - 4s 20ms/step - loss: 0.2764 - accuracy: 0.8992 - val_loss: 0.4579 - val_accuracy: 0.7991\n",
      "Epoch 4/5\n",
      "191/191 [==============================] - 4s 21ms/step - loss: 0.1904 - accuracy: 0.9343 - val_loss: 0.5379 - val_accuracy: 0.8024\n",
      "Epoch 4: early stopping\n",
      "Epoch 1/5\n",
      "191/191 [==============================] - 6s 22ms/step - loss: 0.6148 - accuracy: 0.6626 - val_loss: 0.4747 - val_accuracy: 0.7965\n",
      "Epoch 2/5\n",
      "191/191 [==============================] - 4s 20ms/step - loss: 0.3906 - accuracy: 0.8535 - val_loss: 0.4532 - val_accuracy: 0.8017\n",
      "Epoch 3/5\n",
      "191/191 [==============================] - 5s 29ms/step - loss: 0.2580 - accuracy: 0.9097 - val_loss: 0.4776 - val_accuracy: 0.7859\n",
      "Epoch 4/5\n",
      "191/191 [==============================] - 4s 20ms/step - loss: 0.1691 - accuracy: 0.9425 - val_loss: 0.6090 - val_accuracy: 0.7722\n",
      "Epoch 4: early stopping\n",
      "Epoch 1/5\n",
      "191/191 [==============================] - 6s 22ms/step - loss: 0.6438 - accuracy: 0.6447 - val_loss: 0.5357 - val_accuracy: 0.7466\n",
      "Epoch 2/5\n",
      "191/191 [==============================] - 4s 21ms/step - loss: 0.4134 - accuracy: 0.8355 - val_loss: 0.4397 - val_accuracy: 0.7945\n",
      "Epoch 3/5\n",
      "191/191 [==============================] - 4s 21ms/step - loss: 0.2798 - accuracy: 0.9007 - val_loss: 0.5009 - val_accuracy: 0.7708\n",
      "Epoch 4/5\n",
      "191/191 [==============================] - 4s 20ms/step - loss: 0.1816 - accuracy: 0.9360 - val_loss: 0.6857 - val_accuracy: 0.7827\n",
      "Epoch 4: early stopping\n"
     ]
    }
   ],
   "source": [
    "lr_list = [0.001, 0.01]\n",
    "neuron_count = [(128,64), (64,32), (32, 16)]\n",
    "dropout_rate = [0.2, 0.3, 0.4]\n",
    "\n",
    "#lists for metrics\n",
    "lr_used_list = []\n",
    "neuron_used = []\n",
    "dropout_used = []\n",
    "val_list = []\n",
    "acc_list = []\n",
    "\n",
    "for lr in lr_list:\n",
    "    for neuron in neuron_count:\n",
    "      for dropout in dropout_rate:\n",
    "        #Get name of optimizer used\n",
    "\n",
    "          model3 = Sequential()\n",
    "\n",
    "          model3.add(Embedding(num_words, neuron[0], input_length=sequence_length)) \n",
    "\n",
    "          model3.add(LSTM(neuron[0], activation=\"relu\"))\n",
    "          model3.add(Dropout(dropout))\n",
    "\n",
    "          model3.add(Dense(neuron[1], activation=\"relu\"))\n",
    "          model3.add(Dropout(dropout))\n",
    "\n",
    "          model3.add(Dense(1, activation='sigmoid'))\n",
    "          model3.compile(loss='binary_crossentropy', optimizer=Adam(learning_rate=lr), metrics=['accuracy'])\n",
    "          \n",
    "          \n",
    "          #stop model if val_loss begins to increase after 2 consecutive epochs\n",
    "          es = EarlyStopping(monitor='val_loss', mode='min', verbose=1, patience=2)\n",
    "\n",
    "          #Fit the model\n",
    "          model3.fit(padded_sequences_train, y_train, validation_split = 0.2, epochs=5, callbacks=[es])\n",
    "          \n",
    "          #Get metrics and store for analysis\n",
    "          val_loss = max(model3.history.history['val_loss'])\n",
    "          val_acc = max(model3.history.history['val_accuracy'])\n",
    "\n",
    "\n",
    "          lr_used_list.append(lr)\n",
    "          dropout_used.append(dropout)\n",
    "          neuron_used.append(neuron)\n",
    "          val_list.append(val_loss)\n",
    "          acc_list.append(val_acc)"
   ]
  },
  {
   "cell_type": "code",
   "execution_count": null,
   "metadata": {
    "id": "DdFDaHgsMUpB"
   },
   "outputs": [],
   "source": [
    "tuning_df = pd.DataFrame({\"Learning Rate\": lr_used_list, \"Neuron Combo\": neuron_used, \"Dropout Used\": dropout_used, \"Loss\": val_list, \n",
    "                          \"Accuracy\": acc_list})\n",
    "tuning_df.to_csv(DATA_PATH  + \"hyperparams\")"
   ]
  },
  {
   "cell_type": "markdown",
   "metadata": {
    "id": "Q2k_ULuAS--Y"
   },
   "source": [
    "## Hyperparameter Choice\n",
    "\n",
    "Overall, the following hyperparamerters had the highest accuracy:\n",
    "- `Learning Rate`: 0.001\n",
    "- `Neuron Combo`: (128, 64)\n",
    "- `Dropout Used`: 0.2\n",
    "\n",
    "However, the following parameters had a lower validation loss and just a smaller accuracy percentage. We know its best to use the simpler model if the accuracy is similar. Thus, we will use the following hyperparameters due to the simplicity and lower validation loss:\n",
    "- `Learning Rate`: 0.01\n",
    "- `Neuron Combo`: (32, 16)\n",
    "- `Dropout Used`: 0.2"
   ]
  },
  {
   "cell_type": "code",
   "execution_count": null,
   "metadata": {
    "colab": {
     "base_uri": "https://localhost:8080/",
     "height": 614
    },
    "id": "1RMZt3ZESlxF",
    "outputId": "bd9d5649-bcb8-4c0b-a718-a47b3e6870cd"
   },
   "outputs": [
    {
     "data": {
      "text/html": [
       "\n",
       "  <div id=\"df-35c5fd5b-0d34-4978-8c74-a1f9b10df70c\">\n",
       "    <div class=\"colab-df-container\">\n",
       "      <div>\n",
       "<style scoped>\n",
       "    .dataframe tbody tr th:only-of-type {\n",
       "        vertical-align: middle;\n",
       "    }\n",
       "\n",
       "    .dataframe tbody tr th {\n",
       "        vertical-align: top;\n",
       "    }\n",
       "\n",
       "    .dataframe thead th {\n",
       "        text-align: right;\n",
       "    }\n",
       "</style>\n",
       "<table border=\"1\" class=\"dataframe\">\n",
       "  <thead>\n",
       "    <tr style=\"text-align: right;\">\n",
       "      <th></th>\n",
       "      <th>Learning Rate</th>\n",
       "      <th>Neuron Combo</th>\n",
       "      <th>Dropout Used</th>\n",
       "      <th>Loss</th>\n",
       "      <th>Accuracy</th>\n",
       "    </tr>\n",
       "  </thead>\n",
       "  <tbody>\n",
       "    <tr>\n",
       "      <th>0</th>\n",
       "      <td>0.001</td>\n",
       "      <td>(128, 64)</td>\n",
       "      <td>0.2</td>\n",
       "      <td>0.860893</td>\n",
       "      <td>0.810243</td>\n",
       "    </tr>\n",
       "    <tr>\n",
       "      <th>15</th>\n",
       "      <td>0.010</td>\n",
       "      <td>(32, 16)</td>\n",
       "      <td>0.2</td>\n",
       "      <td>0.537891</td>\n",
       "      <td>0.804334</td>\n",
       "    </tr>\n",
       "    <tr>\n",
       "      <th>11</th>\n",
       "      <td>0.010</td>\n",
       "      <td>(128, 64)</td>\n",
       "      <td>0.4</td>\n",
       "      <td>1.018653</td>\n",
       "      <td>0.803020</td>\n",
       "    </tr>\n",
       "    <tr>\n",
       "      <th>16</th>\n",
       "      <td>0.010</td>\n",
       "      <td>(32, 16)</td>\n",
       "      <td>0.3</td>\n",
       "      <td>0.608954</td>\n",
       "      <td>0.801707</td>\n",
       "    </tr>\n",
       "    <tr>\n",
       "      <th>7</th>\n",
       "      <td>0.001</td>\n",
       "      <td>(32, 16)</td>\n",
       "      <td>0.3</td>\n",
       "      <td>0.599628</td>\n",
       "      <td>0.800394</td>\n",
       "    </tr>\n",
       "    <tr>\n",
       "      <th>2</th>\n",
       "      <td>0.001</td>\n",
       "      <td>(128, 64)</td>\n",
       "      <td>0.4</td>\n",
       "      <td>0.690114</td>\n",
       "      <td>0.799737</td>\n",
       "    </tr>\n",
       "    <tr>\n",
       "      <th>8</th>\n",
       "      <td>0.001</td>\n",
       "      <td>(32, 16)</td>\n",
       "      <td>0.4</td>\n",
       "      <td>0.781627</td>\n",
       "      <td>0.799081</td>\n",
       "    </tr>\n",
       "    <tr>\n",
       "      <th>5</th>\n",
       "      <td>0.001</td>\n",
       "      <td>(64, 32)</td>\n",
       "      <td>0.4</td>\n",
       "      <td>0.739710</td>\n",
       "      <td>0.797768</td>\n",
       "    </tr>\n",
       "    <tr>\n",
       "      <th>14</th>\n",
       "      <td>0.010</td>\n",
       "      <td>(64, 32)</td>\n",
       "      <td>0.4</td>\n",
       "      <td>0.669758</td>\n",
       "      <td>0.797111</td>\n",
       "    </tr>\n",
       "    <tr>\n",
       "      <th>13</th>\n",
       "      <td>0.010</td>\n",
       "      <td>(64, 32)</td>\n",
       "      <td>0.3</td>\n",
       "      <td>0.656935</td>\n",
       "      <td>0.795141</td>\n",
       "    </tr>\n",
       "    <tr>\n",
       "      <th>17</th>\n",
       "      <td>0.010</td>\n",
       "      <td>(32, 16)</td>\n",
       "      <td>0.4</td>\n",
       "      <td>0.685655</td>\n",
       "      <td>0.794485</td>\n",
       "    </tr>\n",
       "    <tr>\n",
       "      <th>3</th>\n",
       "      <td>0.001</td>\n",
       "      <td>(64, 32)</td>\n",
       "      <td>0.2</td>\n",
       "      <td>0.845088</td>\n",
       "      <td>0.794485</td>\n",
       "    </tr>\n",
       "    <tr>\n",
       "      <th>10</th>\n",
       "      <td>0.010</td>\n",
       "      <td>(128, 64)</td>\n",
       "      <td>0.3</td>\n",
       "      <td>0.732396</td>\n",
       "      <td>0.793171</td>\n",
       "    </tr>\n",
       "    <tr>\n",
       "      <th>4</th>\n",
       "      <td>0.001</td>\n",
       "      <td>(64, 32)</td>\n",
       "      <td>0.3</td>\n",
       "      <td>0.812711</td>\n",
       "      <td>0.792515</td>\n",
       "    </tr>\n",
       "    <tr>\n",
       "      <th>6</th>\n",
       "      <td>0.001</td>\n",
       "      <td>(32, 16)</td>\n",
       "      <td>0.2</td>\n",
       "      <td>0.512438</td>\n",
       "      <td>0.791202</td>\n",
       "    </tr>\n",
       "    <tr>\n",
       "      <th>12</th>\n",
       "      <td>0.010</td>\n",
       "      <td>(64, 32)</td>\n",
       "      <td>0.2</td>\n",
       "      <td>0.626388</td>\n",
       "      <td>0.789888</td>\n",
       "    </tr>\n",
       "    <tr>\n",
       "      <th>1</th>\n",
       "      <td>0.001</td>\n",
       "      <td>(128, 64)</td>\n",
       "      <td>0.3</td>\n",
       "      <td>0.581891</td>\n",
       "      <td>0.785949</td>\n",
       "    </tr>\n",
       "    <tr>\n",
       "      <th>9</th>\n",
       "      <td>0.010</td>\n",
       "      <td>(128, 64)</td>\n",
       "      <td>0.2</td>\n",
       "      <td>0.565345</td>\n",
       "      <td>0.782009</td>\n",
       "    </tr>\n",
       "  </tbody>\n",
       "</table>\n",
       "</div>\n",
       "      <button class=\"colab-df-convert\" onclick=\"convertToInteractive('df-35c5fd5b-0d34-4978-8c74-a1f9b10df70c')\"\n",
       "              title=\"Convert this dataframe to an interactive table.\"\n",
       "              style=\"display:none;\">\n",
       "        \n",
       "  <svg xmlns=\"http://www.w3.org/2000/svg\" height=\"24px\"viewBox=\"0 0 24 24\"\n",
       "       width=\"24px\">\n",
       "    <path d=\"M0 0h24v24H0V0z\" fill=\"none\"/>\n",
       "    <path d=\"M18.56 5.44l.94 2.06.94-2.06 2.06-.94-2.06-.94-.94-2.06-.94 2.06-2.06.94zm-11 1L8.5 8.5l.94-2.06 2.06-.94-2.06-.94L8.5 2.5l-.94 2.06-2.06.94zm10 10l.94 2.06.94-2.06 2.06-.94-2.06-.94-.94-2.06-.94 2.06-2.06.94z\"/><path d=\"M17.41 7.96l-1.37-1.37c-.4-.4-.92-.59-1.43-.59-.52 0-1.04.2-1.43.59L10.3 9.45l-7.72 7.72c-.78.78-.78 2.05 0 2.83L4 21.41c.39.39.9.59 1.41.59.51 0 1.02-.2 1.41-.59l7.78-7.78 2.81-2.81c.8-.78.8-2.07 0-2.86zM5.41 20L4 18.59l7.72-7.72 1.47 1.35L5.41 20z\"/>\n",
       "  </svg>\n",
       "      </button>\n",
       "      \n",
       "  <style>\n",
       "    .colab-df-container {\n",
       "      display:flex;\n",
       "      flex-wrap:wrap;\n",
       "      gap: 12px;\n",
       "    }\n",
       "\n",
       "    .colab-df-convert {\n",
       "      background-color: #E8F0FE;\n",
       "      border: none;\n",
       "      border-radius: 50%;\n",
       "      cursor: pointer;\n",
       "      display: none;\n",
       "      fill: #1967D2;\n",
       "      height: 32px;\n",
       "      padding: 0 0 0 0;\n",
       "      width: 32px;\n",
       "    }\n",
       "\n",
       "    .colab-df-convert:hover {\n",
       "      background-color: #E2EBFA;\n",
       "      box-shadow: 0px 1px 2px rgba(60, 64, 67, 0.3), 0px 1px 3px 1px rgba(60, 64, 67, 0.15);\n",
       "      fill: #174EA6;\n",
       "    }\n",
       "\n",
       "    [theme=dark] .colab-df-convert {\n",
       "      background-color: #3B4455;\n",
       "      fill: #D2E3FC;\n",
       "    }\n",
       "\n",
       "    [theme=dark] .colab-df-convert:hover {\n",
       "      background-color: #434B5C;\n",
       "      box-shadow: 0px 1px 3px 1px rgba(0, 0, 0, 0.15);\n",
       "      filter: drop-shadow(0px 1px 2px rgba(0, 0, 0, 0.3));\n",
       "      fill: #FFFFFF;\n",
       "    }\n",
       "  </style>\n",
       "\n",
       "      <script>\n",
       "        const buttonEl =\n",
       "          document.querySelector('#df-35c5fd5b-0d34-4978-8c74-a1f9b10df70c button.colab-df-convert');\n",
       "        buttonEl.style.display =\n",
       "          google.colab.kernel.accessAllowed ? 'block' : 'none';\n",
       "\n",
       "        async function convertToInteractive(key) {\n",
       "          const element = document.querySelector('#df-35c5fd5b-0d34-4978-8c74-a1f9b10df70c');\n",
       "          const dataTable =\n",
       "            await google.colab.kernel.invokeFunction('convertToInteractive',\n",
       "                                                     [key], {});\n",
       "          if (!dataTable) return;\n",
       "\n",
       "          const docLinkHtml = 'Like what you see? Visit the ' +\n",
       "            '<a target=\"_blank\" href=https://colab.research.google.com/notebooks/data_table.ipynb>data table notebook</a>'\n",
       "            + ' to learn more about interactive tables.';\n",
       "          element.innerHTML = '';\n",
       "          dataTable['output_type'] = 'display_data';\n",
       "          await google.colab.output.renderOutput(dataTable, element);\n",
       "          const docLink = document.createElement('div');\n",
       "          docLink.innerHTML = docLinkHtml;\n",
       "          element.appendChild(docLink);\n",
       "        }\n",
       "      </script>\n",
       "    </div>\n",
       "  </div>\n",
       "  "
      ],
      "text/plain": [
       "    Learning Rate Neuron Combo  Dropout Used      Loss  Accuracy\n",
       "0           0.001    (128, 64)           0.2  0.860893  0.810243\n",
       "15          0.010     (32, 16)           0.2  0.537891  0.804334\n",
       "11          0.010    (128, 64)           0.4  1.018653  0.803020\n",
       "16          0.010     (32, 16)           0.3  0.608954  0.801707\n",
       "7           0.001     (32, 16)           0.3  0.599628  0.800394\n",
       "2           0.001    (128, 64)           0.4  0.690114  0.799737\n",
       "8           0.001     (32, 16)           0.4  0.781627  0.799081\n",
       "5           0.001     (64, 32)           0.4  0.739710  0.797768\n",
       "14          0.010     (64, 32)           0.4  0.669758  0.797111\n",
       "13          0.010     (64, 32)           0.3  0.656935  0.795141\n",
       "17          0.010     (32, 16)           0.4  0.685655  0.794485\n",
       "3           0.001     (64, 32)           0.2  0.845088  0.794485\n",
       "10          0.010    (128, 64)           0.3  0.732396  0.793171\n",
       "4           0.001     (64, 32)           0.3  0.812711  0.792515\n",
       "6           0.001     (32, 16)           0.2  0.512438  0.791202\n",
       "12          0.010     (64, 32)           0.2  0.626388  0.789888\n",
       "1           0.001    (128, 64)           0.3  0.581891  0.785949\n",
       "9           0.010    (128, 64)           0.2  0.565345  0.782009"
      ]
     },
     "execution_count": 51,
     "metadata": {},
     "output_type": "execute_result"
    }
   ],
   "source": [
    "tuning_df.sort_values(by=\"Accuracy\", ascending=False)"
   ]
  },
  {
   "cell_type": "markdown",
   "metadata": {
    "id": "WHsGRFryUB1U"
   },
   "source": [
    "#Final Model Building"
   ]
  },
  {
   "cell_type": "code",
   "execution_count": null,
   "metadata": {
    "colab": {
     "base_uri": "https://localhost:8080/"
    },
    "id": "TkoJ-SwZT-3U",
    "outputId": "96fa7edf-a2e3-47a6-e594-fe2e62f9ec7a"
   },
   "outputs": [
    {
     "name": "stdout",
     "output_type": "stream",
     "text": [
      "Epoch 1/10\n",
      "191/191 [==============================] - 8s 22ms/step - loss: 0.6033 - accuracy: 0.6667 - val_loss: 0.4596 - val_accuracy: 0.7859\n",
      "Epoch 2/10\n",
      "191/191 [==============================] - 4s 21ms/step - loss: 0.4132 - accuracy: 0.8542 - val_loss: 0.4474 - val_accuracy: 0.8043\n",
      "Epoch 3/10\n",
      "191/191 [==============================] - 4s 21ms/step - loss: 0.2505 - accuracy: 0.9105 - val_loss: 0.4977 - val_accuracy: 0.7866\n",
      "Epoch 3: early stopping\n"
     ]
    },
    {
     "data": {
      "text/plain": [
       "<keras.callbacks.History at 0x7f04539def90>"
      ]
     },
     "execution_count": 56,
     "metadata": {},
     "output_type": "execute_result"
    }
   ],
   "source": [
    "model3 = Sequential()\n",
    "\n",
    "model3.add(Embedding(num_words, 32, input_length=sequence_length)) \n",
    "\n",
    "model3.add(LSTM(32, activation=\"relu\"))\n",
    "model3.add(Dropout(0.2))\n",
    "\n",
    "model3.add(Dense(16, activation=\"relu\"))\n",
    "model3.add(Dropout(0.2))\n",
    "\n",
    "model3.add(Dense(1, activation='sigmoid'))\n",
    "model3.compile(loss='binary_crossentropy', optimizer=Adam(learning_rate=0.001), metrics=['accuracy'])\n",
    "\n",
    "\n",
    "#stop model if val_loss begins to increase after 2 consecutive epochs\n",
    "es = EarlyStopping(monitor='val_loss', mode='min', verbose=1, patience=1)\n",
    "\n",
    "#Fit the model\n",
    "model3.fit(padded_sequences_train, y_train, validation_split = 0.2, epochs=10, callbacks=[es])"
   ]
  },
  {
   "cell_type": "code",
   "execution_count": null,
   "metadata": {
    "colab": {
     "base_uri": "https://localhost:8080/"
    },
    "id": "zDjr9d2hV46G",
    "outputId": "98fea0e9-8d96-4c34-a048-0b7f73419e7e"
   },
   "outputs": [
    {
     "name": "stderr",
     "output_type": "stream",
     "text": [
      "WARNING:absl:<keras.layers.recurrent.LSTMCell object at 0x7f0456075110> has the same name 'LSTMCell' as a built-in Keras object. Consider renaming <class 'keras.layers.recurrent.LSTMCell'> to avoid naming conflicts when loading with `tf.keras.models.load_model`. If renaming is not possible, pass the object in the `custom_objects` parameter of the load function.\n"
     ]
    }
   ],
   "source": [
    "model3.save(DATA_PATH + \"final_model\")"
   ]
  },
  {
   "cell_type": "markdown",
   "metadata": {
    "id": "e7BYbX5PWHXC"
   },
   "source": [
    "# Kaggle Submission and Conclusion\n",
    "\n",
    "Overall, we received an F1 Score of 0.781 when submitting our model to Kaggle. Our model highly overfit out data. To fix this we could have updated the methods we used. We could have used less neurons. Also, we could have used a simpler model. Also, we could have removed the Dense layer from the model and used only the LSTM layer. All three would have had better validation scores.\n",
    "\n",
    "Also, we could have tuned our hyperparameters more. This could boost our F1 score a couple percent. In the real world, this is a lot!"
   ]
  },
  {
   "cell_type": "code",
   "execution_count": null,
   "metadata": {
    "colab": {
     "base_uri": "https://localhost:8080/"
    },
    "id": "7SwDh3p7WVq8",
    "outputId": "0557e46d-ca48-4ae8-c7c8-d6c9a9839756"
   },
   "outputs": [
    {
     "data": {
      "text/plain": [
       "array([1, 1, 1, ..., 1, 1, 1])"
      ]
     },
     "execution_count": 62,
     "metadata": {},
     "output_type": "execute_result"
    }
   ],
   "source": [
    "final_model = load_model(DATA_PATH + \"final_model\")\n",
    "padded_sequences_test = pad_sequences(sequences_test, maxlen=26 )\n",
    "predictions = final_model.predict(padded_sequences_test)\n",
    "predictions = np.array(tf.greater(predictions, 0.5)).astype(int)\n",
    "predictions = predictions.ravel()\n",
    "predictions"
   ]
  },
  {
   "cell_type": "code",
   "execution_count": null,
   "metadata": {
    "id": "W_sQs1R_YReF"
   },
   "outputs": [],
   "source": [
    "test_df.drop(\"text\", axis=1, inplace=True)"
   ]
  },
  {
   "cell_type": "code",
   "execution_count": null,
   "metadata": {
    "id": "XMm2Kj-FYWgY"
   },
   "outputs": [],
   "source": [
    "test_df['target'] = list(predictions)"
   ]
  },
  {
   "cell_type": "code",
   "execution_count": null,
   "metadata": {
    "id": "dwfuDNYiZICt"
   },
   "outputs": [],
   "source": [
    "test_df.to_csv(DATA_PATH + 'test_preds.csv', index = False)"
   ]
  },
  {
   "cell_type": "code",
   "execution_count": null,
   "metadata": {
    "colab": {
     "base_uri": "https://localhost:8080/",
     "height": 279
    },
    "id": "sfKKR-m0ZWbQ",
    "outputId": "1a90c528-4a57-4228-e877-9ba6a229ddb1"
   },
   "outputs": [
    {
     "data": {
      "image/png": "[encoded data removed]",
      "text/plain": [
       "<IPython.core.display.Image object>"
      ]
     },
     "execution_count": 78,
     "metadata": {},
     "output_type": "execute_result"
    }
   ],
   "source": [
    "Image(\"data/screenshot.png\")"
   ]
  }
 ],
 "metadata": {
  "colab": {
   "collapsed_sections": [],
   "name": "disaster_tweets",
   "provenance": []
  },
  "kernelspec": {
   "display_name": "Python 3 (ipykernel)",
   "language": "python",
   "name": "python3"
  },
  "language_info": {
   "codemirror_mode": {
    "name": "ipython",
    "version": 3
   },
   "file_extension": ".py",
   "mimetype": "text/x-python",
   "name": "python",
   "nbconvert_exporter": "python",
   "pygments_lexer": "ipython3",
   "version": "3.9.0"
  },
  "vscode": {
   "interpreter": {
    "hash": "7812ea015bdcee6f23a998adcdd2ef97c151c0c241b7b7070987d9313e41299d"
   }
  }
 },
 "nbformat": 4,
 "nbformat_minor": 1
}
