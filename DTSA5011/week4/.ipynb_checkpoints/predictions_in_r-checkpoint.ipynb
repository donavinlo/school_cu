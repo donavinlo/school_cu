{
 "cells": [
  {
   "cell_type": "markdown",
   "metadata": {},
   "source": [
    "# Making predictions using real data in R\n",
    "\n",
    "\n",
    "Consider again our marketing data:\n",
    "\n",
    "\n",
    "The following dataset containts measurements related to the impact of three advertising medias on sales of a product, $P$. The variables are:\n",
    "\n",
    "- `youtube`: the advertising budget allocated to YouTube. Measured in thousands of dollars;\n",
    "\n",
    "- `facebook`: the advertising budget allocated to Facebook. Measured in thousands of dollars; and \n",
    "\n",
    "- `newspaper`: the advertising budget allocated to a local newspaper. Measured in thousands of dollars.\n",
    "\n",
    "- `sales`: the value in the $i^{th}$ row of the sales column is a measurement of the sales (in thousands of units) for product $P$ for company $i$.\n",
    "\n",
    "The advertising data treat \"a company selling product $P$\" as the statistical unit, and \"all companies selling product $P$\" as the population. We assume that the $n = 200$ companies in the dataset were chosen at random from the population (a strong assumption!).\n",
    "\n",
    "First, we'll read in the data and split it into a training set and a testing set."
   ]
  },
  {
   "cell_type": "code",
   "execution_count": 2,
   "metadata": {},
   "outputs": [
    {
     "name": "stderr",
     "output_type": "stream",
     "text": [
      "Loading required package: bitops\n",
      "Registered S3 methods overwritten by 'ggplot2':\n",
      "  method         from \n",
      "  [.quosures     rlang\n",
      "  c.quosures     rlang\n",
      "  print.quosures rlang\n"
     ]
    }
   ],
   "source": [
    "library(RCurl) #a package that includes the function getURL(), which allows for reading data from github.\n",
    "library(ggplot2)\n",
    "url = getURL(\"https://raw.githubusercontent.com/bzaharatos/-Statistical-Modeling-for-Data-Science-Applications/master/Modern%20Regression%20Analysis%20/Datasets/marketing.txt\")\n",
    "marketing = read.csv(text = url, sep = \"\")"
   ]
  },
  {
   "cell_type": "code",
   "execution_count": 3,
   "metadata": {},
   "outputs": [
    {
     "data": {
      "text/html": [
       "<ol class=list-inline>\n",
       "\t<li>40</li>\n",
       "\t<li>4</li>\n",
       "</ol>\n"
      ],
      "text/latex": [
       "\\begin{enumerate*}\n",
       "\\item 40\n",
       "\\item 4\n",
       "\\end{enumerate*}\n"
      ],
      "text/markdown": [
       "1. 40\n",
       "2. 4\n",
       "\n",
       "\n"
      ],
      "text/plain": [
       "[1] 40  4"
      ]
     },
     "metadata": {},
     "output_type": "display_data"
    },
    {
     "data": {
      "text/html": [
       "<ol class=list-inline>\n",
       "\t<li>160</li>\n",
       "\t<li>4</li>\n",
       "</ol>\n"
      ],
      "text/latex": [
       "\\begin{enumerate*}\n",
       "\\item 160\n",
       "\\item 4\n",
       "\\end{enumerate*}\n"
      ],
      "text/markdown": [
       "1. 160\n",
       "2. 4\n",
       "\n",
       "\n"
      ],
      "text/plain": [
       "[1] 160   4"
      ]
     },
     "metadata": {},
     "output_type": "display_data"
    }
   ],
   "source": [
    "set.seed(17711) #set the random number generator seed.\n",
    "n = floor(0.8 * nrow(marketing)) #find the number corresponding to 80% of the data\n",
    "index = sample(seq_len(nrow(marketing)), size = n) #randomly sample indicies to be included in the training set\n",
    "\n",
    "train = marketing[index, ] #set the training set to be the randomly sampled rows of the dataframe\n",
    "test = marketing[-index, ] #set the testing set to be the remaining rows\n",
    "dim(test) #check the dimensions\n",
    "dim(train) #check the dimensions"
   ]
  },
  {
   "cell_type": "markdown",
   "metadata": {},
   "source": [
    "Next, we'll fit our linear model to the training data, with `sales` as the response, and `facebook`, `youtube` and `newspaper` as predictors."
   ]
  },
  {
   "cell_type": "code",
   "execution_count": 4,
   "metadata": {},
   "outputs": [
    {
     "data": {
      "text/plain": [
       "\n",
       "Call:\n",
       "lm(formula = sales ~ youtube + facebook + newspaper, data = train)\n",
       "\n",
       "Residuals:\n",
       "   Min     1Q Median     3Q    Max \n",
       "-6.217 -1.173  0.236  1.516  3.397 \n",
       "\n",
       "Coefficients:\n",
       "             Estimate Std. Error t value Pr(>|t|)    \n",
       "(Intercept)  3.563341   0.385414   9.245   <2e-16 ***\n",
       "youtube      0.046087   0.001467  31.408   <2e-16 ***\n",
       "facebook     0.192086   0.008809  21.805   <2e-16 ***\n",
       "newspaper   -0.005099   0.006027  -0.846    0.399    \n",
       "---\n",
       "Signif. codes:  0 ‘***’ 0.001 ‘**’ 0.01 ‘*’ 0.05 ‘.’ 0.1 ‘ ’ 1\n",
       "\n",
       "Residual standard error: 1.889 on 156 degrees of freedom\n",
       "Multiple R-squared:  0.9115,\tAdjusted R-squared:  0.9098 \n",
       "F-statistic: 535.6 on 3 and 156 DF,  p-value: < 2.2e-16\n"
      ]
     },
     "metadata": {},
     "output_type": "display_data"
    }
   ],
   "source": [
    "lm_marketing = lm(sales ~ youtube + facebook + newspaper, data = train)\n",
    "summary(lm_marketing)"
   ]
  },
  {
   "cell_type": "markdown",
   "metadata": {},
   "source": [
    "Now, let's extract some values from the testing set, and use them to make predictions."
   ]
  },
  {
   "cell_type": "code",
   "execution_count": 9,
   "metadata": {},
   "outputs": [
    {
     "data": {
      "text/html": [
       "<table>\n",
       "<thead><tr><th></th><th scope=col>youtube</th><th scope=col>facebook</th><th scope=col>newspaper</th><th scope=col>sales</th></tr></thead>\n",
       "<tbody>\n",
       "\t<tr><th scope=row>63</th><td>287.16</td><td>18.60 </td><td>32.76 </td><td>18.84 </td></tr>\n",
       "\t<tr><th scope=row>115</th><td> 93.84</td><td>56.16 </td><td>41.40 </td><td>17.52 </td></tr>\n",
       "\t<tr><th scope=row>169</th><td>258.48</td><td>28.32 </td><td>69.12 </td><td>20.52 </td></tr>\n",
       "\t<tr><th scope=row>121</th><td>169.56</td><td>32.16 </td><td>55.44 </td><td>18.60 </td></tr>\n",
       "\t<tr><th scope=row>21</th><td>262.08</td><td>33.24 </td><td>64.08 </td><td>21.60 </td></tr>\n",
       "</tbody>\n",
       "</table>\n"
      ],
      "text/latex": [
       "\\begin{tabular}{r|llll}\n",
       "  & youtube & facebook & newspaper & sales\\\\\n",
       "\\hline\n",
       "\t63 & 287.16 & 18.60  & 32.76  & 18.84 \\\\\n",
       "\t115 &  93.84 & 56.16  & 41.40  & 17.52 \\\\\n",
       "\t169 & 258.48 & 28.32  & 69.12  & 20.52 \\\\\n",
       "\t121 & 169.56 & 32.16  & 55.44  & 18.60 \\\\\n",
       "\t21 & 262.08 & 33.24  & 64.08  & 21.60 \\\\\n",
       "\\end{tabular}\n"
      ],
      "text/markdown": [
       "\n",
       "| <!--/--> | youtube | facebook | newspaper | sales |\n",
       "|---|---|---|---|---|\n",
       "| 63 | 287.16 | 18.60  | 32.76  | 18.84  |\n",
       "| 115 |  93.84 | 56.16  | 41.40  | 17.52  |\n",
       "| 169 | 258.48 | 28.32  | 69.12  | 20.52  |\n",
       "| 121 | 169.56 | 32.16  | 55.44  | 18.60  |\n",
       "| 21 | 262.08 | 33.24  | 64.08  | 21.60  |\n",
       "\n"
      ],
      "text/plain": [
       "    youtube facebook newspaper sales\n",
       "63  287.16  18.60    32.76     18.84\n",
       "115  93.84  56.16    41.40     17.52\n",
       "169 258.48  28.32    69.12     20.52\n",
       "121 169.56  32.16    55.44     18.60\n",
       "21  262.08  33.24    64.08     21.60"
      ]
     },
     "metadata": {},
     "output_type": "display_data"
    },
    {
     "data": {
      "text/html": [
       "<table>\n",
       "<thead><tr><th></th><th scope=col>fit</th><th scope=col>lwr</th><th scope=col>upr</th></tr></thead>\n",
       "<tbody>\n",
       "\t<tr><th scope=row>63</th><td>20.20</td><td>16.44</td><td>23.96</td></tr>\n",
       "\t<tr><th scope=row>115</th><td>18.46</td><td>14.68</td><td>22.25</td></tr>\n",
       "\t<tr><th scope=row>169</th><td>20.56</td><td>16.80</td><td>24.33</td></tr>\n",
       "\t<tr><th scope=row>121</th><td>17.27</td><td>13.52</td><td>21.02</td></tr>\n",
       "\t<tr><th scope=row>21</th><td>21.70</td><td>17.94</td><td>25.46</td></tr>\n",
       "</tbody>\n",
       "</table>\n"
      ],
      "text/latex": [
       "\\begin{tabular}{r|lll}\n",
       "  & fit & lwr & upr\\\\\n",
       "\\hline\n",
       "\t63 & 20.20 & 16.44 & 23.96\\\\\n",
       "\t115 & 18.46 & 14.68 & 22.25\\\\\n",
       "\t169 & 20.56 & 16.80 & 24.33\\\\\n",
       "\t121 & 17.27 & 13.52 & 21.02\\\\\n",
       "\t21 & 21.70 & 17.94 & 25.46\\\\\n",
       "\\end{tabular}\n"
      ],
      "text/markdown": [
       "\n",
       "| <!--/--> | fit | lwr | upr |\n",
       "|---|---|---|---|\n",
       "| 63 | 20.20 | 16.44 | 23.96 |\n",
       "| 115 | 18.46 | 14.68 | 22.25 |\n",
       "| 169 | 20.56 | 16.80 | 24.33 |\n",
       "| 121 | 17.27 | 13.52 | 21.02 |\n",
       "| 21 | 21.70 | 17.94 | 25.46 |\n",
       "\n"
      ],
      "text/plain": [
       "    fit   lwr   upr  \n",
       "63  20.20 16.44 23.96\n",
       "115 18.46 14.68 22.25\n",
       "169 20.56 16.80 24.33\n",
       "121 17.27 13.52 21.02\n",
       "21  21.70 17.94 25.46"
      ]
     },
     "metadata": {},
     "output_type": "display_data"
    }
   ],
   "source": [
    "set.seed(1101)\n",
    "index = sample(seq_len(nrow(test)), size = 5)\n",
    "test[index,]\n",
    "star = test[index,]\n",
    "round(predict(lm_marketing, new = star, interval = \"prediction\"),2)"
   ]
  },
  {
   "cell_type": "markdown",
   "metadata": {},
   "source": [
    "We can also make these predictions \"by hand\"."
   ]
  },
  {
   "cell_type": "code",
   "execution_count": 6,
   "metadata": {},
   "outputs": [
    {
     "name": "stdout",
     "output_type": "stream",
     "text": [
      "The prediction interval is 16.44 23.96 ."
     ]
    }
   ],
   "source": [
    "alpha = 0.05\n",
    "b = coef(lm_marketing) #parameter estimates\n",
    "dof = length(train$sales) - length(b) #degrees of freedom\n",
    "rss = sum(resid(lm_marketing)^2) #used to estimate sigma^2\n",
    "sig2hat = rss/dof \n",
    "X = model.matrix(lm_marketing) #used in the standard error calculation\n",
    "xstar_matrix = data.matrix(star[1:3]) #predictors from subset of test set\n",
    "y_star_hat = cbind(1, xstar_matrix)%*%b #predicted values\n",
    "\n",
    "l = y_star_hat[1] - qt(1-alpha/2, dof)* sqrt(sig2hat*\n",
    "    (cbind(1,t(xstar_matrix[1,]))%*%solve(t(X)%*%X)%*%t(cbind(1,t(xstar_matrix[1,])))+1))\n",
    "u = y_star_hat[1] + qt(1-alpha/2, dof)* sqrt(sig2hat*\n",
    "    (cbind(1,t(xstar_matrix[1,]))%*%solve(t(X)%*%X)%*%t(cbind(1,t(xstar_matrix[1,])))+1))\n",
    "pi = round(c(l,u), 2); \n",
    "cat(\"The prediction interval is\", pi, \".\")"
   ]
  },
  {
   "cell_type": "markdown",
   "metadata": {},
   "source": [
    "We can interpret this prediction interval as follows: we are $95\\%$ confident that, if a new company selling product $P$ entered the market with a YouTube marketing budget of $\\$287,160$, a Facebook marketing budget of $\\$18,600$, and a newspaper marketing budget of $\\$32,760$, they would sell between $16,440$ and $23,960$ units of product $P$. Let's unpack what we mean by \"confidence\". A proper interpretation of confidence requires that we imagine the following procedure:\n",
    "\n",
    "1. fix the predictors in the training data, and resample the response many times;\n",
    "\n",
    "\n",
    "2. fit the model to each resample of the training data;\n",
    "\n",
    "\n",
    "3. compute the prediction interval at the same values of the response, namely, `youtube` $=287.16$, `facebook` $=18.60$, and `newspaper` $=32.76$ for each model from 2.\n",
    "\n",
    "Among these prediction intervals, $95\\%$ would cover the true value of the response.\n",
    "\n",
    "In this case, since we're predicting a value of the response that was recorded and put in the testing set, we know the true values of `sales` to be $18.84$, or $18,840$ units. So, our interval covers the true value.\n",
    "\n",
    "Let's contrast that with a confidence interval for the mean value of sales of product $P$, given a set of predictors:"
   ]
  },
  {
   "cell_type": "code",
   "execution_count": 10,
   "metadata": {},
   "outputs": [
    {
     "data": {
      "text/html": [
       "<table>\n",
       "<thead><tr><th></th><th scope=col>fit</th><th scope=col>lwr</th><th scope=col>upr</th></tr></thead>\n",
       "<tbody>\n",
       "\t<tr><th scope=row>63</th><td>20.20</td><td>19.74</td><td>20.67</td></tr>\n",
       "\t<tr><th scope=row>115</th><td>18.46</td><td>17.84</td><td>19.09</td></tr>\n",
       "\t<tr><th scope=row>169</th><td>20.56</td><td>20.04</td><td>21.09</td></tr>\n",
       "\t<tr><th scope=row>121</th><td>17.27</td><td>16.91</td><td>17.64</td></tr>\n",
       "\t<tr><th scope=row>21</th><td>21.70</td><td>21.22</td><td>22.18</td></tr>\n",
       "</tbody>\n",
       "</table>\n"
      ],
      "text/latex": [
       "\\begin{tabular}{r|lll}\n",
       "  & fit & lwr & upr\\\\\n",
       "\\hline\n",
       "\t63 & 20.20 & 19.74 & 20.67\\\\\n",
       "\t115 & 18.46 & 17.84 & 19.09\\\\\n",
       "\t169 & 20.56 & 20.04 & 21.09\\\\\n",
       "\t121 & 17.27 & 16.91 & 17.64\\\\\n",
       "\t21 & 21.70 & 21.22 & 22.18\\\\\n",
       "\\end{tabular}\n"
      ],
      "text/markdown": [
       "\n",
       "| <!--/--> | fit | lwr | upr |\n",
       "|---|---|---|---|\n",
       "| 63 | 20.20 | 19.74 | 20.67 |\n",
       "| 115 | 18.46 | 17.84 | 19.09 |\n",
       "| 169 | 20.56 | 20.04 | 21.09 |\n",
       "| 121 | 17.27 | 16.91 | 17.64 |\n",
       "| 21 | 21.70 | 21.22 | 22.18 |\n",
       "\n"
      ],
      "text/plain": [
       "    fit   lwr   upr  \n",
       "63  20.20 19.74 20.67\n",
       "115 18.46 17.84 19.09\n",
       "169 20.56 20.04 21.09\n",
       "121 17.27 16.91 17.64\n",
       "21  21.70 21.22 22.18"
      ]
     },
     "metadata": {},
     "output_type": "display_data"
    }
   ],
   "source": [
    "round(predict(lm_marketing, new = star, interval = \"confidence\"),2)"
   ]
  },
  {
   "cell_type": "markdown",
   "metadata": {},
   "source": [
    "We can interpret this confidence interval as follows: we are $95\\%$ confident that a new company selling product $P$ with a YouTube marketing budget of $\\$287,160$, a Facebook marketing budget of $\\$18,600$, and a newspaper marketing budget of $\\$32,760$, can expect to sell between $19,740$ and $20,670$ units of product $P$, *on average*.\n",
    "\n",
    "Notice how much smaller the confidence interval for the mean is when compared to the prediction interval for a new value of the response!"
   ]
  },
  {
   "cell_type": "markdown",
   "metadata": {},
   "source": [
    "## Mean squared prediction error\n",
    "\n",
    "Now let's move on to the mean squared prediction error as a way of comparing predictive models. First, we'll fit a new, reduced model, without `newspaper`."
   ]
  },
  {
   "cell_type": "code",
   "execution_count": 7,
   "metadata": {},
   "outputs": [
    {
     "data": {
      "text/plain": [
       "\n",
       "Call:\n",
       "lm(formula = sales ~ youtube + facebook, data = train)\n",
       "\n",
       "Residuals:\n",
       "    Min      1Q  Median      3Q     Max \n",
       "-6.4413 -1.1186  0.2483  1.4107  3.4251 \n",
       "\n",
       "Coefficients:\n",
       "            Estimate Std. Error t value Pr(>|t|)    \n",
       "(Intercept) 3.458149   0.364475   9.488   <2e-16 ***\n",
       "youtube     0.045969   0.001459  31.498   <2e-16 ***\n",
       "facebook    0.189898   0.008413  22.571   <2e-16 ***\n",
       "---\n",
       "Signif. codes:  0 ‘***’ 0.001 ‘**’ 0.01 ‘*’ 0.05 ‘.’ 0.1 ‘ ’ 1\n",
       "\n",
       "Residual standard error: 1.887 on 157 degrees of freedom\n",
       "Multiple R-squared:  0.9111,\tAdjusted R-squared:   0.91 \n",
       "F-statistic: 804.4 on 2 and 157 DF,  p-value: < 2.2e-16\n"
      ]
     },
     "metadata": {},
     "output_type": "display_data"
    }
   ],
   "source": [
    "lm_marketing2 = lm(sales ~ youtube + facebook, data = train)\n",
    "summary(lm_marketing2)"
   ]
  },
  {
   "cell_type": "markdown",
   "metadata": {},
   "source": [
    "Now let's compare our two models using the MSPE (using the training set)."
   ]
  },
  {
   "cell_type": "code",
   "execution_count": 8,
   "metadata": {},
   "outputs": [
    {
     "data": {
      "text/html": [
       "6.20283983769489"
      ],
      "text/latex": [
       "6.20283983769489"
      ],
      "text/markdown": [
       "6.20283983769489"
      ],
      "text/plain": [
       "[1] 6.20284"
      ]
     },
     "metadata": {},
     "output_type": "display_data"
    },
    {
     "data": {
      "text/html": [
       "6.09375874553239"
      ],
      "text/latex": [
       "6.09375874553239"
      ],
      "text/markdown": [
       "6.09375874553239"
      ],
      "text/plain": [
       "[1] 6.093759"
      ]
     },
     "metadata": {},
     "output_type": "display_data"
    },
    {
     "data": {
      "text/html": [
       "FALSE"
      ],
      "text/latex": [
       "FALSE"
      ],
      "text/markdown": [
       "FALSE"
      ],
      "text/plain": [
       "[1] FALSE"
      ]
     },
     "metadata": {},
     "output_type": "display_data"
    }
   ],
   "source": [
    "#the full model\n",
    "#mseTrain = mean(lm_marketing$resid^2); mseTrain\n",
    "#with(train, sum((sales - predict(lm_marketing))^2))/n\n",
    "pred = predict(lm_marketing, test);\n",
    "mseTest = mean((test$sales - pred)^2); mseTest\n",
    "\n",
    "#the reduced model\n",
    "pred2 = predict(lm_marketing2, test);\n",
    "mseTest2 = mean((test$sales - pred2)^2); mseTest2\n",
    "mseTest < mseTest2"
   ]
  },
  {
   "cell_type": "markdown",
   "metadata": {},
   "source": [
    "The reduced model does better, in terms of the MSPE, than the full model. This is consistent with our t-test result, providing more evidence that the reduced model would be better than the full model."
   ]
  },
  {
   "cell_type": "code",
   "execution_count": null,
   "metadata": {},
   "outputs": [],
   "source": []
  }
 ],
 "metadata": {
  "kernelspec": {
   "display_name": "R",
   "language": "R",
   "name": "ir"
  },
  "language_info": {
   "codemirror_mode": "r",
   "file_extension": ".r",
   "mimetype": "text/x-r-source",
   "name": "R",
   "pygments_lexer": "r",
   "version": "3.6.1"
  }
 },
 "nbformat": 4,
 "nbformat_minor": 2
}
