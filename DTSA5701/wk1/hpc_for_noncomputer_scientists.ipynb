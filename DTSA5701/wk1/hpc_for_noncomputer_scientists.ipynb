{
 "cells": [
  {
   "cell_type": "markdown",
   "id": "b78d2743",
   "metadata": {},
   "source": [
    "# HPC For NonComputer Scientists"
   ]
  },
  {
   "cell_type": "markdown",
   "id": "0f8c4fbc",
   "metadata": {},
   "source": [
    "## *Linux*\n",
    "Here we will go over the important commands of Linux we will use in this course:"
   ]
  },
  {
   "cell_type": "markdown",
   "id": "661543f5",
   "metadata": {},
   "source": [
    "### pwd\n",
    "- 'Print working directory'  \n",
    "- tells which directory we are currently in"
   ]
  },
  {
   "cell_type": "markdown",
   "id": "58e59e81",
   "metadata": {},
   "source": [
    "### ls\n",
    "- lists contents of a directory"
   ]
  },
  {
   "cell_type": "markdown",
   "id": "4bbe64d4",
   "metadata": {},
   "source": [
    "### man\n",
    "- helps give us all the information of using a command\n",
    "  - Any flags that we can use with the command we're interested in\n",
    "- ex) 'man ls' will give everything we need for the ls command"
   ]
  },
  {
   "cell_type": "markdown",
   "id": "f9edc1fe",
   "metadata": {},
   "source": [
    "### cd\n",
    "- helps move from one directory to another\n",
    "- ex) 'cd projects/mooc/'\n",
    "- 'cd ..' would take us back up a folder\n",
    "- 'cd ~' or 'cd' will take us back to our home directory"
   ]
  },
  {
   "cell_type": "markdown",
   "id": "c5fa333c",
   "metadata": {},
   "source": [
    "### mkdir\n",
    "- creates a new directory\n",
    "- 'mkdir test' creates a directory named test"
   ]
  },
  {
   "cell_type": "markdown",
   "id": "26a12a3d",
   "metadata": {},
   "source": [
    "### touch\n",
    "- creates a new file (same syntax as makedir)"
   ]
  },
  {
   "cell_type": "markdown",
   "id": "fbcd99ab",
   "metadata": {},
   "source": [
    "### mv\n",
    "- moves a file to another directory\n",
    "- 'mv test.txt test' movest the text file to the test directory\n",
    "- can also use to rename a file\n",
    "- 'mv test.txt test1.txt' changest test.txt to file name test1.txt"
   ]
  },
  {
   "cell_type": "markdown",
   "id": "ec129803",
   "metadata": {},
   "source": [
    "### cp\n",
    "- copies a file\n",
    "- 'cp text1.txt text2.txt'\n",
    "- to cop a directory we need to use -R flage"
   ]
  },
  {
   "cell_type": "markdown",
   "id": "b6d1cbbf",
   "metadata": {},
   "source": [
    "### rm\n",
    "- remove a file\n",
    "- use -R flag to remove a directory\n",
    "- Will be gone forevery once it's removed"
   ]
  },
  {
   "cell_type": "markdown",
   "id": "1d0ba780",
   "metadata": {},
   "source": [
    "## *Accessing Remote Systems*\n"
   ]
  },
  {
   "cell_type": "markdown",
   "id": "98b538b1",
   "metadata": {},
   "source": [
    "- A remote system is one that you are accessing from another computer  \n",
    "- Unless you have built a cluster at home, or work in an HPC center, most HPC systems will require remote access\n",
    "- Two ways one interacts with a remote system\n",
    "  - Logging in\n",
    "  - File transfer\n",
    " "
   ]
  },
  {
   "cell_type": "markdown",
   "id": "26ac864d",
   "metadata": {},
   "source": [
    "###### Logging in\n",
    "- Generally, one uses an ssh protocol to login to a remote system. \n",
    "- Provides a secure channel over which one can remotely connect\n",
    "- Authenticate connection through keys, public and private\n",
    "- Example: ssh username@remote.hostname\n",
    "- Might have some flags after the ssh\n",
    "  - -X is important\n",
    "    - Enables X11 forwarding\n",
    "    - If we have an image from a remote system that we want to use on the computer in front of us"
   ]
  },
  {
   "cell_type": "markdown",
   "id": "914cde41",
   "metadata": {},
   "source": [
    "###### File Transfer\n",
    "- Recommend several ways\n",
    "  - Depends on your needs and size of data\n",
    "  - scp, sftp, wget, rsync, Globus file transfer\n",
    "  - scp and sftp are good because they are secure\n",
    "- Ex) scp /home/udername/file.txt username@remote.hostname:/home/username  \n",
    "- scp username@remote.hostname:/home/username/file.txt .\n",
    "  - transferrs from the home directory to the last listed directory. "
   ]
  },
  {
   "cell_type": "markdown",
   "id": "6099b73d",
   "metadata": {},
   "source": [
    "## *File Systems*"
   ]
  },
  {
   "cell_type": "markdown",
   "id": "24967d6c",
   "metadata": {},
   "source": [
    "##### Typical Types of Files\n",
    "- Three types of storage spaces users are typically allocates on HPC infrastructure\n",
    "  - Home\n",
    "  - Projects or Work\n",
    "  - Scratch\n",
    "- Each space is important for different reasons, and understanding the difference between each is imperative"
   ]
  },
  {
   "cell_type": "markdown",
   "id": "4f85b53c",
   "metadata": {},
   "source": [
    "##### Home\n",
    "- /Home is intended for the use of the owner of this space only\n",
    "- It's found at /home/\\$USER or ~  \n",
    "- Usually this space is backed up\n",
    "- Also, generally allocated a small amount of space -on the order of 5 GB, varies\n",
    "- Usually where you land when you login\n",
    "- Test: login, type pwd\n",
    "- Types of files kept in\n",
    " - Scripts\n",
    " - Code\n",
    " - Very Small Files\n",
    " - Inappropriate for sharing files with others\n",
    " - Inapproprirate for job output\n"
   ]
  },
  {
   "cell_type": "markdown",
   "id": "41831e19",
   "metadata": {},
   "source": [
    "##### Projects or Work\n",
    "- Generally a space for mid-level sized data\n",
    "- Might have approximately 250-500 GB of space available\n",
    "- Sometimes backed up\n",
    "- For us: /projects/\\$user\n",
    "- type: cd/projects/\\$USER\n",
    "- Types of files kept in\n",
    " - Codes, files, libraries relevant for any software you are installing (if wanting to share)\n",
    " - Mid-level size input files\n",
    " - Appropriate for sharing files with others\n",
    " - Inappropriate for job output"
   ]
  },
  {
   "cell_type": "markdown",
   "id": "ca813653",
   "metadata": {},
   "source": [
    "##### Scratch\n",
    "- Scratch space is available on most HPC systems\n",
    "- Usually, a much larger space\n",
    "- Temporary space\n",
    "- Usually not backed up\n",
    "- type cd/scracth/$USER\n",
    "- Types of files kept in\n",
    " - Output from running jobs\n",
    " - Large files\n",
    " - Appropriate for sharing files with others\n",
    " - THIS IS NOT APPROPRIATE FOR LONG TERM STORAGE"
   ]
  },
  {
   "cell_type": "markdown",
   "id": "d25c4bb6",
   "metadata": {},
   "source": [
    "## *Bash Scripting*"
   ]
  },
  {
   "cell_type": "markdown",
   "id": "ce42aa9c",
   "metadata": {},
   "source": [
    "##### What is a shell?\n",
    "- A shell is the enviroment in which commans are interpreted in Linux\n",
    "- GNU/Linux provides various shells; bash most popular\n",
    " - sh\n",
    " - csh\n",
    " - tcsh\n",
    " - ksh\n",
    "- Shell scripts are files containing collections of commands for Linux systems that can be executed as programs\n",
    " - contains commans so we don't have to use them over and over again"
   ]
  },
  {
   "cell_type": "markdown",
   "id": "cd2150f2",
   "metadata": {},
   "source": [
    "##### Bash Script\n",
    "- to create a bash script file, the first line must be\n",
    " - #!/bin/bash\n",
    "- Program loader recognizes the #!, and the /bin/bash part tells the interpreter which shell should be run\n",
    "- Command Examples\n",
    " - 'echo \"Hello!\" > file.out' prints the statement\n",
    " - 'echo \"Hello!\" >> file.out' pends the statement at the bottom of the file\n",
    " "
   ]
  },
  {
   "cell_type": "markdown",
   "id": "522d3152",
   "metadata": {},
   "source": [
    "##### Variables\n",
    "- Shell variables are local\n",
    "- Enviroment variables are global\n",
    "  - Contain data that are used by one or more applications\n",
    "- Several pre-defined enviroment variables in your container\n",
    "  - Type \"env\" in the terminal window\n",
    "- Examples\n",
    "  - name=(CU Boulder). This creates the avariable name and places it in an arrray\n",
    "    - echo \\${name[0]}. This prints out the first variable of the 'name' array. \n",
    "  - \\$Home\n",
    "    - echo \\$HOME\n",
    "     - This prints out the HOME variable\n",
    "  - var=\\$(pwd)\n",
    "    - This sets a command to a variable\n",
    "    - echo\\$var\n",
    "   - The dollar sign prints out the output of that variable"
   ]
  },
  {
   "cell_type": "markdown",
   "id": "6e7280eb",
   "metadata": {},
   "source": [
    "##### Loops"
   ]
  },
  {
   "cell_type": "markdown",
   "id": "9f350ab5",
   "metadata": {},
   "source": [
    "###### While Loop\n",
    "x=0\n",
    "- while \\[\\ $x -lt 10\\]; do\n",
    "  - echo \\$x\n",
    "  - x = \\$((\\$x+1))\n",
    "- done\n",
    "    "
   ]
  },
  {
   "cell_type": "markdown",
   "id": "c83ba3f0",
   "metadata": {},
   "source": [
    "###### For loop\n",
    "- list=(a b c)\n",
    "- for v in \\${list[@]}; do\n",
    "  - echo $v\n",
    "- done\n",
    "  "
   ]
  },
  {
   "cell_type": "markdown",
   "id": "1e34136f",
   "metadata": {},
   "source": [
    "###### Permissions\n",
    "- Before you can run a script, you need to make sure the script has the appropriate permissions\n",
    "- At the command line, type, \"ls -l\"\n",
    "- Column 1: Permissions\n",
    "  - d, r, w, x\n",
    "    - Tells if directory and if that file has read, write or executable permissions for a certain group of people (position of the type of people listed below)\n",
    "  - Owner, group, global\n",
    "- Chmod changes permissions\n",
    "  - chmod +x filename.sh\n",
    "  - Makes the file exectuable for everyone\n",
    "- Run it using ./filename.sh\n",
    "- Could also have done bash filename.sh and avoided permissions"
   ]
  },
  {
   "cell_type": "markdown",
   "id": "d2246cc7",
   "metadata": {},
   "source": []
  },
  {
   "cell_type": "markdown",
   "id": "820efad4",
   "metadata": {},
   "source": []
  },
  {
   "cell_type": "code",
   "execution_count": null,
   "id": "6badf016",
   "metadata": {},
   "outputs": [],
   "source": []
  }
 ],
 "metadata": {
  "kernelspec": {
   "display_name": "Python 3 (ipykernel)",
   "language": "python",
   "name": "python3"
  },
  "language_info": {
   "codemirror_mode": {
    "name": "ipython",
    "version": 3
   },
   "file_extension": ".py",
   "mimetype": "text/x-python",
   "name": "python",
   "nbconvert_exporter": "python",
   "pygments_lexer": "ipython3",
   "version": "3.9.6"
  }
 },
 "nbformat": 4,
 "nbformat_minor": 5
}
