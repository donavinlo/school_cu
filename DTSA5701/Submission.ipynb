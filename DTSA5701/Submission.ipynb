{
 "cells": [
  {
   "cell_type": "markdown",
   "id": "796f56c8",
   "metadata": {},
   "source": [
    "How to submit Assignments"
   ]
  },
  {
   "cell_type": "markdown",
   "id": "4d06de87",
   "metadata": {},
   "source": [
    "First, navigate to the project directory. If you dont, will lose all work once the enviroment refreshes. Will submit from this folder as well."
   ]
  },
  {
   "cell_type": "markdown",
   "id": "0114e883",
   "metadata": {},
   "source": [
    "### Creating a Bash Script"
   ]
  },
  {
   "cell_type": "markdown",
   "id": "af715840",
   "metadata": {},
   "source": [
    "1) Open a text file at the bottom of the launcher  \n",
    "2) In top left type #!/bin/bash  \n",
    "3) Type in wanted commands  \n",
    "4) Save the file"
   ]
  },
  {
   "cell_type": "markdown",
   "id": "1ba58694",
   "metadata": {},
   "source": [
    "Test Bash Script"
   ]
  },
  {
   "cell_type": "markdown",
   "id": "53b31e41",
   "metadata": {},
   "source": [
    "1) Go to terminal from launcher  \n",
    "2) type: 'bash projects/week1-practiceLab/bash_assignment.sh'. \n",
    "- Basically, this is just the whole directory path with the file name at the end      \n",
    "\n",
    "3) Open new text file and type what you need to  \n",
    "4) Let's name this one 'practice_file.txt'  \n",
    "5) Create python3 jupter notebook and type in what you wanted (this example it was just 'hi'"
   ]
  },
  {
   "cell_type": "markdown",
   "id": "7885bcc7",
   "metadata": {},
   "source": [
    "Submitting File"
   ]
  },
  {
   "cell_type": "markdown",
   "id": "7d27f80a",
   "metadata": {},
   "source": [
    "1) Right click on the file wanting to submit  \n",
    "2) Choose 'Submit Coursera Assignment'  \n",
    "3) Should say 'Programming file submission succeeded'"
   ]
  },
  {
   "cell_type": "code",
   "execution_count": null,
   "id": "28103eec",
   "metadata": {},
   "outputs": [],
   "source": []
  }
 ],
 "metadata": {
  "kernelspec": {
   "display_name": "Python 3 (ipykernel)",
   "language": "python",
   "name": "python3"
  },
  "language_info": {
   "codemirror_mode": {
    "name": "ipython",
    "version": 3
   },
   "file_extension": ".py",
   "mimetype": "text/x-python",
   "name": "python",
   "nbconvert_exporter": "python",
   "pygments_lexer": "ipython3",
   "version": "3.9.6"
  }
 },
 "nbformat": 4,
 "nbformat_minor": 5
}
